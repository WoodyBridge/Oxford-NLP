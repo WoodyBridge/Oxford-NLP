{
 "cells": [
  {
   "cell_type": "markdown",
   "metadata": {},
   "source": [
    "# Appendix"
   ]
  },
  {
   "cell_type": "code",
   "execution_count": 1,
   "metadata": {},
   "outputs": [],
   "source": [
    "import os\n",
    "import pandas as pd\n",
    "import numpy as np\n",
    "from sklearn.feature_extraction import stop_words\n",
    "from collections import Counter\n",
    "import re\n",
    "\n",
    "import nltk\n",
    "from nltk import bigrams\n",
    "from nltk import trigrams\n",
    "\n",
    "import matplotlib.pyplot as plt\n",
    "import seaborn as sns"
   ]
  },
  {
   "cell_type": "markdown",
   "metadata": {},
   "source": [
    "# Import Listings"
   ]
  },
  {
   "cell_type": "code",
   "execution_count": 3,
   "metadata": {},
   "outputs": [
    {
     "name": "stderr",
     "output_type": "stream",
     "text": [
      "/anaconda3/lib/python3.6/site-packages/IPython/core/interactiveshell.py:2785: DtypeWarning: Columns (61,62,94) have mixed types. Specify dtype option on import or set low_memory=False.\n",
      "  interactivity=interactivity, compiler=compiler, result=result)\n"
     ]
    }
   ],
   "source": [
    "# London listings Feb 2019\n",
    "\n",
    "listings = pd.read_csv('listings_2019.csv')"
   ]
  },
  {
   "cell_type": "code",
   "execution_count": 176,
   "metadata": {},
   "outputs": [
    {
     "data": {
      "text/plain": [
       "Index(['id', 'listing_url', 'scrape_id', 'last_scraped', 'name', 'summary',\n",
       "       'space', 'description', 'experiences_offered', 'neighborhood_overview',\n",
       "       ...\n",
       "       'instant_bookable', 'is_business_travel_ready', 'cancellation_policy',\n",
       "       'require_guest_profile_picture', 'require_guest_phone_verification',\n",
       "       'calculated_host_listings_count',\n",
       "       'calculated_host_listings_count_entire_homes',\n",
       "       'calculated_host_listings_count_private_rooms',\n",
       "       'calculated_host_listings_count_shared_rooms', 'reviews_per_month'],\n",
       "      dtype='object', length=106)"
      ]
     },
     "execution_count": 176,
     "metadata": {},
     "output_type": "execute_result"
    }
   ],
   "source": [
    "listings.columns"
   ]
  },
  {
   "cell_type": "code",
   "execution_count": 174,
   "metadata": {},
   "outputs": [
    {
     "data": {
      "text/html": [
       "<div>\n",
       "<style scoped>\n",
       "    .dataframe tbody tr th:only-of-type {\n",
       "        vertical-align: middle;\n",
       "    }\n",
       "\n",
       "    .dataframe tbody tr th {\n",
       "        vertical-align: top;\n",
       "    }\n",
       "\n",
       "    .dataframe thead th {\n",
       "        text-align: right;\n",
       "    }\n",
       "</style>\n",
       "<table border=\"1\" class=\"dataframe\">\n",
       "  <thead>\n",
       "    <tr style=\"text-align: right;\">\n",
       "      <th></th>\n",
       "      <th>name</th>\n",
       "      <th>price</th>\n",
       "      <th>neighbourhood_cleansed</th>\n",
       "    </tr>\n",
       "  </thead>\n",
       "  <tbody>\n",
       "    <tr>\n",
       "      <th>63097</th>\n",
       "      <td>Modern En-suite Double bedroom near Canary Wharf</td>\n",
       "      <td>$44.00</td>\n",
       "      <td>Tower Hamlets</td>\n",
       "    </tr>\n",
       "    <tr>\n",
       "      <th>67612</th>\n",
       "      <td>Delightful apartment right next to Battersea P...</td>\n",
       "      <td>$95.00</td>\n",
       "      <td>Wandsworth</td>\n",
       "    </tr>\n",
       "    <tr>\n",
       "      <th>20133</th>\n",
       "      <td>Airy Studio Apartment in Kensington</td>\n",
       "      <td>$120.00</td>\n",
       "      <td>Kensington and Chelsea</td>\n",
       "    </tr>\n",
       "    <tr>\n",
       "      <th>71432</th>\n",
       "      <td>Stunning Studio with amazing garden space</td>\n",
       "      <td>$47.00</td>\n",
       "      <td>Hounslow</td>\n",
       "    </tr>\n",
       "    <tr>\n",
       "      <th>73475</th>\n",
       "      <td>Best flat in Central London, next to the Museums</td>\n",
       "      <td>$250.00</td>\n",
       "      <td>Kensington and Chelsea</td>\n",
       "    </tr>\n",
       "  </tbody>\n",
       "</table>\n",
       "</div>"
      ],
      "text/plain": [
       "                                                    name    price  \\\n",
       "63097   Modern En-suite Double bedroom near Canary Wharf   $44.00   \n",
       "67612  Delightful apartment right next to Battersea P...   $95.00   \n",
       "20133                Airy Studio Apartment in Kensington  $120.00   \n",
       "71432          Stunning Studio with amazing garden space   $47.00   \n",
       "73475   Best flat in Central London, next to the Museums  $250.00   \n",
       "\n",
       "       neighbourhood_cleansed  \n",
       "63097           Tower Hamlets  \n",
       "67612              Wandsworth  \n",
       "20133  Kensington and Chelsea  \n",
       "71432                Hounslow  \n",
       "73475  Kensington and Chelsea  "
      ]
     },
     "execution_count": 174,
     "metadata": {},
     "output_type": "execute_result"
    }
   ],
   "source": [
    "listings[['name','price','neighbourhood_cleansed']].sample(5) \n",
    "# (KER1)Comfy ... Remove brackets from start word"
   ]
  },
  {
   "cell_type": "code",
   "execution_count": 7,
   "metadata": {},
   "outputs": [],
   "source": [
    "# Remove Nan names\n",
    "listings_name_dropna = listings[~listings['name'].isna()]"
   ]
  },
  {
   "cell_type": "code",
   "execution_count": 10,
   "metadata": {},
   "outputs": [
    {
     "data": {
      "text/plain": [
       "[('★AMAZING★ Ensuite Rooms in Tottenham Hale!', 35),\n",
       " ('Double room', 34),\n",
       " ('Greater London Apartment', 34),\n",
       " ('London Multi-unit building', 24),\n",
       " ('Heathrow Airport Apartments (Peymans)', 22),\n",
       " ('Double Room', 20),\n",
       " ('2 bed/ 2 bathroom apartment, 15 mins to Canary Wharf', 20),\n",
       " ('Cosy Room w/ Shared Kitchen in Bethnal Green!', 20),\n",
       " ('Single room', 18),\n",
       " ('Central London Apartment', 16)]"
      ]
     },
     "execution_count": 10,
     "metadata": {},
     "output_type": "execute_result"
    }
   ],
   "source": [
    "Counter(list(listings_name_dropna['name'])).most_common(10)"
   ]
  },
  {
   "cell_type": "markdown",
   "metadata": {},
   "source": [
    "# Tokenization"
   ]
  },
  {
   "cell_type": "code",
   "execution_count": 8,
   "metadata": {},
   "outputs": [],
   "source": [
    "# normalize: all lowercase and un-capitalize\n",
    "\n",
    "import string\n",
    "length = []\n",
    "for name in listings_name_dropna['name']:\n",
    "    test = name.lower().strip().split(' ')\n",
    "    res = [s.translate(str.maketrans('', '', string.punctuation)) for s in test]\n",
    "    length.append(len(res))\n",
    "    \n",
    "    "
   ]
  },
  {
   "cell_type": "code",
   "execution_count": 9,
   "metadata": {},
   "outputs": [
    {
     "data": {
      "text/plain": [
       "6.352647760470486"
      ]
     },
     "execution_count": 9,
     "metadata": {},
     "output_type": "execute_result"
    }
   ],
   "source": [
    "# Average length of listing name\n",
    "sum(length)/len(length)"
   ]
  },
  {
   "cell_type": "code",
   "execution_count": 10,
   "metadata": {},
   "outputs": [],
   "source": [
    "# normalize: all lowercase and un-capitalize\n",
    "\n",
    "import string\n",
    "vocab_list = []\n",
    "for name in listings_name_dropna['name']:\n",
    "    test = name.lower().strip().split(' ')\n",
    "    res = [s.translate(str.maketrans('', '', string.punctuation)) for s in test]\n",
    "    vocab_list += res\n",
    "    \n",
    "    "
   ]
  },
  {
   "cell_type": "code",
   "execution_count": 11,
   "metadata": {},
   "outputs": [],
   "source": [
    "# 'Dirty' vocab dictionary - to use for prioritizing tokenization process\n",
    "vocab_dict = Counter(vocab_list)"
   ]
  },
  {
   "cell_type": "code",
   "execution_count": 12,
   "metadata": {},
   "outputs": [],
   "source": [
    "# Create df with relevant columns\n",
    "listings_df = listings_name_dropna[['name','price','neighbourhood_cleansed','zipcode']]"
   ]
  },
  {
   "cell_type": "code",
   "execution_count": 13,
   "metadata": {},
   "outputs": [
    {
     "data": {
      "text/html": [
       "<div>\n",
       "<style scoped>\n",
       "    .dataframe tbody tr th:only-of-type {\n",
       "        vertical-align: middle;\n",
       "    }\n",
       "\n",
       "    .dataframe tbody tr th {\n",
       "        vertical-align: top;\n",
       "    }\n",
       "\n",
       "    .dataframe thead th {\n",
       "        text-align: right;\n",
       "    }\n",
       "</style>\n",
       "<table border=\"1\" class=\"dataframe\">\n",
       "  <thead>\n",
       "    <tr style=\"text-align: right;\">\n",
       "      <th></th>\n",
       "      <th>name</th>\n",
       "      <th>price</th>\n",
       "      <th>neighbourhood_cleansed</th>\n",
       "      <th>zipcode</th>\n",
       "    </tr>\n",
       "  </thead>\n",
       "  <tbody>\n",
       "    <tr>\n",
       "      <th>0</th>\n",
       "      <td>Cozy, 3 minutes to Piccadilly Line</td>\n",
       "      <td>$35.00</td>\n",
       "      <td>Haringey</td>\n",
       "      <td>N8 0EY</td>\n",
       "    </tr>\n",
       "    <tr>\n",
       "      <th>1</th>\n",
       "      <td>Holiday London DB Room Let-on going</td>\n",
       "      <td>$65.00</td>\n",
       "      <td>Islington</td>\n",
       "      <td>N4 3</td>\n",
       "    </tr>\n",
       "    <tr>\n",
       "      <th>2</th>\n",
       "      <td>Bright Chelsea  Apartment. Chelsea!</td>\n",
       "      <td>$100.00</td>\n",
       "      <td>Kensington and Chelsea</td>\n",
       "      <td>SW3</td>\n",
       "    </tr>\n",
       "    <tr>\n",
       "      <th>3</th>\n",
       "      <td>Superb 3-Bed/2 Bath &amp; Wifi: Trendy W1</td>\n",
       "      <td>$300.00</td>\n",
       "      <td>Westminster</td>\n",
       "      <td>W1T4BP</td>\n",
       "    </tr>\n",
       "    <tr>\n",
       "      <th>4</th>\n",
       "      <td>Battersea 2 bedroom house &amp; parking</td>\n",
       "      <td>$175.00</td>\n",
       "      <td>Wandsworth</td>\n",
       "      <td>SW11 5GX</td>\n",
       "    </tr>\n",
       "  </tbody>\n",
       "</table>\n",
       "</div>"
      ],
      "text/plain": [
       "                                    name    price  neighbourhood_cleansed  \\\n",
       "0     Cozy, 3 minutes to Piccadilly Line   $35.00                Haringey   \n",
       "1    Holiday London DB Room Let-on going   $65.00               Islington   \n",
       "2    Bright Chelsea  Apartment. Chelsea!  $100.00  Kensington and Chelsea   \n",
       "3  Superb 3-Bed/2 Bath & Wifi: Trendy W1  $300.00             Westminster   \n",
       "4    Battersea 2 bedroom house & parking  $175.00              Wandsworth   \n",
       "\n",
       "    zipcode  \n",
       "0    N8 0EY  \n",
       "1      N4 3  \n",
       "2       SW3  \n",
       "3    W1T4BP  \n",
       "4  SW11 5GX  "
      ]
     },
     "execution_count": 13,
     "metadata": {},
     "output_type": "execute_result"
    }
   ],
   "source": [
    "listings_df.head()"
   ]
  },
  {
   "cell_type": "code",
   "execution_count": 14,
   "metadata": {},
   "outputs": [
    {
     "name": "stderr",
     "output_type": "stream",
     "text": [
      "/anaconda3/lib/python3.6/site-packages/ipykernel_launcher.py:2: SettingWithCopyWarning: \n",
      "A value is trying to be set on a copy of a slice from a DataFrame.\n",
      "Try using .loc[row_indexer,col_indexer] = value instead\n",
      "\n",
      "See the caveats in the documentation: http://pandas.pydata.org/pandas-docs/stable/indexing.html#indexing-view-versus-copy\n",
      "  \n"
     ]
    }
   ],
   "source": [
    "# All lower case\n",
    "listings_df['token_process'] = [name.strip().lower() for name in listings_df['name']]"
   ]
  },
  {
   "cell_type": "markdown",
   "metadata": {},
   "source": [
    "## Abreviation Tokenization"
   ]
  },
  {
   "cell_type": "code",
   "execution_count": 15,
   "metadata": {},
   "outputs": [
    {
     "name": "stderr",
     "output_type": "stream",
     "text": [
      "/anaconda3/lib/python3.6/site-packages/ipykernel_launcher.py:2: SettingWithCopyWarning: \n",
      "A value is trying to be set on a copy of a slice from a DataFrame.\n",
      "Try using .loc[row_indexer,col_indexer] = value instead\n",
      "\n",
      "See the caveats in the documentation: http://pandas.pydata.org/pandas-docs/stable/indexing.html#indexing-view-versus-copy\n",
      "  \n",
      "/anaconda3/lib/python3.6/site-packages/ipykernel_launcher.py:3: SettingWithCopyWarning: \n",
      "A value is trying to be set on a copy of a slice from a DataFrame.\n",
      "Try using .loc[row_indexer,col_indexer] = value instead\n",
      "\n",
      "See the caveats in the documentation: http://pandas.pydata.org/pandas-docs/stable/indexing.html#indexing-view-versus-copy\n",
      "  This is separate from the ipykernel package so we can avoid doing imports until\n"
     ]
    }
   ],
   "source": [
    "# Tokenize apt/./, to apartment (and Apt)\n",
    "listings_df['token_process'] = [name.replace(' apt',' apartment') if ' apt' in name else name for name in listings_df['token_process']]\n",
    "listings_df['token_process'] = [name.replace('apt ','apartment ') if 'apt ' in name else name for name in listings_df['token_process']]"
   ]
  },
  {
   "cell_type": "code",
   "execution_count": 16,
   "metadata": {},
   "outputs": [
    {
     "name": "stderr",
     "output_type": "stream",
     "text": [
      "/anaconda3/lib/python3.6/site-packages/ipykernel_launcher.py:2: SettingWithCopyWarning: \n",
      "A value is trying to be set on a copy of a slice from a DataFrame.\n",
      "Try using .loc[row_indexer,col_indexer] = value instead\n",
      "\n",
      "See the caveats in the documentation: http://pandas.pydata.org/pandas-docs/stable/indexing.html#indexing-view-versus-copy\n",
      "  \n",
      "/anaconda3/lib/python3.6/site-packages/ipykernel_launcher.py:3: SettingWithCopyWarning: \n",
      "A value is trying to be set on a copy of a slice from a DataFrame.\n",
      "Try using .loc[row_indexer,col_indexer] = value instead\n",
      "\n",
      "See the caveats in the documentation: http://pandas.pydata.org/pandas-docs/stable/indexing.html#indexing-view-versus-copy\n",
      "  This is separate from the ipykernel package so we can avoid doing imports until\n"
     ]
    }
   ],
   "source": [
    "# Tokenize db to double\n",
    "listings_df['token_process'] = [name.replace(' db ',' double ') if ' db ' in name else name for name in listings_df['token_process']]\n",
    "listings_df['token_process'] = [name.replace('db ','double ') if 'db ' in name else name for name in listings_df['token_process']]"
   ]
  },
  {
   "cell_type": "code",
   "execution_count": 17,
   "metadata": {},
   "outputs": [
    {
     "name": "stderr",
     "output_type": "stream",
     "text": [
      "/anaconda3/lib/python3.6/site-packages/ipykernel_launcher.py:2: SettingWithCopyWarning: \n",
      "A value is trying to be set on a copy of a slice from a DataFrame.\n",
      "Try using .loc[row_indexer,col_indexer] = value instead\n",
      "\n",
      "See the caveats in the documentation: http://pandas.pydata.org/pandas-docs/stable/indexing.html#indexing-view-versus-copy\n",
      "  \n",
      "/anaconda3/lib/python3.6/site-packages/ipykernel_launcher.py:3: SettingWithCopyWarning: \n",
      "A value is trying to be set on a copy of a slice from a DataFrame.\n",
      "Try using .loc[row_indexer,col_indexer] = value instead\n",
      "\n",
      "See the caveats in the documentation: http://pandas.pydata.org/pandas-docs/stable/indexing.html#indexing-view-versus-copy\n",
      "  This is separate from the ipykernel package so we can avoid doing imports until\n",
      "/anaconda3/lib/python3.6/site-packages/ipykernel_launcher.py:4: SettingWithCopyWarning: \n",
      "A value is trying to be set on a copy of a slice from a DataFrame.\n",
      "Try using .loc[row_indexer,col_indexer] = value instead\n",
      "\n",
      "See the caveats in the documentation: http://pandas.pydata.org/pandas-docs/stable/indexing.html#indexing-view-versus-copy\n",
      "  after removing the cwd from sys.path.\n"
     ]
    }
   ],
   "source": [
    "# Tokenize w and w/ to with\n",
    "listings_df['token_process'] = [name.replace(' w ',' with ') if ' w ' in name else name for name in listings_df['token_process']]\n",
    "listings_df['token_process'] = [name.replace(' w/ ',' with ') if ' w/ ' in name else name for name in listings_df['token_process']]\n",
    "listings_df['token_process'] = [name.replace(' w/',' with ') if ' w/' in name else name for name in listings_df['token_process']]"
   ]
  },
  {
   "cell_type": "code",
   "execution_count": 18,
   "metadata": {},
   "outputs": [
    {
     "name": "stderr",
     "output_type": "stream",
     "text": [
      "/anaconda3/lib/python3.6/site-packages/ipykernel_launcher.py:2: SettingWithCopyWarning: \n",
      "A value is trying to be set on a copy of a slice from a DataFrame.\n",
      "Try using .loc[row_indexer,col_indexer] = value instead\n",
      "\n",
      "See the caveats in the documentation: http://pandas.pydata.org/pandas-docs/stable/indexing.html#indexing-view-versus-copy\n",
      "  \n"
     ]
    }
   ],
   "source": [
    "# dbl to double\n",
    "listings_df['token_process'] = [name.replace('dbl','double') if 'dbl' in name else name for name in listings_df['token_process']]"
   ]
  },
  {
   "cell_type": "code",
   "execution_count": 19,
   "metadata": {},
   "outputs": [
    {
     "name": "stderr",
     "output_type": "stream",
     "text": [
      "/anaconda3/lib/python3.6/site-packages/ipykernel_launcher.py:2: SettingWithCopyWarning: \n",
      "A value is trying to be set on a copy of a slice from a DataFrame.\n",
      "Try using .loc[row_indexer,col_indexer] = value instead\n",
      "\n",
      "See the caveats in the documentation: http://pandas.pydata.org/pandas-docs/stable/indexing.html#indexing-view-versus-copy\n",
      "  \n"
     ]
    }
   ],
   "source": [
    "# rm to room\n",
    "listings_df['token_process'] = [name.replace(' rm',' room') if ' rm' in name else name for name in listings_df['token_process']]"
   ]
  },
  {
   "cell_type": "code",
   "execution_count": 20,
   "metadata": {},
   "outputs": [
    {
     "name": "stderr",
     "output_type": "stream",
     "text": [
      "/anaconda3/lib/python3.6/site-packages/ipykernel_launcher.py:2: SettingWithCopyWarning: \n",
      "A value is trying to be set on a copy of a slice from a DataFrame.\n",
      "Try using .loc[row_indexer,col_indexer] = value instead\n",
      "\n",
      "See the caveats in the documentation: http://pandas.pydata.org/pandas-docs/stable/indexing.html#indexing-view-versus-copy\n",
      "  \n"
     ]
    }
   ],
   "source": [
    "# nr to near\n",
    "listings_df['token_process'] = [name.replace(' nr',' near') if ' nr' in name else name for name in listings_df['token_process']]"
   ]
  },
  {
   "cell_type": "markdown",
   "metadata": {},
   "source": [
    "## Amenities Tokenization"
   ]
  },
  {
   "cell_type": "code",
   "execution_count": 21,
   "metadata": {},
   "outputs": [
    {
     "name": "stderr",
     "output_type": "stream",
     "text": [
      "/anaconda3/lib/python3.6/site-packages/ipykernel_launcher.py:2: SettingWithCopyWarning: \n",
      "A value is trying to be set on a copy of a slice from a DataFrame.\n",
      "Try using .loc[row_indexer,col_indexer] = value instead\n",
      "\n",
      "See the caveats in the documentation: http://pandas.pydata.org/pandas-docs/stable/indexing.html#indexing-view-versus-copy\n",
      "  \n"
     ]
    }
   ],
   "source": [
    "# Tokenize en-suite to ensuite (en-suite, En-suite, En-Suite all considered)\n",
    "listings_df['token_process'] = [name.replace('en-suite','ensuite') if 'en-suite' in name else name for name in listings_df['token_process']]"
   ]
  },
  {
   "cell_type": "code",
   "execution_count": 22,
   "metadata": {},
   "outputs": [
    {
     "name": "stderr",
     "output_type": "stream",
     "text": [
      "/anaconda3/lib/python3.6/site-packages/ipykernel_launcher.py:2: SettingWithCopyWarning: \n",
      "A value is trying to be set on a copy of a slice from a DataFrame.\n",
      "Try using .loc[row_indexer,col_indexer] = value instead\n",
      "\n",
      "See the caveats in the documentation: http://pandas.pydata.org/pandas-docs/stable/indexing.html#indexing-view-versus-copy\n",
      "  \n"
     ]
    }
   ],
   "source": [
    "# bedrooms to bedroom\n",
    "listings_df['token_process'] = [name.replace('bedrooms','bedroom') if 'bedrooms' in name else name for name in listings_df['token_process']]"
   ]
  },
  {
   "cell_type": "code",
   "execution_count": 23,
   "metadata": {},
   "outputs": [
    {
     "name": "stderr",
     "output_type": "stream",
     "text": [
      "/anaconda3/lib/python3.6/site-packages/ipykernel_launcher.py:2: SettingWithCopyWarning: \n",
      "A value is trying to be set on a copy of a slice from a DataFrame.\n",
      "Try using .loc[row_indexer,col_indexer] = value instead\n",
      "\n",
      "See the caveats in the documentation: http://pandas.pydata.org/pandas-docs/stable/indexing.html#indexing-view-versus-copy\n",
      "  \n",
      "/anaconda3/lib/python3.6/site-packages/ipykernel_launcher.py:5: SettingWithCopyWarning: \n",
      "A value is trying to be set on a copy of a slice from a DataFrame.\n",
      "Try using .loc[row_indexer,col_indexer] = value instead\n",
      "\n",
      "See the caveats in the documentation: http://pandas.pydata.org/pandas-docs/stable/indexing.html#indexing-view-versus-copy\n",
      "  \"\"\"\n"
     ]
    }
   ],
   "source": [
    "# Tokenize x-y as x to y to avoid errors when removing punctuation \n",
    "listings_df['token_process'] = [re.sub(r'(sleeps \\d)-(\\d+)', r'\\1 to \\2', str(name)) for name in listings_df['token_process']]\n",
    "\n",
    "# Same reasoning as above but using / instead of -\n",
    "listings_df['token_process'] = [re.sub(r'(sleeps \\d)/(\\d+)', r'\\1 to \\2', str(name)) for name in listings_df['token_process']]"
   ]
  },
  {
   "cell_type": "code",
   "execution_count": 24,
   "metadata": {},
   "outputs": [
    {
     "name": "stderr",
     "output_type": "stream",
     "text": [
      "/anaconda3/lib/python3.6/site-packages/ipykernel_launcher.py:2: SettingWithCopyWarning: \n",
      "A value is trying to be set on a copy of a slice from a DataFrame.\n",
      "Try using .loc[row_indexer,col_indexer] = value instead\n",
      "\n",
      "See the caveats in the documentation: http://pandas.pydata.org/pandas-docs/stable/indexing.html#indexing-view-versus-copy\n",
      "  \n"
     ]
    }
   ],
   "source": [
    "# bathrooms to bathroom\n",
    "listings_df['token_process'] = [name.replace('bathrooms','bathroom') if 'bathrooms' in name else name for name in listings_df['token_process']]\n",
    "    "
   ]
  },
  {
   "cell_type": "code",
   "execution_count": 25,
   "metadata": {},
   "outputs": [
    {
     "name": "stderr",
     "output_type": "stream",
     "text": [
      "/anaconda3/lib/python3.6/site-packages/ipykernel_launcher.py:2: SettingWithCopyWarning: \n",
      "A value is trying to be set on a copy of a slice from a DataFrame.\n",
      "Try using .loc[row_indexer,col_indexer] = value instead\n",
      "\n",
      "See the caveats in the documentation: http://pandas.pydata.org/pandas-docs/stable/indexing.html#indexing-view-versus-copy\n",
      "  \n"
     ]
    }
   ],
   "source": [
    "# replace baths with bath\n",
    "listings_df['token_process'] = [name.replace('baths','bath') if 'baths' in name else name for name in listings_df['token_process']]\n",
    "    "
   ]
  },
  {
   "cell_type": "code",
   "execution_count": 26,
   "metadata": {},
   "outputs": [
    {
     "name": "stderr",
     "output_type": "stream",
     "text": [
      "/anaconda3/lib/python3.6/site-packages/ipykernel_launcher.py:2: SettingWithCopyWarning: \n",
      "A value is trying to be set on a copy of a slice from a DataFrame.\n",
      "Try using .loc[row_indexer,col_indexer] = value instead\n",
      "\n",
      "See the caveats in the documentation: http://pandas.pydata.org/pandas-docs/stable/indexing.html#indexing-view-versus-copy\n",
      "  \n"
     ]
    }
   ],
   "source": [
    "# replace bath with bathroom\n",
    "listings_df['token_process'] = [name.replace('bath ','bathroom ') if 'bath ' in name else name for name in listings_df['token_process']]\n",
    "    "
   ]
  },
  {
   "cell_type": "code",
   "execution_count": 27,
   "metadata": {},
   "outputs": [
    {
     "name": "stderr",
     "output_type": "stream",
     "text": [
      "/anaconda3/lib/python3.6/site-packages/ipykernel_launcher.py:4: SettingWithCopyWarning: \n",
      "A value is trying to be set on a copy of a slice from a DataFrame.\n",
      "Try using .loc[row_indexer,col_indexer] = value instead\n",
      "\n",
      "See the caveats in the documentation: http://pandas.pydata.org/pandas-docs/stable/indexing.html#indexing-view-versus-copy\n",
      "  after removing the cwd from sys.path.\n"
     ]
    }
   ],
   "source": [
    "# numberbr to text bedroom\n",
    "number_list = ['one','two','three','four','five','six','seven','eight','nine','ten','eleven','twelve','thirteen','fourteen','fithteen','sixteen','seventeen','eighteen','nineteen','twenty']\n",
    "for c,i in enumerate(number_list,1):\n",
    "    listings_df['token_process'] = [name.replace('%sbr'%c,'%s bedroom'%i) if '%sbr'%c in name else name for name in listings_df['token_process']]\n",
    "    "
   ]
  },
  {
   "cell_type": "code",
   "execution_count": 28,
   "metadata": {},
   "outputs": [
    {
     "name": "stderr",
     "output_type": "stream",
     "text": [
      "/anaconda3/lib/python3.6/site-packages/ipykernel_launcher.py:4: SettingWithCopyWarning: \n",
      "A value is trying to be set on a copy of a slice from a DataFrame.\n",
      "Try using .loc[row_indexer,col_indexer] = value instead\n",
      "\n",
      "See the caveats in the documentation: http://pandas.pydata.org/pandas-docs/stable/indexing.html#indexing-view-versus-copy\n",
      "  after removing the cwd from sys.path.\n"
     ]
    }
   ],
   "source": [
    "# numberbd to text bedroom\n",
    "number_list = ['one','two','three','four','five','six','seven','eight','nine','ten','eleven','twelve','thirteen','fourteen','fithteen','sixteen','seventeen','eighteen','nineteen','twenty']\n",
    "for c,i in enumerate(number_list,1):\n",
    "    listings_df['token_process'] = [name.replace('%sbd'%c,'%s bed'%i) if '%sbd'%c in name else name for name in listings_df['token_process']]\n",
    "    "
   ]
  },
  {
   "cell_type": "code",
   "execution_count": 29,
   "metadata": {},
   "outputs": [
    {
     "name": "stderr",
     "output_type": "stream",
     "text": [
      "/anaconda3/lib/python3.6/site-packages/ipykernel_launcher.py:4: SettingWithCopyWarning: \n",
      "A value is trying to be set on a copy of a slice from a DataFrame.\n",
      "Try using .loc[row_indexer,col_indexer] = value instead\n",
      "\n",
      "See the caveats in the documentation: http://pandas.pydata.org/pandas-docs/stable/indexing.html#indexing-view-versus-copy\n",
      "  after removing the cwd from sys.path.\n"
     ]
    }
   ],
   "source": [
    "# numberbed to text bed\n",
    "number_list = ['one','two','three','four','five','six','seven','eight','nine','ten','eleven','twelve','thirteen','fourteen','fithteen','sixteen','seventeen','eighteen','nineteen','twenty']\n",
    "for c,i in enumerate(number_list,1):\n",
    "    listings_df['token_process'] = [name.replace('%sbed '%c,'%s bed '%i) if '%sbed '%c in name else name for name in listings_df['token_process']]\n",
    "    "
   ]
  },
  {
   "cell_type": "code",
   "execution_count": 30,
   "metadata": {},
   "outputs": [
    {
     "name": "stderr",
     "output_type": "stream",
     "text": [
      "/anaconda3/lib/python3.6/site-packages/ipykernel_launcher.py:4: SettingWithCopyWarning: \n",
      "A value is trying to be set on a copy of a slice from a DataFrame.\n",
      "Try using .loc[row_indexer,col_indexer] = value instead\n",
      "\n",
      "See the caveats in the documentation: http://pandas.pydata.org/pandas-docs/stable/indexing.html#indexing-view-versus-copy\n",
      "  after removing the cwd from sys.path.\n"
     ]
    }
   ],
   "source": [
    "# numberbedroom to text bedroom\n",
    "number_list = ['one','two','three','four','five','six','seven','eight','nine','ten','eleven','twelve','thirteen','fourteen','fithteen','sixteen','seventeen','eighteen','nineteen','twenty']\n",
    "for c,i in enumerate(number_list,1):\n",
    "    listings_df['token_process'] = [name.replace('%sbedroom '%c,'%s bedroom '%i) if '%sbedroom '%c in name else name for name in listings_df['token_process']]\n",
    "    "
   ]
  },
  {
   "cell_type": "code",
   "execution_count": 31,
   "metadata": {},
   "outputs": [
    {
     "name": "stderr",
     "output_type": "stream",
     "text": [
      "/anaconda3/lib/python3.6/site-packages/ipykernel_launcher.py:4: SettingWithCopyWarning: \n",
      "A value is trying to be set on a copy of a slice from a DataFrame.\n",
      "Try using .loc[row_indexer,col_indexer] = value instead\n",
      "\n",
      "See the caveats in the documentation: http://pandas.pydata.org/pandas-docs/stable/indexing.html#indexing-view-versus-copy\n",
      "  after removing the cwd from sys.path.\n"
     ]
    }
   ],
   "source": [
    "# number bed to text bed\n",
    "number_list = ['one','two','three','four','five','six','seven','eight','nine','ten','eleven','twelve','thirteen','fourteen','fithteen','sixteen','seventeen','eighteen','nineteen','twenty']\n",
    "for c,i in enumerate(number_list,1):\n",
    "    listings_df['token_process'] = [name.replace('%s bed'%c,'%s bed'%i) if '%s bed'%c in name else name for name in listings_df['token_process']]\n",
    "    "
   ]
  },
  {
   "cell_type": "code",
   "execution_count": 32,
   "metadata": {},
   "outputs": [
    {
     "name": "stderr",
     "output_type": "stream",
     "text": [
      "/anaconda3/lib/python3.6/site-packages/ipykernel_launcher.py:4: SettingWithCopyWarning: \n",
      "A value is trying to be set on a copy of a slice from a DataFrame.\n",
      "Try using .loc[row_indexer,col_indexer] = value instead\n",
      "\n",
      "See the caveats in the documentation: http://pandas.pydata.org/pandas-docs/stable/indexing.html#indexing-view-versus-copy\n",
      "  after removing the cwd from sys.path.\n"
     ]
    }
   ],
   "source": [
    "# number-bed to text bed\n",
    "number_list = ['one','two','three','four','five','six','seven','eight','nine','ten','eleven','twelve','thirteen','fourteen','fithteen','sixteen','seventeen','eighteen','nineteen','twenty']\n",
    "for c,i in enumerate(number_list,1):\n",
    "    listings_df['token_process'] = [name.replace('%s-bed'%c,'%s bed'%i) if '%s-bed'%c in name else name for name in listings_df['token_process']]\n",
    "    "
   ]
  },
  {
   "cell_type": "code",
   "execution_count": 33,
   "metadata": {},
   "outputs": [
    {
     "name": "stderr",
     "output_type": "stream",
     "text": [
      "/anaconda3/lib/python3.6/site-packages/ipykernel_launcher.py:4: SettingWithCopyWarning: \n",
      "A value is trying to be set on a copy of a slice from a DataFrame.\n",
      "Try using .loc[row_indexer,col_indexer] = value instead\n",
      "\n",
      "See the caveats in the documentation: http://pandas.pydata.org/pandas-docs/stable/indexing.html#indexing-view-versus-copy\n",
      "  after removing the cwd from sys.path.\n"
     ]
    }
   ],
   "source": [
    "# number-bath to text bath\n",
    "number_list = ['one','two','three','four','five','six','seven','eight','nine','ten','eleven','twelve','thirteen','fourteen','fithteen','sixteen','seventeen','eighteen','nineteen','twenty']\n",
    "for c,i in enumerate(number_list,1):\n",
    "    listings_df['token_process'] = [name.replace('%s bath'%c,'%s bath'%i) if '%s bath'%c in name else name for name in listings_df['token_process']]\n",
    "    "
   ]
  },
  {
   "cell_type": "markdown",
   "metadata": {},
   "source": [
    "## More Tokenization \n",
    "\n",
    "Need to order when finished"
   ]
  },
  {
   "cell_type": "code",
   "execution_count": 34,
   "metadata": {},
   "outputs": [
    {
     "name": "stderr",
     "output_type": "stream",
     "text": [
      "/anaconda3/lib/python3.6/site-packages/ipykernel_launcher.py:2: SettingWithCopyWarning: \n",
      "A value is trying to be set on a copy of a slice from a DataFrame.\n",
      "Try using .loc[row_indexer,col_indexer] = value instead\n",
      "\n",
      "See the caveats in the documentation: http://pandas.pydata.org/pandas-docs/stable/indexing.html#indexing-view-versus-copy\n",
      "  \n"
     ]
    }
   ],
   "source": [
    "# All lower case\n",
    "listings_df['token_process'] = [name.strip().lower() for name in listings_df['token_process']]"
   ]
  },
  {
   "cell_type": "code",
   "execution_count": 35,
   "metadata": {},
   "outputs": [
    {
     "name": "stderr",
     "output_type": "stream",
     "text": [
      "/anaconda3/lib/python3.6/site-packages/ipykernel_launcher.py:2: SettingWithCopyWarning: \n",
      "A value is trying to be set on a copy of a slice from a DataFrame.\n",
      "Try using .loc[row_indexer,col_indexer] = value instead\n",
      "\n",
      "See the caveats in the documentation: http://pandas.pydata.org/pandas-docs/stable/indexing.html#indexing-view-versus-copy\n",
      "  \n"
     ]
    }
   ],
   "source": [
    "# 01 to 1\n",
    "listings_df['token_process'] = [name.replace(' 01 ',' 1 ') if ' 01 ' in name else name for name in listings_df['token_process']]"
   ]
  },
  {
   "cell_type": "code",
   "execution_count": 36,
   "metadata": {},
   "outputs": [
    {
     "name": "stderr",
     "output_type": "stream",
     "text": [
      "/anaconda3/lib/python3.6/site-packages/ipykernel_launcher.py:2: SettingWithCopyWarning: \n",
      "A value is trying to be set on a copy of a slice from a DataFrame.\n",
      "Try using .loc[row_indexer,col_indexer] = value instead\n",
      "\n",
      "See the caveats in the documentation: http://pandas.pydata.org/pandas-docs/stable/indexing.html#indexing-view-versus-copy\n",
      "  \n",
      "/anaconda3/lib/python3.6/site-packages/ipykernel_launcher.py:5: SettingWithCopyWarning: \n",
      "A value is trying to be set on a copy of a slice from a DataFrame.\n",
      "Try using .loc[row_indexer,col_indexer] = value instead\n",
      "\n",
      "See the caveats in the documentation: http://pandas.pydata.org/pandas-docs/stable/indexing.html#indexing-view-versus-copy\n",
      "  \"\"\"\n"
     ]
    }
   ],
   "source": [
    "# replace 1st with first\n",
    "listings_df['token_process'] = [name.replace('1st','first') if '1st' in name else name for name in listings_df['token_process']]\n",
    " \n",
    "# replace 2nd with second\n",
    "listings_df['token_process'] = [name.replace('2nd','second') if '2nd' in name else name for name in listings_df['token_process']]\n",
    "    "
   ]
  },
  {
   "cell_type": "markdown",
   "metadata": {},
   "source": [
    "## Punctuation"
   ]
  },
  {
   "cell_type": "code",
   "execution_count": 37,
   "metadata": {},
   "outputs": [
    {
     "name": "stderr",
     "output_type": "stream",
     "text": [
      "/anaconda3/lib/python3.6/site-packages/ipykernel_launcher.py:2: SettingWithCopyWarning: \n",
      "A value is trying to be set on a copy of a slice from a DataFrame.\n",
      "Try using .loc[row_indexer,col_indexer] = value instead\n",
      "\n",
      "See the caveats in the documentation: http://pandas.pydata.org/pandas-docs/stable/indexing.html#indexing-view-versus-copy\n",
      "  \n"
     ]
    }
   ],
   "source": [
    "# replace / with space\n",
    "listings_df['token_process'] = [re.sub(r'(\\S)\\/(\\S)', r'\\1 \\2', str(name)) for name in listings_df['token_process']]\n",
    "    "
   ]
  },
  {
   "cell_type": "code",
   "execution_count": 38,
   "metadata": {},
   "outputs": [
    {
     "name": "stderr",
     "output_type": "stream",
     "text": [
      "/anaconda3/lib/python3.6/site-packages/ipykernel_launcher.py:2: SettingWithCopyWarning: \n",
      "A value is trying to be set on a copy of a slice from a DataFrame.\n",
      "Try using .loc[row_indexer,col_indexer] = value instead\n",
      "\n",
      "See the caveats in the documentation: http://pandas.pydata.org/pandas-docs/stable/indexing.html#indexing-view-versus-copy\n",
      "  \n"
     ]
    }
   ],
   "source": [
    "# replace - with space\n",
    "listings_df['token_process'] = [re.sub(r'(\\S)-(\\S)', r'\\1 \\2', str(name)) for name in listings_df['token_process']]\n",
    "    "
   ]
  },
  {
   "cell_type": "markdown",
   "metadata": {},
   "source": [
    "## Location Tokenization"
   ]
  },
  {
   "cell_type": "code",
   "execution_count": 39,
   "metadata": {},
   "outputs": [
    {
     "data": {
      "text/html": [
       "<div>\n",
       "<style scoped>\n",
       "    .dataframe tbody tr th:only-of-type {\n",
       "        vertical-align: middle;\n",
       "    }\n",
       "\n",
       "    .dataframe tbody tr th {\n",
       "        vertical-align: top;\n",
       "    }\n",
       "\n",
       "    .dataframe thead th {\n",
       "        text-align: right;\n",
       "    }\n",
       "</style>\n",
       "<table border=\"1\" class=\"dataframe\">\n",
       "  <thead>\n",
       "    <tr style=\"text-align: right;\">\n",
       "      <th></th>\n",
       "      <th>name</th>\n",
       "      <th>price</th>\n",
       "      <th>neighbourhood_cleansed</th>\n",
       "      <th>zipcode</th>\n",
       "      <th>token_process</th>\n",
       "    </tr>\n",
       "  </thead>\n",
       "  <tbody>\n",
       "    <tr>\n",
       "      <th>0</th>\n",
       "      <td>Cozy, 3 minutes to Piccadilly Line</td>\n",
       "      <td>$35.00</td>\n",
       "      <td>Haringey</td>\n",
       "      <td>N8 0EY</td>\n",
       "      <td>cozy, 3 minutes to piccadilly line</td>\n",
       "    </tr>\n",
       "    <tr>\n",
       "      <th>1</th>\n",
       "      <td>Holiday London DB Room Let-on going</td>\n",
       "      <td>$65.00</td>\n",
       "      <td>Islington</td>\n",
       "      <td>N4 3</td>\n",
       "      <td>holiday london double room let on going</td>\n",
       "    </tr>\n",
       "    <tr>\n",
       "      <th>2</th>\n",
       "      <td>Bright Chelsea  Apartment. Chelsea!</td>\n",
       "      <td>$100.00</td>\n",
       "      <td>Kensington and Chelsea</td>\n",
       "      <td>SW3</td>\n",
       "      <td>bright chelsea  apartment. chelsea!</td>\n",
       "    </tr>\n",
       "    <tr>\n",
       "      <th>3</th>\n",
       "      <td>Superb 3-Bed/2 Bath &amp; Wifi: Trendy W1</td>\n",
       "      <td>$300.00</td>\n",
       "      <td>Westminster</td>\n",
       "      <td>W1T4BP</td>\n",
       "      <td>superb three bed two bathroom &amp; wifi: trendy w1</td>\n",
       "    </tr>\n",
       "    <tr>\n",
       "      <th>4</th>\n",
       "      <td>Battersea 2 bedroom house &amp; parking</td>\n",
       "      <td>$175.00</td>\n",
       "      <td>Wandsworth</td>\n",
       "      <td>SW11 5GX</td>\n",
       "      <td>battersea two bedroom house &amp; parking</td>\n",
       "    </tr>\n",
       "  </tbody>\n",
       "</table>\n",
       "</div>"
      ],
      "text/plain": [
       "                                    name    price  neighbourhood_cleansed  \\\n",
       "0     Cozy, 3 minutes to Piccadilly Line   $35.00                Haringey   \n",
       "1    Holiday London DB Room Let-on going   $65.00               Islington   \n",
       "2    Bright Chelsea  Apartment. Chelsea!  $100.00  Kensington and Chelsea   \n",
       "3  Superb 3-Bed/2 Bath & Wifi: Trendy W1  $300.00             Westminster   \n",
       "4    Battersea 2 bedroom house & parking  $175.00              Wandsworth   \n",
       "\n",
       "    zipcode                                    token_process  \n",
       "0    N8 0EY               cozy, 3 minutes to piccadilly line  \n",
       "1      N4 3          holiday london double room let on going  \n",
       "2       SW3              bright chelsea  apartment. chelsea!  \n",
       "3    W1T4BP  superb three bed two bathroom & wifi: trendy w1  \n",
       "4  SW11 5GX            battersea two bedroom house & parking  "
      ]
     },
     "execution_count": 39,
     "metadata": {},
     "output_type": "execute_result"
    }
   ],
   "source": [
    "listings_df.head()"
   ]
  },
  {
   "cell_type": "code",
   "execution_count": 40,
   "metadata": {},
   "outputs": [],
   "source": [
    "length = []\n",
    "for name in listings_df['token_process']:\n",
    "    test = name.lower().strip().split(' ')\n",
    "    res = [s.translate(str.maketrans('', '', string.punctuation)) for s in test]\n",
    "    length.append(len(res))\n",
    "    \n",
    "    "
   ]
  },
  {
   "cell_type": "code",
   "execution_count": 46,
   "metadata": {},
   "outputs": [],
   "source": [
    "# test that token process worked\n",
    "\n",
    "vocab_list2 = []\n",
    "for name in listings_df['name_tokenized']:\n",
    "    test = name.strip().split(' ')\n",
    "    res = [s.translate(str.maketrans('', '', string.punctuation)) for s in test]\n",
    "    vocab_list2 += res\n",
    "    "
   ]
  },
  {
   "cell_type": "code",
   "execution_count": 47,
   "metadata": {},
   "outputs": [],
   "source": [
    "vocab_dict2 = Counter(vocab_list2)"
   ]
  },
  {
   "cell_type": "code",
   "execution_count": 167,
   "metadata": {},
   "outputs": [
    {
     "data": {
      "text/html": [
       "<div>\n",
       "<style scoped>\n",
       "    .dataframe tbody tr th:only-of-type {\n",
       "        vertical-align: middle;\n",
       "    }\n",
       "\n",
       "    .dataframe tbody tr th {\n",
       "        vertical-align: top;\n",
       "    }\n",
       "\n",
       "    .dataframe thead th {\n",
       "        text-align: right;\n",
       "    }\n",
       "</style>\n",
       "<table border=\"1\" class=\"dataframe\">\n",
       "  <thead>\n",
       "    <tr style=\"text-align: right;\">\n",
       "      <th></th>\n",
       "      <th>name</th>\n",
       "      <th>price</th>\n",
       "      <th>neighbourhood_cleansed</th>\n",
       "      <th>zipcode</th>\n",
       "      <th>token_process</th>\n",
       "      <th>unigrams</th>\n",
       "      <th>bigrams</th>\n",
       "      <th>trigrams</th>\n",
       "    </tr>\n",
       "  </thead>\n",
       "  <tbody>\n",
       "    <tr>\n",
       "      <th>31343</th>\n",
       "      <td>Britannia Russell Square 1</td>\n",
       "      <td>$40.00</td>\n",
       "      <td>Camden</td>\n",
       "      <td>WC1N 1DJ</td>\n",
       "      <td>britannia russell square 1</td>\n",
       "      <td>[britannia, russell, square, 1]</td>\n",
       "      <td>[(britannia, russell), (russell, square), (squ...</td>\n",
       "      <td>[(britannia, russell, square), (russell, squar...</td>\n",
       "    </tr>\n",
       "  </tbody>\n",
       "</table>\n",
       "</div>"
      ],
      "text/plain": [
       "                             name   price neighbourhood_cleansed   zipcode  \\\n",
       "31343  Britannia Russell Square 1  $40.00                 Camden  WC1N 1DJ   \n",
       "\n",
       "                    token_process                         unigrams  \\\n",
       "31343  britannia russell square 1  [britannia, russell, square, 1]   \n",
       "\n",
       "                                                 bigrams  \\\n",
       "31343  [(britannia, russell), (russell, square), (squ...   \n",
       "\n",
       "                                                trigrams  \n",
       "31343  [(britannia, russell, square), (russell, squar...  "
      ]
     },
     "execution_count": 167,
     "metadata": {},
     "output_type": "execute_result"
    }
   ],
   "source": [
    "listings_df[listings_df['token_process']=='britannia russell square 1']"
   ]
  },
  {
   "cell_type": "markdown",
   "metadata": {},
   "source": [
    "## Create Unigrams"
   ]
  },
  {
   "cell_type": "code",
   "execution_count": 41,
   "metadata": {},
   "outputs": [],
   "source": [
    "import string"
   ]
  },
  {
   "cell_type": "code",
   "execution_count": 42,
   "metadata": {},
   "outputs": [],
   "source": [
    "tokens = []\n",
    "for name in listings_df['token_process']:\n",
    "    test = name.strip().split(' ')\n",
    "    res = [s.translate(str.maketrans('', '', string.punctuation)) for s in test]\n",
    "    try: \n",
    "        res.remove('')\n",
    "        tokens.append(res)\n",
    "    except:\n",
    "        tokens.append(res)\n",
    "    "
   ]
  },
  {
   "cell_type": "code",
   "execution_count": 43,
   "metadata": {},
   "outputs": [
    {
     "name": "stderr",
     "output_type": "stream",
     "text": [
      "/anaconda3/lib/python3.6/site-packages/ipykernel_launcher.py:1: SettingWithCopyWarning: \n",
      "A value is trying to be set on a copy of a slice from a DataFrame.\n",
      "Try using .loc[row_indexer,col_indexer] = value instead\n",
      "\n",
      "See the caveats in the documentation: http://pandas.pydata.org/pandas-docs/stable/indexing.html#indexing-view-versus-copy\n",
      "  \"\"\"Entry point for launching an IPython kernel.\n"
     ]
    }
   ],
   "source": [
    "listings_df['unigrams'] = tokens"
   ]
  },
  {
   "cell_type": "code",
   "execution_count": 44,
   "metadata": {},
   "outputs": [
    {
     "data": {
      "text/html": [
       "<div>\n",
       "<style scoped>\n",
       "    .dataframe tbody tr th:only-of-type {\n",
       "        vertical-align: middle;\n",
       "    }\n",
       "\n",
       "    .dataframe tbody tr th {\n",
       "        vertical-align: top;\n",
       "    }\n",
       "\n",
       "    .dataframe thead th {\n",
       "        text-align: right;\n",
       "    }\n",
       "</style>\n",
       "<table border=\"1\" class=\"dataframe\">\n",
       "  <thead>\n",
       "    <tr style=\"text-align: right;\">\n",
       "      <th></th>\n",
       "      <th>name</th>\n",
       "      <th>price</th>\n",
       "      <th>neighbourhood_cleansed</th>\n",
       "      <th>zipcode</th>\n",
       "      <th>token_process</th>\n",
       "      <th>unigrams</th>\n",
       "    </tr>\n",
       "  </thead>\n",
       "  <tbody>\n",
       "    <tr>\n",
       "      <th>0</th>\n",
       "      <td>Cozy, 3 minutes to Piccadilly Line</td>\n",
       "      <td>$35.00</td>\n",
       "      <td>Haringey</td>\n",
       "      <td>N8 0EY</td>\n",
       "      <td>cozy, 3 minutes to piccadilly line</td>\n",
       "      <td>[cozy, 3, minutes, to, piccadilly, line]</td>\n",
       "    </tr>\n",
       "    <tr>\n",
       "      <th>1</th>\n",
       "      <td>Holiday London DB Room Let-on going</td>\n",
       "      <td>$65.00</td>\n",
       "      <td>Islington</td>\n",
       "      <td>N4 3</td>\n",
       "      <td>holiday london double room let on going</td>\n",
       "      <td>[holiday, london, double, room, let, on, going]</td>\n",
       "    </tr>\n",
       "    <tr>\n",
       "      <th>2</th>\n",
       "      <td>Bright Chelsea  Apartment. Chelsea!</td>\n",
       "      <td>$100.00</td>\n",
       "      <td>Kensington and Chelsea</td>\n",
       "      <td>SW3</td>\n",
       "      <td>bright chelsea  apartment. chelsea!</td>\n",
       "      <td>[bright, chelsea, apartment, chelsea]</td>\n",
       "    </tr>\n",
       "    <tr>\n",
       "      <th>3</th>\n",
       "      <td>Superb 3-Bed/2 Bath &amp; Wifi: Trendy W1</td>\n",
       "      <td>$300.00</td>\n",
       "      <td>Westminster</td>\n",
       "      <td>W1T4BP</td>\n",
       "      <td>superb three bed two bathroom &amp; wifi: trendy w1</td>\n",
       "      <td>[superb, three, bed, two, bathroom, wifi, tren...</td>\n",
       "    </tr>\n",
       "    <tr>\n",
       "      <th>4</th>\n",
       "      <td>Battersea 2 bedroom house &amp; parking</td>\n",
       "      <td>$175.00</td>\n",
       "      <td>Wandsworth</td>\n",
       "      <td>SW11 5GX</td>\n",
       "      <td>battersea two bedroom house &amp; parking</td>\n",
       "      <td>[battersea, two, bedroom, house, parking]</td>\n",
       "    </tr>\n",
       "  </tbody>\n",
       "</table>\n",
       "</div>"
      ],
      "text/plain": [
       "                                    name    price  neighbourhood_cleansed  \\\n",
       "0     Cozy, 3 minutes to Piccadilly Line   $35.00                Haringey   \n",
       "1    Holiday London DB Room Let-on going   $65.00               Islington   \n",
       "2    Bright Chelsea  Apartment. Chelsea!  $100.00  Kensington and Chelsea   \n",
       "3  Superb 3-Bed/2 Bath & Wifi: Trendy W1  $300.00             Westminster   \n",
       "4    Battersea 2 bedroom house & parking  $175.00              Wandsworth   \n",
       "\n",
       "    zipcode                                    token_process  \\\n",
       "0    N8 0EY               cozy, 3 minutes to piccadilly line   \n",
       "1      N4 3          holiday london double room let on going   \n",
       "2       SW3              bright chelsea  apartment. chelsea!   \n",
       "3    W1T4BP  superb three bed two bathroom & wifi: trendy w1   \n",
       "4  SW11 5GX            battersea two bedroom house & parking   \n",
       "\n",
       "                                            unigrams  \n",
       "0           [cozy, 3, minutes, to, piccadilly, line]  \n",
       "1    [holiday, london, double, room, let, on, going]  \n",
       "2              [bright, chelsea, apartment, chelsea]  \n",
       "3  [superb, three, bed, two, bathroom, wifi, tren...  \n",
       "4          [battersea, two, bedroom, house, parking]  "
      ]
     },
     "execution_count": 44,
     "metadata": {},
     "output_type": "execute_result"
    }
   ],
   "source": [
    "listings_df.head()"
   ]
  },
  {
   "cell_type": "markdown",
   "metadata": {},
   "source": [
    "## Create Bigrams"
   ]
  },
  {
   "cell_type": "code",
   "execution_count": 45,
   "metadata": {},
   "outputs": [
    {
     "name": "stderr",
     "output_type": "stream",
     "text": [
      "/anaconda3/lib/python3.6/site-packages/ipykernel_launcher.py:1: SettingWithCopyWarning: \n",
      "A value is trying to be set on a copy of a slice from a DataFrame.\n",
      "Try using .loc[row_indexer,col_indexer] = value instead\n",
      "\n",
      "See the caveats in the documentation: http://pandas.pydata.org/pandas-docs/stable/indexing.html#indexing-view-versus-copy\n",
      "  \"\"\"Entry point for launching an IPython kernel.\n"
     ]
    }
   ],
   "source": [
    "listings_df['bigrams'] = [list(bigrams(entry)) for entry in listings_df['unigrams']]"
   ]
  },
  {
   "cell_type": "code",
   "execution_count": 46,
   "metadata": {},
   "outputs": [
    {
     "data": {
      "text/html": [
       "<div>\n",
       "<style scoped>\n",
       "    .dataframe tbody tr th:only-of-type {\n",
       "        vertical-align: middle;\n",
       "    }\n",
       "\n",
       "    .dataframe tbody tr th {\n",
       "        vertical-align: top;\n",
       "    }\n",
       "\n",
       "    .dataframe thead th {\n",
       "        text-align: right;\n",
       "    }\n",
       "</style>\n",
       "<table border=\"1\" class=\"dataframe\">\n",
       "  <thead>\n",
       "    <tr style=\"text-align: right;\">\n",
       "      <th></th>\n",
       "      <th>name</th>\n",
       "      <th>price</th>\n",
       "      <th>neighbourhood_cleansed</th>\n",
       "      <th>zipcode</th>\n",
       "      <th>token_process</th>\n",
       "      <th>unigrams</th>\n",
       "      <th>bigrams</th>\n",
       "    </tr>\n",
       "  </thead>\n",
       "  <tbody>\n",
       "    <tr>\n",
       "      <th>0</th>\n",
       "      <td>Cozy, 3 minutes to Piccadilly Line</td>\n",
       "      <td>$35.00</td>\n",
       "      <td>Haringey</td>\n",
       "      <td>N8 0EY</td>\n",
       "      <td>cozy, 3 minutes to piccadilly line</td>\n",
       "      <td>[cozy, 3, minutes, to, piccadilly, line]</td>\n",
       "      <td>[(cozy, 3), (3, minutes), (minutes, to), (to, ...</td>\n",
       "    </tr>\n",
       "    <tr>\n",
       "      <th>1</th>\n",
       "      <td>Holiday London DB Room Let-on going</td>\n",
       "      <td>$65.00</td>\n",
       "      <td>Islington</td>\n",
       "      <td>N4 3</td>\n",
       "      <td>holiday london double room let on going</td>\n",
       "      <td>[holiday, london, double, room, let, on, going]</td>\n",
       "      <td>[(holiday, london), (london, double), (double,...</td>\n",
       "    </tr>\n",
       "    <tr>\n",
       "      <th>2</th>\n",
       "      <td>Bright Chelsea  Apartment. Chelsea!</td>\n",
       "      <td>$100.00</td>\n",
       "      <td>Kensington and Chelsea</td>\n",
       "      <td>SW3</td>\n",
       "      <td>bright chelsea  apartment. chelsea!</td>\n",
       "      <td>[bright, chelsea, apartment, chelsea]</td>\n",
       "      <td>[(bright, chelsea), (chelsea, apartment), (apa...</td>\n",
       "    </tr>\n",
       "    <tr>\n",
       "      <th>3</th>\n",
       "      <td>Superb 3-Bed/2 Bath &amp; Wifi: Trendy W1</td>\n",
       "      <td>$300.00</td>\n",
       "      <td>Westminster</td>\n",
       "      <td>W1T4BP</td>\n",
       "      <td>superb three bed two bathroom &amp; wifi: trendy w1</td>\n",
       "      <td>[superb, three, bed, two, bathroom, wifi, tren...</td>\n",
       "      <td>[(superb, three), (three, bed), (bed, two), (t...</td>\n",
       "    </tr>\n",
       "    <tr>\n",
       "      <th>4</th>\n",
       "      <td>Battersea 2 bedroom house &amp; parking</td>\n",
       "      <td>$175.00</td>\n",
       "      <td>Wandsworth</td>\n",
       "      <td>SW11 5GX</td>\n",
       "      <td>battersea two bedroom house &amp; parking</td>\n",
       "      <td>[battersea, two, bedroom, house, parking]</td>\n",
       "      <td>[(battersea, two), (two, bedroom), (bedroom, h...</td>\n",
       "    </tr>\n",
       "  </tbody>\n",
       "</table>\n",
       "</div>"
      ],
      "text/plain": [
       "                                    name    price  neighbourhood_cleansed  \\\n",
       "0     Cozy, 3 minutes to Piccadilly Line   $35.00                Haringey   \n",
       "1    Holiday London DB Room Let-on going   $65.00               Islington   \n",
       "2    Bright Chelsea  Apartment. Chelsea!  $100.00  Kensington and Chelsea   \n",
       "3  Superb 3-Bed/2 Bath & Wifi: Trendy W1  $300.00             Westminster   \n",
       "4    Battersea 2 bedroom house & parking  $175.00              Wandsworth   \n",
       "\n",
       "    zipcode                                    token_process  \\\n",
       "0    N8 0EY               cozy, 3 minutes to piccadilly line   \n",
       "1      N4 3          holiday london double room let on going   \n",
       "2       SW3              bright chelsea  apartment. chelsea!   \n",
       "3    W1T4BP  superb three bed two bathroom & wifi: trendy w1   \n",
       "4  SW11 5GX            battersea two bedroom house & parking   \n",
       "\n",
       "                                            unigrams  \\\n",
       "0           [cozy, 3, minutes, to, piccadilly, line]   \n",
       "1    [holiday, london, double, room, let, on, going]   \n",
       "2              [bright, chelsea, apartment, chelsea]   \n",
       "3  [superb, three, bed, two, bathroom, wifi, tren...   \n",
       "4          [battersea, two, bedroom, house, parking]   \n",
       "\n",
       "                                             bigrams  \n",
       "0  [(cozy, 3), (3, minutes), (minutes, to), (to, ...  \n",
       "1  [(holiday, london), (london, double), (double,...  \n",
       "2  [(bright, chelsea), (chelsea, apartment), (apa...  \n",
       "3  [(superb, three), (three, bed), (bed, two), (t...  \n",
       "4  [(battersea, two), (two, bedroom), (bedroom, h...  "
      ]
     },
     "execution_count": 46,
     "metadata": {},
     "output_type": "execute_result"
    }
   ],
   "source": [
    "listings_df.head()"
   ]
  },
  {
   "cell_type": "markdown",
   "metadata": {},
   "source": [
    "## Create Trigrams"
   ]
  },
  {
   "cell_type": "code",
   "execution_count": 47,
   "metadata": {},
   "outputs": [
    {
     "name": "stderr",
     "output_type": "stream",
     "text": [
      "/anaconda3/lib/python3.6/site-packages/ipykernel_launcher.py:1: SettingWithCopyWarning: \n",
      "A value is trying to be set on a copy of a slice from a DataFrame.\n",
      "Try using .loc[row_indexer,col_indexer] = value instead\n",
      "\n",
      "See the caveats in the documentation: http://pandas.pydata.org/pandas-docs/stable/indexing.html#indexing-view-versus-copy\n",
      "  \"\"\"Entry point for launching an IPython kernel.\n"
     ]
    }
   ],
   "source": [
    "listings_df['trigrams'] = [list(trigrams(entry)) for entry in listings_df['unigrams']]"
   ]
  },
  {
   "cell_type": "code",
   "execution_count": 48,
   "metadata": {},
   "outputs": [
    {
     "data": {
      "text/html": [
       "<div>\n",
       "<style scoped>\n",
       "    .dataframe tbody tr th:only-of-type {\n",
       "        vertical-align: middle;\n",
       "    }\n",
       "\n",
       "    .dataframe tbody tr th {\n",
       "        vertical-align: top;\n",
       "    }\n",
       "\n",
       "    .dataframe thead th {\n",
       "        text-align: right;\n",
       "    }\n",
       "</style>\n",
       "<table border=\"1\" class=\"dataframe\">\n",
       "  <thead>\n",
       "    <tr style=\"text-align: right;\">\n",
       "      <th></th>\n",
       "      <th>name</th>\n",
       "      <th>price</th>\n",
       "      <th>neighbourhood_cleansed</th>\n",
       "      <th>zipcode</th>\n",
       "      <th>token_process</th>\n",
       "      <th>unigrams</th>\n",
       "      <th>bigrams</th>\n",
       "      <th>trigrams</th>\n",
       "    </tr>\n",
       "  </thead>\n",
       "  <tbody>\n",
       "    <tr>\n",
       "      <th>0</th>\n",
       "      <td>Cozy, 3 minutes to Piccadilly Line</td>\n",
       "      <td>$35.00</td>\n",
       "      <td>Haringey</td>\n",
       "      <td>N8 0EY</td>\n",
       "      <td>cozy, 3 minutes to piccadilly line</td>\n",
       "      <td>[cozy, 3, minutes, to, piccadilly, line]</td>\n",
       "      <td>[(cozy, 3), (3, minutes), (minutes, to), (to, ...</td>\n",
       "      <td>[(cozy, 3, minutes), (3, minutes, to), (minute...</td>\n",
       "    </tr>\n",
       "    <tr>\n",
       "      <th>1</th>\n",
       "      <td>Holiday London DB Room Let-on going</td>\n",
       "      <td>$65.00</td>\n",
       "      <td>Islington</td>\n",
       "      <td>N4 3</td>\n",
       "      <td>holiday london double room let on going</td>\n",
       "      <td>[holiday, london, double, room, let, on, going]</td>\n",
       "      <td>[(holiday, london), (london, double), (double,...</td>\n",
       "      <td>[(holiday, london, double), (london, double, r...</td>\n",
       "    </tr>\n",
       "    <tr>\n",
       "      <th>2</th>\n",
       "      <td>Bright Chelsea  Apartment. Chelsea!</td>\n",
       "      <td>$100.00</td>\n",
       "      <td>Kensington and Chelsea</td>\n",
       "      <td>SW3</td>\n",
       "      <td>bright chelsea  apartment. chelsea!</td>\n",
       "      <td>[bright, chelsea, apartment, chelsea]</td>\n",
       "      <td>[(bright, chelsea), (chelsea, apartment), (apa...</td>\n",
       "      <td>[(bright, chelsea, apartment), (chelsea, apart...</td>\n",
       "    </tr>\n",
       "    <tr>\n",
       "      <th>3</th>\n",
       "      <td>Superb 3-Bed/2 Bath &amp; Wifi: Trendy W1</td>\n",
       "      <td>$300.00</td>\n",
       "      <td>Westminster</td>\n",
       "      <td>W1T4BP</td>\n",
       "      <td>superb three bed two bathroom &amp; wifi: trendy w1</td>\n",
       "      <td>[superb, three, bed, two, bathroom, wifi, tren...</td>\n",
       "      <td>[(superb, three), (three, bed), (bed, two), (t...</td>\n",
       "      <td>[(superb, three, bed), (three, bed, two), (bed...</td>\n",
       "    </tr>\n",
       "    <tr>\n",
       "      <th>4</th>\n",
       "      <td>Battersea 2 bedroom house &amp; parking</td>\n",
       "      <td>$175.00</td>\n",
       "      <td>Wandsworth</td>\n",
       "      <td>SW11 5GX</td>\n",
       "      <td>battersea two bedroom house &amp; parking</td>\n",
       "      <td>[battersea, two, bedroom, house, parking]</td>\n",
       "      <td>[(battersea, two), (two, bedroom), (bedroom, h...</td>\n",
       "      <td>[(battersea, two, bedroom), (two, bedroom, hou...</td>\n",
       "    </tr>\n",
       "  </tbody>\n",
       "</table>\n",
       "</div>"
      ],
      "text/plain": [
       "                                    name    price  neighbourhood_cleansed  \\\n",
       "0     Cozy, 3 minutes to Piccadilly Line   $35.00                Haringey   \n",
       "1    Holiday London DB Room Let-on going   $65.00               Islington   \n",
       "2    Bright Chelsea  Apartment. Chelsea!  $100.00  Kensington and Chelsea   \n",
       "3  Superb 3-Bed/2 Bath & Wifi: Trendy W1  $300.00             Westminster   \n",
       "4    Battersea 2 bedroom house & parking  $175.00              Wandsworth   \n",
       "\n",
       "    zipcode                                    token_process  \\\n",
       "0    N8 0EY               cozy, 3 minutes to piccadilly line   \n",
       "1      N4 3          holiday london double room let on going   \n",
       "2       SW3              bright chelsea  apartment. chelsea!   \n",
       "3    W1T4BP  superb three bed two bathroom & wifi: trendy w1   \n",
       "4  SW11 5GX            battersea two bedroom house & parking   \n",
       "\n",
       "                                            unigrams  \\\n",
       "0           [cozy, 3, minutes, to, piccadilly, line]   \n",
       "1    [holiday, london, double, room, let, on, going]   \n",
       "2              [bright, chelsea, apartment, chelsea]   \n",
       "3  [superb, three, bed, two, bathroom, wifi, tren...   \n",
       "4          [battersea, two, bedroom, house, parking]   \n",
       "\n",
       "                                             bigrams  \\\n",
       "0  [(cozy, 3), (3, minutes), (minutes, to), (to, ...   \n",
       "1  [(holiday, london), (london, double), (double,...   \n",
       "2  [(bright, chelsea), (chelsea, apartment), (apa...   \n",
       "3  [(superb, three), (three, bed), (bed, two), (t...   \n",
       "4  [(battersea, two), (two, bedroom), (bedroom, h...   \n",
       "\n",
       "                                            trigrams  \n",
       "0  [(cozy, 3, minutes), (3, minutes, to), (minute...  \n",
       "1  [(holiday, london, double), (london, double, r...  \n",
       "2  [(bright, chelsea, apartment), (chelsea, apart...  \n",
       "3  [(superb, three, bed), (three, bed, two), (bed...  \n",
       "4  [(battersea, two, bedroom), (two, bedroom, hou...  "
      ]
     },
     "execution_count": 48,
     "metadata": {},
     "output_type": "execute_result"
    }
   ],
   "source": [
    "listings_df.head()"
   ]
  },
  {
   "cell_type": "markdown",
   "metadata": {},
   "source": [
    "# Random sample to check tokenization"
   ]
  },
  {
   "cell_type": "code",
   "execution_count": 49,
   "metadata": {},
   "outputs": [
    {
     "data": {
      "text/html": [
       "<div>\n",
       "<style scoped>\n",
       "    .dataframe tbody tr th:only-of-type {\n",
       "        vertical-align: middle;\n",
       "    }\n",
       "\n",
       "    .dataframe tbody tr th {\n",
       "        vertical-align: top;\n",
       "    }\n",
       "\n",
       "    .dataframe thead th {\n",
       "        text-align: right;\n",
       "    }\n",
       "</style>\n",
       "<table border=\"1\" class=\"dataframe\">\n",
       "  <thead>\n",
       "    <tr style=\"text-align: right;\">\n",
       "      <th></th>\n",
       "      <th>name</th>\n",
       "      <th>price</th>\n",
       "      <th>neighbourhood_cleansed</th>\n",
       "      <th>zipcode</th>\n",
       "      <th>token_process</th>\n",
       "      <th>unigrams</th>\n",
       "      <th>bigrams</th>\n",
       "      <th>trigrams</th>\n",
       "    </tr>\n",
       "  </thead>\n",
       "  <tbody>\n",
       "    <tr>\n",
       "      <th>57674</th>\n",
       "      <td>Homely 1 bedroom ground floor flat with garden</td>\n",
       "      <td>$68.00</td>\n",
       "      <td>Wandsworth</td>\n",
       "      <td>SW18 4QL</td>\n",
       "      <td>homely one bedroom ground floor flat with garden</td>\n",
       "      <td>[homely, one, bedroom, ground, floor, flat, wi...</td>\n",
       "      <td>[(homely, one), (one, bedroom), (bedroom, grou...</td>\n",
       "      <td>[(homely, one, bedroom), (one, bedroom, ground...</td>\n",
       "    </tr>\n",
       "    <tr>\n",
       "      <th>58890</th>\n",
       "      <td>1 stop to London Bridge,3 stops Big Ben 1 bed ...</td>\n",
       "      <td>$95.00</td>\n",
       "      <td>Southwark</td>\n",
       "      <td>SE16</td>\n",
       "      <td>1 stop to london bridge,3 stops big ben one be...</td>\n",
       "      <td>[1, stop, to, london, bridge3, stops, big, ben...</td>\n",
       "      <td>[(1, stop), (stop, to), (to, london), (london,...</td>\n",
       "      <td>[(1, stop, to), (stop, to, london), (to, londo...</td>\n",
       "    </tr>\n",
       "    <tr>\n",
       "      <th>29371</th>\n",
       "      <td>★ Covent Garden - Spacious Apartment ★</td>\n",
       "      <td>$349.00</td>\n",
       "      <td>Westminster</td>\n",
       "      <td>WC2N</td>\n",
       "      <td>★ covent garden - spacious apartment ★</td>\n",
       "      <td>[★, covent, garden, spacious, apartment, ★]</td>\n",
       "      <td>[(★, covent), (covent, garden), (garden, spaci...</td>\n",
       "      <td>[(★, covent, garden), (covent, garden, spaciou...</td>\n",
       "    </tr>\n",
       "    <tr>\n",
       "      <th>13455</th>\n",
       "      <td>Double room with private bathroom - Brockley z...</td>\n",
       "      <td>$35.00</td>\n",
       "      <td>Lewisham</td>\n",
       "      <td>SE1 9AH</td>\n",
       "      <td>double room with private bathroom - brockley z...</td>\n",
       "      <td>[double, room, with, private, bathroom, brockl...</td>\n",
       "      <td>[(double, room), (room, with), (with, private)...</td>\n",
       "      <td>[(double, room, with), (room, with, private), ...</td>\n",
       "    </tr>\n",
       "    <tr>\n",
       "      <th>39104</th>\n",
       "      <td>Spacious Double room in ideal London location</td>\n",
       "      <td>$34.00</td>\n",
       "      <td>Islington</td>\n",
       "      <td>N4 3LD</td>\n",
       "      <td>spacious double room in ideal london location</td>\n",
       "      <td>[spacious, double, room, in, ideal, london, lo...</td>\n",
       "      <td>[(spacious, double), (double, room), (room, in...</td>\n",
       "      <td>[(spacious, double, room), (double, room, in),...</td>\n",
       "    </tr>\n",
       "  </tbody>\n",
       "</table>\n",
       "</div>"
      ],
      "text/plain": [
       "                                                    name    price  \\\n",
       "57674     Homely 1 bedroom ground floor flat with garden   $68.00   \n",
       "58890  1 stop to London Bridge,3 stops Big Ben 1 bed ...   $95.00   \n",
       "29371             ★ Covent Garden - Spacious Apartment ★  $349.00   \n",
       "13455  Double room with private bathroom - Brockley z...   $35.00   \n",
       "39104      Spacious Double room in ideal London location   $34.00   \n",
       "\n",
       "      neighbourhood_cleansed   zipcode  \\\n",
       "57674             Wandsworth  SW18 4QL   \n",
       "58890              Southwark      SE16   \n",
       "29371            Westminster      WC2N   \n",
       "13455               Lewisham   SE1 9AH   \n",
       "39104              Islington    N4 3LD   \n",
       "\n",
       "                                           token_process  \\\n",
       "57674   homely one bedroom ground floor flat with garden   \n",
       "58890  1 stop to london bridge,3 stops big ben one be...   \n",
       "29371             ★ covent garden - spacious apartment ★   \n",
       "13455  double room with private bathroom - brockley z...   \n",
       "39104      spacious double room in ideal london location   \n",
       "\n",
       "                                                unigrams  \\\n",
       "57674  [homely, one, bedroom, ground, floor, flat, wi...   \n",
       "58890  [1, stop, to, london, bridge3, stops, big, ben...   \n",
       "29371        [★, covent, garden, spacious, apartment, ★]   \n",
       "13455  [double, room, with, private, bathroom, brockl...   \n",
       "39104  [spacious, double, room, in, ideal, london, lo...   \n",
       "\n",
       "                                                 bigrams  \\\n",
       "57674  [(homely, one), (one, bedroom), (bedroom, grou...   \n",
       "58890  [(1, stop), (stop, to), (to, london), (london,...   \n",
       "29371  [(★, covent), (covent, garden), (garden, spaci...   \n",
       "13455  [(double, room), (room, with), (with, private)...   \n",
       "39104  [(spacious, double), (double, room), (room, in...   \n",
       "\n",
       "                                                trigrams  \n",
       "57674  [(homely, one, bedroom), (one, bedroom, ground...  \n",
       "58890  [(1, stop, to), (stop, to, london), (to, londo...  \n",
       "29371  [(★, covent, garden), (covent, garden, spaciou...  \n",
       "13455  [(double, room, with), (room, with, private), ...  \n",
       "39104  [(spacious, double, room), (double, room, in),...  "
      ]
     },
     "execution_count": 49,
     "metadata": {},
     "output_type": "execute_result"
    }
   ],
   "source": [
    "listings_df.sample(5)"
   ]
  },
  {
   "cell_type": "markdown",
   "metadata": {},
   "source": [
    "## Format price"
   ]
  },
  {
   "cell_type": "code",
   "execution_count": 50,
   "metadata": {},
   "outputs": [],
   "source": [
    "listings_df2 = listings_df.copy(deep=True)"
   ]
  },
  {
   "cell_type": "code",
   "execution_count": 51,
   "metadata": {},
   "outputs": [],
   "source": [
    "# Remove dollar sign\n",
    "listings_df2['price'] = [price.replace('$','') for price in listings_df2['price']]"
   ]
  },
  {
   "cell_type": "code",
   "execution_count": 52,
   "metadata": {},
   "outputs": [],
   "source": [
    "# Remove commas\n",
    "listings_df2['price'] = [price.replace(',','') for price in listings_df2['price']]"
   ]
  },
  {
   "cell_type": "code",
   "execution_count": 53,
   "metadata": {},
   "outputs": [],
   "source": [
    "# Convert to float\n",
    "listings_df2['price'] = [float(price) for price in listings_df2['price']]"
   ]
  },
  {
   "cell_type": "code",
   "execution_count": 54,
   "metadata": {},
   "outputs": [],
   "source": [
    "# remove 29 properties with 0 price\n",
    "listings_df2 = listings_df2[listings_df2['price']>0]"
   ]
  },
  {
   "cell_type": "code",
   "execution_count": 55,
   "metadata": {},
   "outputs": [
    {
     "data": {
      "text/html": [
       "<div>\n",
       "<style scoped>\n",
       "    .dataframe tbody tr th:only-of-type {\n",
       "        vertical-align: middle;\n",
       "    }\n",
       "\n",
       "    .dataframe tbody tr th {\n",
       "        vertical-align: top;\n",
       "    }\n",
       "\n",
       "    .dataframe thead th {\n",
       "        text-align: right;\n",
       "    }\n",
       "</style>\n",
       "<table border=\"1\" class=\"dataframe\">\n",
       "  <thead>\n",
       "    <tr style=\"text-align: right;\">\n",
       "      <th></th>\n",
       "      <th>name</th>\n",
       "      <th>price</th>\n",
       "      <th>neighbourhood_cleansed</th>\n",
       "      <th>zipcode</th>\n",
       "      <th>token_process</th>\n",
       "      <th>unigrams</th>\n",
       "      <th>bigrams</th>\n",
       "      <th>trigrams</th>\n",
       "    </tr>\n",
       "  </thead>\n",
       "  <tbody>\n",
       "    <tr>\n",
       "      <th>75693</th>\n",
       "      <td>Single bedroom close to Buckingham Palace</td>\n",
       "      <td>34.0</td>\n",
       "      <td>Westminster</td>\n",
       "      <td>SW1V 3DW</td>\n",
       "      <td>single bedroom close to buckingham palace</td>\n",
       "      <td>[single, bedroom, close, to, buckingham, palace]</td>\n",
       "      <td>[(single, bedroom), (bedroom, close), (close, ...</td>\n",
       "      <td>[(single, bedroom, close), (bedroom, close, to...</td>\n",
       "    </tr>\n",
       "    <tr>\n",
       "      <th>67806</th>\n",
       "      <td>Covent Garden Pearl</td>\n",
       "      <td>200.0</td>\n",
       "      <td>Westminster</td>\n",
       "      <td>WC2E 7NU</td>\n",
       "      <td>covent garden pearl</td>\n",
       "      <td>[covent, garden, pearl]</td>\n",
       "      <td>[(covent, garden), (garden, pearl)]</td>\n",
       "      <td>[(covent, garden, pearl)]</td>\n",
       "    </tr>\n",
       "    <tr>\n",
       "      <th>29582</th>\n",
       "      <td>Huge room in regency property by river in Chis...</td>\n",
       "      <td>58.0</td>\n",
       "      <td>Hounslow</td>\n",
       "      <td>W4 3RU</td>\n",
       "      <td>huge room in regency property by river in chis...</td>\n",
       "      <td>[huge, room, in, regency, property, by, river,...</td>\n",
       "      <td>[(huge, room), (room, in), (in, regency), (reg...</td>\n",
       "      <td>[(huge, room, in), (room, in, regency), (in, r...</td>\n",
       "    </tr>\n",
       "    <tr>\n",
       "      <th>20944</th>\n",
       "      <td>Studio aux abords de Hyde park</td>\n",
       "      <td>80.0</td>\n",
       "      <td>Westminster</td>\n",
       "      <td>W2</td>\n",
       "      <td>studio aux abords de hyde park</td>\n",
       "      <td>[studio, aux, abords, de, hyde, park]</td>\n",
       "      <td>[(studio, aux), (aux, abords), (abords, de), (...</td>\n",
       "      <td>[(studio, aux, abords), (aux, abords, de), (ab...</td>\n",
       "    </tr>\n",
       "    <tr>\n",
       "      <th>34614</th>\n",
       "      <td>Charming 2-Bedroom Flat with Roof Terrace - Ca...</td>\n",
       "      <td>120.0</td>\n",
       "      <td>Camden</td>\n",
       "      <td>NW5</td>\n",
       "      <td>charming two bedroom flat with roof terrace - ...</td>\n",
       "      <td>[charming, two, bedroom, flat, with, roof, ter...</td>\n",
       "      <td>[(charming, two), (two, bedroom), (bedroom, fl...</td>\n",
       "      <td>[(charming, two, bedroom), (two, bedroom, flat...</td>\n",
       "    </tr>\n",
       "    <tr>\n",
       "      <th>39835</th>\n",
       "      <td>Spacious 3 bedroom Victorian home Nunhead/Peckham</td>\n",
       "      <td>220.0</td>\n",
       "      <td>Southwark</td>\n",
       "      <td>SE15 2BS</td>\n",
       "      <td>spacious three bedroom victorian home nunhead ...</td>\n",
       "      <td>[spacious, three, bedroom, victorian, home, nu...</td>\n",
       "      <td>[(spacious, three), (three, bedroom), (bedroom...</td>\n",
       "      <td>[(spacious, three, bedroom), (three, bedroom, ...</td>\n",
       "    </tr>\n",
       "    <tr>\n",
       "      <th>34803</th>\n",
       "      <td>Large quiet double room in loft,  own  bathroom</td>\n",
       "      <td>27.0</td>\n",
       "      <td>Barnet</td>\n",
       "      <td>NW4 1NP</td>\n",
       "      <td>large quiet double room in loft,  own  bathroom</td>\n",
       "      <td>[large, quiet, double, room, in, loft, own, , ...</td>\n",
       "      <td>[(large, quiet), (quiet, double), (double, roo...</td>\n",
       "      <td>[(large, quiet, double), (quiet, double, room)...</td>\n",
       "    </tr>\n",
       "    <tr>\n",
       "      <th>25551</th>\n",
       "      <td>Lovely garden flat in leafy Parsons Green</td>\n",
       "      <td>85.0</td>\n",
       "      <td>Hammersmith and Fulham</td>\n",
       "      <td>SW6</td>\n",
       "      <td>lovely garden flat in leafy parsons green</td>\n",
       "      <td>[lovely, garden, flat, in, leafy, parsons, green]</td>\n",
       "      <td>[(lovely, garden), (garden, flat), (flat, in),...</td>\n",
       "      <td>[(lovely, garden, flat), (garden, flat, in), (...</td>\n",
       "    </tr>\n",
       "    <tr>\n",
       "      <th>57541</th>\n",
       "      <td>Comfortable single room very near centre of Lo...</td>\n",
       "      <td>27.0</td>\n",
       "      <td>Hammersmith and Fulham</td>\n",
       "      <td>W6 0TB</td>\n",
       "      <td>comfortable single room very near centre of lo...</td>\n",
       "      <td>[comfortable, single, room, very, near, centre...</td>\n",
       "      <td>[(comfortable, single), (single, room), (room,...</td>\n",
       "      <td>[(comfortable, single, room), (single, room, v...</td>\n",
       "    </tr>\n",
       "    <tr>\n",
       "      <th>57558</th>\n",
       "      <td>Beautiful 2Bed/2Bath apt sleeps 6 in Farringdon</td>\n",
       "      <td>180.0</td>\n",
       "      <td>Camden</td>\n",
       "      <td>EC1M 3HA</td>\n",
       "      <td>beautiful 2bed 2bathroom apartment sleeps 6 in...</td>\n",
       "      <td>[beautiful, 2bed, 2bathroom, apartment, sleeps...</td>\n",
       "      <td>[(beautiful, 2bed), (2bed, 2bathroom), (2bathr...</td>\n",
       "      <td>[(beautiful, 2bed, 2bathroom), (2bed, 2bathroo...</td>\n",
       "    </tr>\n",
       "  </tbody>\n",
       "</table>\n",
       "</div>"
      ],
      "text/plain": [
       "                                                    name  price  \\\n",
       "75693          Single bedroom close to Buckingham Palace   34.0   \n",
       "67806                                Covent Garden Pearl  200.0   \n",
       "29582  Huge room in regency property by river in Chis...   58.0   \n",
       "20944                     Studio aux abords de Hyde park   80.0   \n",
       "34614  Charming 2-Bedroom Flat with Roof Terrace - Ca...  120.0   \n",
       "39835  Spacious 3 bedroom Victorian home Nunhead/Peckham  220.0   \n",
       "34803    Large quiet double room in loft,  own  bathroom   27.0   \n",
       "25551          Lovely garden flat in leafy Parsons Green   85.0   \n",
       "57541  Comfortable single room very near centre of Lo...   27.0   \n",
       "57558    Beautiful 2Bed/2Bath apt sleeps 6 in Farringdon  180.0   \n",
       "\n",
       "       neighbourhood_cleansed   zipcode  \\\n",
       "75693             Westminster  SW1V 3DW   \n",
       "67806             Westminster  WC2E 7NU   \n",
       "29582                Hounslow    W4 3RU   \n",
       "20944             Westminster        W2   \n",
       "34614                  Camden       NW5   \n",
       "39835               Southwark  SE15 2BS   \n",
       "34803                  Barnet   NW4 1NP   \n",
       "25551  Hammersmith and Fulham       SW6   \n",
       "57541  Hammersmith and Fulham    W6 0TB   \n",
       "57558                  Camden  EC1M 3HA   \n",
       "\n",
       "                                           token_process  \\\n",
       "75693          single bedroom close to buckingham palace   \n",
       "67806                                covent garden pearl   \n",
       "29582  huge room in regency property by river in chis...   \n",
       "20944                     studio aux abords de hyde park   \n",
       "34614  charming two bedroom flat with roof terrace - ...   \n",
       "39835  spacious three bedroom victorian home nunhead ...   \n",
       "34803    large quiet double room in loft,  own  bathroom   \n",
       "25551          lovely garden flat in leafy parsons green   \n",
       "57541  comfortable single room very near centre of lo...   \n",
       "57558  beautiful 2bed 2bathroom apartment sleeps 6 in...   \n",
       "\n",
       "                                                unigrams  \\\n",
       "75693   [single, bedroom, close, to, buckingham, palace]   \n",
       "67806                            [covent, garden, pearl]   \n",
       "29582  [huge, room, in, regency, property, by, river,...   \n",
       "20944              [studio, aux, abords, de, hyde, park]   \n",
       "34614  [charming, two, bedroom, flat, with, roof, ter...   \n",
       "39835  [spacious, three, bedroom, victorian, home, nu...   \n",
       "34803  [large, quiet, double, room, in, loft, own, , ...   \n",
       "25551  [lovely, garden, flat, in, leafy, parsons, green]   \n",
       "57541  [comfortable, single, room, very, near, centre...   \n",
       "57558  [beautiful, 2bed, 2bathroom, apartment, sleeps...   \n",
       "\n",
       "                                                 bigrams  \\\n",
       "75693  [(single, bedroom), (bedroom, close), (close, ...   \n",
       "67806                [(covent, garden), (garden, pearl)]   \n",
       "29582  [(huge, room), (room, in), (in, regency), (reg...   \n",
       "20944  [(studio, aux), (aux, abords), (abords, de), (...   \n",
       "34614  [(charming, two), (two, bedroom), (bedroom, fl...   \n",
       "39835  [(spacious, three), (three, bedroom), (bedroom...   \n",
       "34803  [(large, quiet), (quiet, double), (double, roo...   \n",
       "25551  [(lovely, garden), (garden, flat), (flat, in),...   \n",
       "57541  [(comfortable, single), (single, room), (room,...   \n",
       "57558  [(beautiful, 2bed), (2bed, 2bathroom), (2bathr...   \n",
       "\n",
       "                                                trigrams  \n",
       "75693  [(single, bedroom, close), (bedroom, close, to...  \n",
       "67806                          [(covent, garden, pearl)]  \n",
       "29582  [(huge, room, in), (room, in, regency), (in, r...  \n",
       "20944  [(studio, aux, abords), (aux, abords, de), (ab...  \n",
       "34614  [(charming, two, bedroom), (two, bedroom, flat...  \n",
       "39835  [(spacious, three, bedroom), (three, bedroom, ...  \n",
       "34803  [(large, quiet, double), (quiet, double, room)...  \n",
       "25551  [(lovely, garden, flat), (garden, flat, in), (...  \n",
       "57541  [(comfortable, single, room), (single, room, v...  \n",
       "57558  [(beautiful, 2bed, 2bathroom), (2bed, 2bathroo...  "
      ]
     },
     "execution_count": 55,
     "metadata": {},
     "output_type": "execute_result"
    }
   ],
   "source": [
    "listings_df2.sample(10)"
   ]
  },
  {
   "cell_type": "code",
   "execution_count": 56,
   "metadata": {},
   "outputs": [
    {
     "data": {
      "text/html": [
       "<div>\n",
       "<style scoped>\n",
       "    .dataframe tbody tr th:only-of-type {\n",
       "        vertical-align: middle;\n",
       "    }\n",
       "\n",
       "    .dataframe tbody tr th {\n",
       "        vertical-align: top;\n",
       "    }\n",
       "\n",
       "    .dataframe thead th {\n",
       "        text-align: right;\n",
       "    }\n",
       "</style>\n",
       "<table border=\"1\" class=\"dataframe\">\n",
       "  <thead>\n",
       "    <tr style=\"text-align: right;\">\n",
       "      <th></th>\n",
       "      <th>name</th>\n",
       "      <th>price</th>\n",
       "      <th>neighbourhood_cleansed</th>\n",
       "      <th>zipcode</th>\n",
       "      <th>token_process</th>\n",
       "      <th>unigrams</th>\n",
       "      <th>bigrams</th>\n",
       "      <th>trigrams</th>\n",
       "    </tr>\n",
       "  </thead>\n",
       "  <tbody>\n",
       "    <tr>\n",
       "      <th>0</th>\n",
       "      <td>Cozy, 3 minutes to Piccadilly Line</td>\n",
       "      <td>35.0</td>\n",
       "      <td>Haringey</td>\n",
       "      <td>N8 0EY</td>\n",
       "      <td>cozy, 3 minutes to piccadilly line</td>\n",
       "      <td>[cozy, 3, minutes, to, piccadilly, line]</td>\n",
       "      <td>[(cozy, 3), (3, minutes), (minutes, to), (to, ...</td>\n",
       "      <td>[(cozy, 3, minutes), (3, minutes, to), (minute...</td>\n",
       "    </tr>\n",
       "    <tr>\n",
       "      <th>1</th>\n",
       "      <td>Holiday London DB Room Let-on going</td>\n",
       "      <td>65.0</td>\n",
       "      <td>Islington</td>\n",
       "      <td>N4 3</td>\n",
       "      <td>holiday london double room let on going</td>\n",
       "      <td>[holiday, london, double, room, let, on, going]</td>\n",
       "      <td>[(holiday, london), (london, double), (double,...</td>\n",
       "      <td>[(holiday, london, double), (london, double, r...</td>\n",
       "    </tr>\n",
       "    <tr>\n",
       "      <th>2</th>\n",
       "      <td>Bright Chelsea  Apartment. Chelsea!</td>\n",
       "      <td>100.0</td>\n",
       "      <td>Kensington and Chelsea</td>\n",
       "      <td>SW3</td>\n",
       "      <td>bright chelsea  apartment. chelsea!</td>\n",
       "      <td>[bright, chelsea, apartment, chelsea]</td>\n",
       "      <td>[(bright, chelsea), (chelsea, apartment), (apa...</td>\n",
       "      <td>[(bright, chelsea, apartment), (chelsea, apart...</td>\n",
       "    </tr>\n",
       "    <tr>\n",
       "      <th>3</th>\n",
       "      <td>Superb 3-Bed/2 Bath &amp; Wifi: Trendy W1</td>\n",
       "      <td>300.0</td>\n",
       "      <td>Westminster</td>\n",
       "      <td>W1T4BP</td>\n",
       "      <td>superb three bed two bathroom &amp; wifi: trendy w1</td>\n",
       "      <td>[superb, three, bed, two, bathroom, wifi, tren...</td>\n",
       "      <td>[(superb, three), (three, bed), (bed, two), (t...</td>\n",
       "      <td>[(superb, three, bed), (three, bed, two), (bed...</td>\n",
       "    </tr>\n",
       "    <tr>\n",
       "      <th>4</th>\n",
       "      <td>Battersea 2 bedroom house &amp; parking</td>\n",
       "      <td>175.0</td>\n",
       "      <td>Wandsworth</td>\n",
       "      <td>SW11 5GX</td>\n",
       "      <td>battersea two bedroom house &amp; parking</td>\n",
       "      <td>[battersea, two, bedroom, house, parking]</td>\n",
       "      <td>[(battersea, two), (two, bedroom), (bedroom, h...</td>\n",
       "      <td>[(battersea, two, bedroom), (two, bedroom, hou...</td>\n",
       "    </tr>\n",
       "  </tbody>\n",
       "</table>\n",
       "</div>"
      ],
      "text/plain": [
       "                                    name  price  neighbourhood_cleansed  \\\n",
       "0     Cozy, 3 minutes to Piccadilly Line   35.0                Haringey   \n",
       "1    Holiday London DB Room Let-on going   65.0               Islington   \n",
       "2    Bright Chelsea  Apartment. Chelsea!  100.0  Kensington and Chelsea   \n",
       "3  Superb 3-Bed/2 Bath & Wifi: Trendy W1  300.0             Westminster   \n",
       "4    Battersea 2 bedroom house & parking  175.0              Wandsworth   \n",
       "\n",
       "    zipcode                                    token_process  \\\n",
       "0    N8 0EY               cozy, 3 minutes to piccadilly line   \n",
       "1      N4 3          holiday london double room let on going   \n",
       "2       SW3              bright chelsea  apartment. chelsea!   \n",
       "3    W1T4BP  superb three bed two bathroom & wifi: trendy w1   \n",
       "4  SW11 5GX            battersea two bedroom house & parking   \n",
       "\n",
       "                                            unigrams  \\\n",
       "0           [cozy, 3, minutes, to, piccadilly, line]   \n",
       "1    [holiday, london, double, room, let, on, going]   \n",
       "2              [bright, chelsea, apartment, chelsea]   \n",
       "3  [superb, three, bed, two, bathroom, wifi, tren...   \n",
       "4          [battersea, two, bedroom, house, parking]   \n",
       "\n",
       "                                             bigrams  \\\n",
       "0  [(cozy, 3), (3, minutes), (minutes, to), (to, ...   \n",
       "1  [(holiday, london), (london, double), (double,...   \n",
       "2  [(bright, chelsea), (chelsea, apartment), (apa...   \n",
       "3  [(superb, three), (three, bed), (bed, two), (t...   \n",
       "4  [(battersea, two), (two, bedroom), (bedroom, h...   \n",
       "\n",
       "                                            trigrams  \n",
       "0  [(cozy, 3, minutes), (3, minutes, to), (minute...  \n",
       "1  [(holiday, london, double), (london, double, r...  \n",
       "2  [(bright, chelsea, apartment), (chelsea, apart...  \n",
       "3  [(superb, three, bed), (three, bed, two), (bed...  \n",
       "4  [(battersea, two, bedroom), (two, bedroom, hou...  "
      ]
     },
     "execution_count": 56,
     "metadata": {},
     "output_type": "execute_result"
    }
   ],
   "source": [
    "listings_df2.head()"
   ]
  },
  {
   "cell_type": "code",
   "execution_count": 57,
   "metadata": {},
   "outputs": [],
   "source": [
    "bins = list(range(10,501,10))"
   ]
  },
  {
   "cell_type": "code",
   "execution_count": 58,
   "metadata": {},
   "outputs": [
    {
     "data": {
      "text/plain": [
       "(array([ 773., 5421., 8310., 7398., 6290., 5127., 4889., 4746., 4875.,\n",
       "        3967., 2512., 3624., 1997., 1845., 2753., 1345., 1160., 1134.,\n",
       "        1004., 1370.,  365.,  723.,  324.,  388.,  973.,  217.,  244.,\n",
       "         274.,  301.,  574.,   75.,  208.,  102.,  138.,  383.,   79.,\n",
       "          83.,   84.,  163.,  230.,   30.,   83.,   46.,   50.,  155.,\n",
       "          24.,   32.,   34.,  299.]),\n",
       " array([ 10,  20,  30,  40,  50,  60,  70,  80,  90, 100, 110, 120, 130,\n",
       "        140, 150, 160, 170, 180, 190, 200, 210, 220, 230, 240, 250, 260,\n",
       "        270, 280, 290, 300, 310, 320, 330, 340, 350, 360, 370, 380, 390,\n",
       "        400, 410, 420, 430, 440, 450, 460, 470, 480, 490, 500]),\n",
       " <a list of 49 Patch objects>)"
      ]
     },
     "execution_count": 58,
     "metadata": {},
     "output_type": "execute_result"
    },
    {
     "data": {
      "image/png": "[encoded data removed]",
      "text/plain": [
       "<Figure size 432x288 with 1 Axes>"
      ]
     },
     "metadata": {},
     "output_type": "display_data"
    }
   ],
   "source": [
    "plt.hist(listings_df2['price'],bins = bins)"
   ]
  },
  {
   "cell_type": "code",
   "execution_count": 59,
   "metadata": {},
   "outputs": [
    {
     "data": {
      "text/plain": [
       "7977"
      ]
     },
     "execution_count": 59,
     "metadata": {},
     "output_type": "execute_result"
    }
   ],
   "source": [
    "len(listings_df2[listings_df2['price']>200])"
   ]
  },
  {
   "cell_type": "markdown",
   "metadata": {},
   "source": [
    "# Naive Bayes"
   ]
  },
  {
   "cell_type": "markdown",
   "metadata": {},
   "source": [
    "## Data formatting"
   ]
  },
  {
   "cell_type": "code",
   "execution_count": 61,
   "metadata": {},
   "outputs": [
    {
     "data": {
      "text/plain": [
       "130.0"
      ]
     },
     "execution_count": 61,
     "metadata": {},
     "output_type": "execute_result"
    }
   ],
   "source": [
    "# Data formatting\n",
    "listings_df2['price'].quantile(q=0.75)"
   ]
  },
  {
   "cell_type": "code",
   "execution_count": 118,
   "metadata": {},
   "outputs": [],
   "source": [
    "# say we use 4 bins of quartile\n",
    "# 1 = x< 45, 2 = 45>= x <=80, 3 = 80<=x<130, 4 = x>=130\n",
    "\n",
    "listings_df2['bins'] = [1 if price < 45 else 2 if price >= 45 and price <80 else 3 if price >= 80 and price <130 else 4 for price in listings_df2['price']]"
   ]
  },
  {
   "cell_type": "code",
   "execution_count": 119,
   "metadata": {},
   "outputs": [
    {
     "data": {
      "text/html": [
       "<div>\n",
       "<style scoped>\n",
       "    .dataframe tbody tr th:only-of-type {\n",
       "        vertical-align: middle;\n",
       "    }\n",
       "\n",
       "    .dataframe tbody tr th {\n",
       "        vertical-align: top;\n",
       "    }\n",
       "\n",
       "    .dataframe thead th {\n",
       "        text-align: right;\n",
       "    }\n",
       "</style>\n",
       "<table border=\"1\" class=\"dataframe\">\n",
       "  <thead>\n",
       "    <tr style=\"text-align: right;\">\n",
       "      <th></th>\n",
       "      <th>name</th>\n",
       "      <th>price</th>\n",
       "      <th>neighbourhood_cleansed</th>\n",
       "      <th>zipcode</th>\n",
       "      <th>token_process</th>\n",
       "      <th>unigrams</th>\n",
       "      <th>bigrams</th>\n",
       "      <th>trigrams</th>\n",
       "      <th>bins</th>\n",
       "    </tr>\n",
       "  </thead>\n",
       "  <tbody>\n",
       "    <tr>\n",
       "      <th>0</th>\n",
       "      <td>Cozy, 3 minutes to Piccadilly Line</td>\n",
       "      <td>35.0</td>\n",
       "      <td>Haringey</td>\n",
       "      <td>N8 0EY</td>\n",
       "      <td>cozy, 3 minutes to piccadilly line</td>\n",
       "      <td>[cozy, 3, minutes, to, piccadilly, line]</td>\n",
       "      <td>[(cozy, 3), (3, minutes), (minutes, to), (to, ...</td>\n",
       "      <td>[(cozy, 3, minutes), (3, minutes, to), (minute...</td>\n",
       "      <td>1</td>\n",
       "    </tr>\n",
       "    <tr>\n",
       "      <th>1</th>\n",
       "      <td>Holiday London DB Room Let-on going</td>\n",
       "      <td>65.0</td>\n",
       "      <td>Islington</td>\n",
       "      <td>N4 3</td>\n",
       "      <td>holiday london double room let on going</td>\n",
       "      <td>[holiday, london, double, room, let, on, going]</td>\n",
       "      <td>[(holiday, london), (london, double), (double,...</td>\n",
       "      <td>[(holiday, london, double), (london, double, r...</td>\n",
       "      <td>2</td>\n",
       "    </tr>\n",
       "    <tr>\n",
       "      <th>2</th>\n",
       "      <td>Bright Chelsea  Apartment. Chelsea!</td>\n",
       "      <td>100.0</td>\n",
       "      <td>Kensington and Chelsea</td>\n",
       "      <td>SW3</td>\n",
       "      <td>bright chelsea  apartment. chelsea!</td>\n",
       "      <td>[bright, chelsea, apartment, chelsea]</td>\n",
       "      <td>[(bright, chelsea), (chelsea, apartment), (apa...</td>\n",
       "      <td>[(bright, chelsea, apartment), (chelsea, apart...</td>\n",
       "      <td>3</td>\n",
       "    </tr>\n",
       "    <tr>\n",
       "      <th>3</th>\n",
       "      <td>Superb 3-Bed/2 Bath &amp; Wifi: Trendy W1</td>\n",
       "      <td>300.0</td>\n",
       "      <td>Westminster</td>\n",
       "      <td>W1T4BP</td>\n",
       "      <td>superb three bed two bathroom &amp; wifi: trendy w1</td>\n",
       "      <td>[superb, three, bed, two, bathroom, wifi, tren...</td>\n",
       "      <td>[(superb, three), (three, bed), (bed, two), (t...</td>\n",
       "      <td>[(superb, three, bed), (three, bed, two), (bed...</td>\n",
       "      <td>4</td>\n",
       "    </tr>\n",
       "    <tr>\n",
       "      <th>4</th>\n",
       "      <td>Battersea 2 bedroom house &amp; parking</td>\n",
       "      <td>175.0</td>\n",
       "      <td>Wandsworth</td>\n",
       "      <td>SW11 5GX</td>\n",
       "      <td>battersea two bedroom house &amp; parking</td>\n",
       "      <td>[battersea, two, bedroom, house, parking]</td>\n",
       "      <td>[(battersea, two), (two, bedroom), (bedroom, h...</td>\n",
       "      <td>[(battersea, two, bedroom), (two, bedroom, hou...</td>\n",
       "      <td>4</td>\n",
       "    </tr>\n",
       "  </tbody>\n",
       "</table>\n",
       "</div>"
      ],
      "text/plain": [
       "                                    name  price  neighbourhood_cleansed  \\\n",
       "0     Cozy, 3 minutes to Piccadilly Line   35.0                Haringey   \n",
       "1    Holiday London DB Room Let-on going   65.0               Islington   \n",
       "2    Bright Chelsea  Apartment. Chelsea!  100.0  Kensington and Chelsea   \n",
       "3  Superb 3-Bed/2 Bath & Wifi: Trendy W1  300.0             Westminster   \n",
       "4    Battersea 2 bedroom house & parking  175.0              Wandsworth   \n",
       "\n",
       "    zipcode                                    token_process  \\\n",
       "0    N8 0EY               cozy, 3 minutes to piccadilly line   \n",
       "1      N4 3          holiday london double room let on going   \n",
       "2       SW3              bright chelsea  apartment. chelsea!   \n",
       "3    W1T4BP  superb three bed two bathroom & wifi: trendy w1   \n",
       "4  SW11 5GX            battersea two bedroom house & parking   \n",
       "\n",
       "                                            unigrams  \\\n",
       "0           [cozy, 3, minutes, to, piccadilly, line]   \n",
       "1    [holiday, london, double, room, let, on, going]   \n",
       "2              [bright, chelsea, apartment, chelsea]   \n",
       "3  [superb, three, bed, two, bathroom, wifi, tren...   \n",
       "4          [battersea, two, bedroom, house, parking]   \n",
       "\n",
       "                                             bigrams  \\\n",
       "0  [(cozy, 3), (3, minutes), (minutes, to), (to, ...   \n",
       "1  [(holiday, london), (london, double), (double,...   \n",
       "2  [(bright, chelsea), (chelsea, apartment), (apa...   \n",
       "3  [(superb, three), (three, bed), (bed, two), (t...   \n",
       "4  [(battersea, two), (two, bedroom), (bedroom, h...   \n",
       "\n",
       "                                            trigrams  bins  \n",
       "0  [(cozy, 3, minutes), (3, minutes, to), (minute...     1  \n",
       "1  [(holiday, london, double), (london, double, r...     2  \n",
       "2  [(bright, chelsea, apartment), (chelsea, apart...     3  \n",
       "3  [(superb, three, bed), (three, bed, two), (bed...     4  \n",
       "4  [(battersea, two, bedroom), (two, bedroom, hou...     4  "
      ]
     },
     "execution_count": 119,
     "metadata": {},
     "output_type": "execute_result"
    }
   ],
   "source": [
    "listings_df2.head()"
   ]
  },
  {
   "cell_type": "code",
   "execution_count": 120,
   "metadata": {},
   "outputs": [],
   "source": [
    "listings_df2['unigrams_labelled'] = list(zip(listings_df2['unigrams'], listings_df2['bins']))"
   ]
  },
  {
   "cell_type": "code",
   "execution_count": 121,
   "metadata": {},
   "outputs": [],
   "source": [
    "listings_df2['bigrams_labelled'] = list(zip(listings_df2['bigrams'], listings_df2['bins']))"
   ]
  },
  {
   "cell_type": "code",
   "execution_count": 122,
   "metadata": {},
   "outputs": [],
   "source": [
    "listings_df2['trigrams_labelled'] = list(zip(listings_df2['trigrams'], listings_df2['bins']))"
   ]
  },
  {
   "cell_type": "code",
   "execution_count": 123,
   "metadata": {},
   "outputs": [
    {
     "data": {
      "text/html": [
       "<div>\n",
       "<style scoped>\n",
       "    .dataframe tbody tr th:only-of-type {\n",
       "        vertical-align: middle;\n",
       "    }\n",
       "\n",
       "    .dataframe tbody tr th {\n",
       "        vertical-align: top;\n",
       "    }\n",
       "\n",
       "    .dataframe thead th {\n",
       "        text-align: right;\n",
       "    }\n",
       "</style>\n",
       "<table border=\"1\" class=\"dataframe\">\n",
       "  <thead>\n",
       "    <tr style=\"text-align: right;\">\n",
       "      <th></th>\n",
       "      <th>name</th>\n",
       "      <th>price</th>\n",
       "      <th>neighbourhood_cleansed</th>\n",
       "      <th>zipcode</th>\n",
       "      <th>token_process</th>\n",
       "      <th>unigrams</th>\n",
       "      <th>bigrams</th>\n",
       "      <th>trigrams</th>\n",
       "      <th>bins</th>\n",
       "      <th>unigrams_labelled</th>\n",
       "      <th>bigrams_labelled</th>\n",
       "      <th>trigrams_labelled</th>\n",
       "    </tr>\n",
       "  </thead>\n",
       "  <tbody>\n",
       "    <tr>\n",
       "      <th>0</th>\n",
       "      <td>Cozy, 3 minutes to Piccadilly Line</td>\n",
       "      <td>35.0</td>\n",
       "      <td>Haringey</td>\n",
       "      <td>N8 0EY</td>\n",
       "      <td>cozy, 3 minutes to piccadilly line</td>\n",
       "      <td>[cozy, 3, minutes, to, piccadilly, line]</td>\n",
       "      <td>[(cozy, 3), (3, minutes), (minutes, to), (to, ...</td>\n",
       "      <td>[(cozy, 3, minutes), (3, minutes, to), (minute...</td>\n",
       "      <td>1</td>\n",
       "      <td>([cozy, 3, minutes, to, piccadilly, line], 1)</td>\n",
       "      <td>([(cozy, 3), (3, minutes), (minutes, to), (to,...</td>\n",
       "      <td>([(cozy, 3, minutes), (3, minutes, to), (minut...</td>\n",
       "    </tr>\n",
       "    <tr>\n",
       "      <th>1</th>\n",
       "      <td>Holiday London DB Room Let-on going</td>\n",
       "      <td>65.0</td>\n",
       "      <td>Islington</td>\n",
       "      <td>N4 3</td>\n",
       "      <td>holiday london double room let on going</td>\n",
       "      <td>[holiday, london, double, room, let, on, going]</td>\n",
       "      <td>[(holiday, london), (london, double), (double,...</td>\n",
       "      <td>[(holiday, london, double), (london, double, r...</td>\n",
       "      <td>2</td>\n",
       "      <td>([holiday, london, double, room, let, on, goin...</td>\n",
       "      <td>([(holiday, london), (london, double), (double...</td>\n",
       "      <td>([(holiday, london, double), (london, double, ...</td>\n",
       "    </tr>\n",
       "    <tr>\n",
       "      <th>2</th>\n",
       "      <td>Bright Chelsea  Apartment. Chelsea!</td>\n",
       "      <td>100.0</td>\n",
       "      <td>Kensington and Chelsea</td>\n",
       "      <td>SW3</td>\n",
       "      <td>bright chelsea  apartment. chelsea!</td>\n",
       "      <td>[bright, chelsea, apartment, chelsea]</td>\n",
       "      <td>[(bright, chelsea), (chelsea, apartment), (apa...</td>\n",
       "      <td>[(bright, chelsea, apartment), (chelsea, apart...</td>\n",
       "      <td>3</td>\n",
       "      <td>([bright, chelsea, apartment, chelsea], 3)</td>\n",
       "      <td>([(bright, chelsea), (chelsea, apartment), (ap...</td>\n",
       "      <td>([(bright, chelsea, apartment), (chelsea, apar...</td>\n",
       "    </tr>\n",
       "    <tr>\n",
       "      <th>3</th>\n",
       "      <td>Superb 3-Bed/2 Bath &amp; Wifi: Trendy W1</td>\n",
       "      <td>300.0</td>\n",
       "      <td>Westminster</td>\n",
       "      <td>W1T4BP</td>\n",
       "      <td>superb three bed two bathroom &amp; wifi: trendy w1</td>\n",
       "      <td>[superb, three, bed, two, bathroom, wifi, tren...</td>\n",
       "      <td>[(superb, three), (three, bed), (bed, two), (t...</td>\n",
       "      <td>[(superb, three, bed), (three, bed, two), (bed...</td>\n",
       "      <td>4</td>\n",
       "      <td>([superb, three, bed, two, bathroom, wifi, tre...</td>\n",
       "      <td>([(superb, three), (three, bed), (bed, two), (...</td>\n",
       "      <td>([(superb, three, bed), (three, bed, two), (be...</td>\n",
       "    </tr>\n",
       "    <tr>\n",
       "      <th>4</th>\n",
       "      <td>Battersea 2 bedroom house &amp; parking</td>\n",
       "      <td>175.0</td>\n",
       "      <td>Wandsworth</td>\n",
       "      <td>SW11 5GX</td>\n",
       "      <td>battersea two bedroom house &amp; parking</td>\n",
       "      <td>[battersea, two, bedroom, house, parking]</td>\n",
       "      <td>[(battersea, two), (two, bedroom), (bedroom, h...</td>\n",
       "      <td>[(battersea, two, bedroom), (two, bedroom, hou...</td>\n",
       "      <td>4</td>\n",
       "      <td>([battersea, two, bedroom, house, parking], 4)</td>\n",
       "      <td>([(battersea, two), (two, bedroom), (bedroom, ...</td>\n",
       "      <td>([(battersea, two, bedroom), (two, bedroom, ho...</td>\n",
       "    </tr>\n",
       "  </tbody>\n",
       "</table>\n",
       "</div>"
      ],
      "text/plain": [
       "                                    name  price  neighbourhood_cleansed  \\\n",
       "0     Cozy, 3 minutes to Piccadilly Line   35.0                Haringey   \n",
       "1    Holiday London DB Room Let-on going   65.0               Islington   \n",
       "2    Bright Chelsea  Apartment. Chelsea!  100.0  Kensington and Chelsea   \n",
       "3  Superb 3-Bed/2 Bath & Wifi: Trendy W1  300.0             Westminster   \n",
       "4    Battersea 2 bedroom house & parking  175.0              Wandsworth   \n",
       "\n",
       "    zipcode                                    token_process  \\\n",
       "0    N8 0EY               cozy, 3 minutes to piccadilly line   \n",
       "1      N4 3          holiday london double room let on going   \n",
       "2       SW3              bright chelsea  apartment. chelsea!   \n",
       "3    W1T4BP  superb three bed two bathroom & wifi: trendy w1   \n",
       "4  SW11 5GX            battersea two bedroom house & parking   \n",
       "\n",
       "                                            unigrams  \\\n",
       "0           [cozy, 3, minutes, to, piccadilly, line]   \n",
       "1    [holiday, london, double, room, let, on, going]   \n",
       "2              [bright, chelsea, apartment, chelsea]   \n",
       "3  [superb, three, bed, two, bathroom, wifi, tren...   \n",
       "4          [battersea, two, bedroom, house, parking]   \n",
       "\n",
       "                                             bigrams  \\\n",
       "0  [(cozy, 3), (3, minutes), (minutes, to), (to, ...   \n",
       "1  [(holiday, london), (london, double), (double,...   \n",
       "2  [(bright, chelsea), (chelsea, apartment), (apa...   \n",
       "3  [(superb, three), (three, bed), (bed, two), (t...   \n",
       "4  [(battersea, two), (two, bedroom), (bedroom, h...   \n",
       "\n",
       "                                            trigrams  bins  \\\n",
       "0  [(cozy, 3, minutes), (3, minutes, to), (minute...     1   \n",
       "1  [(holiday, london, double), (london, double, r...     2   \n",
       "2  [(bright, chelsea, apartment), (chelsea, apart...     3   \n",
       "3  [(superb, three, bed), (three, bed, two), (bed...     4   \n",
       "4  [(battersea, two, bedroom), (two, bedroom, hou...     4   \n",
       "\n",
       "                                   unigrams_labelled  \\\n",
       "0      ([cozy, 3, minutes, to, piccadilly, line], 1)   \n",
       "1  ([holiday, london, double, room, let, on, goin...   \n",
       "2         ([bright, chelsea, apartment, chelsea], 3)   \n",
       "3  ([superb, three, bed, two, bathroom, wifi, tre...   \n",
       "4     ([battersea, two, bedroom, house, parking], 4)   \n",
       "\n",
       "                                    bigrams_labelled  \\\n",
       "0  ([(cozy, 3), (3, minutes), (minutes, to), (to,...   \n",
       "1  ([(holiday, london), (london, double), (double...   \n",
       "2  ([(bright, chelsea), (chelsea, apartment), (ap...   \n",
       "3  ([(superb, three), (three, bed), (bed, two), (...   \n",
       "4  ([(battersea, two), (two, bedroom), (bedroom, ...   \n",
       "\n",
       "                                   trigrams_labelled  \n",
       "0  ([(cozy, 3, minutes), (3, minutes, to), (minut...  \n",
       "1  ([(holiday, london, double), (london, double, ...  \n",
       "2  ([(bright, chelsea, apartment), (chelsea, apar...  \n",
       "3  ([(superb, three, bed), (three, bed, two), (be...  \n",
       "4  ([(battersea, two, bedroom), (two, bedroom, ho...  "
      ]
     },
     "execution_count": 123,
     "metadata": {},
     "output_type": "execute_result"
    }
   ],
   "source": [
    "listings_df2.head()"
   ]
  },
  {
   "cell_type": "code",
   "execution_count": 124,
   "metadata": {},
   "outputs": [],
   "source": [
    "# split data into train and test\n",
    "\n",
    "msk = np.random.rand(len(listings_df2)) < 0.8\n",
    "\n",
    "train = listings_df2[msk]\n",
    "\n",
    "test = listings_df2[~msk]"
   ]
  },
  {
   "cell_type": "code",
   "execution_count": 125,
   "metadata": {},
   "outputs": [
    {
     "name": "stdout",
     "output_type": "stream",
     "text": [
      "62659 15699\n"
     ]
    }
   ],
   "source": [
    "print(len(train),len(test))"
   ]
  },
  {
   "cell_type": "markdown",
   "metadata": {},
   "source": [
    "## Ngrams Vocab and Counts"
   ]
  },
  {
   "cell_type": "code",
   "execution_count": 131,
   "metadata": {},
   "outputs": [],
   "source": [
    "# Create unigarm vocab and count\n",
    "unigram_vocab_train = [word for name in train['unigrams'] for word in name]\n",
    "unigram_vocab_test = [word for name in test['unigrams'] for word in name]\n",
    "\n",
    "unigram_counter_train = Counter(unigram_vocab_train)\n",
    "unigram_counter_test = Counter(unigram_vocab_test)"
   ]
  },
  {
   "cell_type": "code",
   "execution_count": 132,
   "metadata": {},
   "outputs": [
    {
     "name": "stdout",
     "output_type": "stream",
     "text": [
      "[('in', 22590), ('room', 15182), ('flat', 13279), ('london', 11850), ('bedroom', 11737), ('double', 10367), ('apartment', 9608), ('bed', 8810), ('two', 7591), ('with', 6817)]\n",
      "[('in', 5790), ('room', 3951), ('flat', 3215), ('london', 2983), ('bedroom', 2826), ('double', 2591), ('apartment', 2464), ('bed', 2268), ('two', 1868), ('with', 1642)]\n"
     ]
    }
   ],
   "source": [
    "print(unigram_counter_train.most_common(10))\n",
    "print(unigram_counter_test.most_common(10))"
   ]
  },
  {
   "cell_type": "code",
   "execution_count": 133,
   "metadata": {},
   "outputs": [],
   "source": [
    "# Create bigarm vocab and count\n",
    "bigram_vocab_train = [word for name in train['bigrams'] for word in name]\n",
    "bigram_vocab_test = [word for name in test['bigrams'] for word in name]\n",
    "\n",
    "bigram_counter_train = Counter(bigram_vocab_train)\n",
    "bigram_counter_test = Counter(bigram_vocab_test)"
   ]
  },
  {
   "cell_type": "code",
   "execution_count": 134,
   "metadata": {},
   "outputs": [
    {
     "name": "stdout",
     "output_type": "stream",
     "text": [
      "[(('room', 'in'), 6058), (('double', 'room'), 5871), (('flat', 'in'), 4335), (('two', 'bed'), 3372), (('central', 'london'), 3295), (('two', 'bedroom'), 3132), (('one', 'bedroom'), 2955), (('one', 'bed'), 2593), (('double', 'bedroom'), 2492), (('apartment', 'in'), 2430)]\n",
      "[(('room', 'in'), 1651), (('double', 'room'), 1518), (('flat', 'in'), 1083), (('two', 'bed'), 859), (('central', 'london'), 824), (('two', 'bedroom'), 736), (('one', 'bedroom'), 721), (('one', 'bed'), 698), (('apartment', 'in'), 611), (('double', 'bedroom'), 600)]\n"
     ]
    }
   ],
   "source": [
    "print(bigram_counter_train.most_common(10))\n",
    "print(bigram_counter_test.most_common(10))"
   ]
  },
  {
   "cell_type": "code",
   "execution_count": 135,
   "metadata": {},
   "outputs": [],
   "source": [
    "# Create trigarm vocab and count\n",
    "trigram_vocab_train = [word for name in train['trigrams'] for word in name]\n",
    "trigram_vocab_test = [word for name in test['trigrams'] for word in name]\n",
    "\n",
    "trigram_counter_train = Counter(trigram_vocab_train)\n",
    "trigram_counter_test = Counter(trigram_vocab_test)"
   ]
  },
  {
   "cell_type": "code",
   "execution_count": 136,
   "metadata": {},
   "outputs": [
    {
     "name": "stdout",
     "output_type": "stream",
     "text": [
      "[(('double', 'room', 'in'), 2503), (('the', 'heart', 'of'), 1214), (('in', 'the', 'heart'), 1168), (('one', 'bedroom', 'flat'), 1149), (('in', 'central', 'london'), 1070), (('one', 'bed', 'flat'), 985), (('bedroom', 'flat', 'in'), 980), (('two', 'bedroom', 'flat'), 928), (('double', 'bedroom', 'in'), 916), (('one', 'bedroom', 'apartment'), 842)]\n",
      "[(('double', 'room', 'in'), 682), (('the', 'heart', 'of'), 293), (('in', 'central', 'london'), 290), (('in', 'the', 'heart'), 280), (('one', 'bedroom', 'flat'), 267), (('double', 'bedroom', 'in'), 254), (('one', 'bed', 'flat'), 251), (('two', 'bed', 'flat'), 229), (('one', 'bedroom', 'apartment'), 218), (('two', 'bedroom', 'apartment'), 214)]\n"
     ]
    }
   ],
   "source": [
    "print(trigram_counter_train.most_common(10))\n",
    "print(trigram_counter_test.most_common(10))"
   ]
  },
  {
   "cell_type": "code",
   "execution_count": 176,
   "metadata": {},
   "outputs": [
    {
     "data": {
      "image/png": "[encoded data removed]",
      "text/plain": [
       "<Figure size 576x432 with 1 Axes>"
      ]
     },
     "metadata": {},
     "output_type": "display_data"
    }
   ],
   "source": [
    "sns.set(font_scale=1.25)\n",
    "plt.figure(figsize=(8,6))\n",
    "plt.loglog(range(len(unigram_counter_train)), sorted(unigram_counter_train.values(), reverse=True), label='Unigram')\n",
    "plt.loglog(range(len(bigram_counter_train)), sorted(bigram_counter_train.values(), reverse=True), label='Bigram')\n",
    "plt.loglog(range(len(trigram_counter_train)), sorted(trigram_counter_train.values(), reverse=True), label='Trigram')\n",
    "plt.title('Rank-Frequency Distributions for Training Data')\n",
    "plt.xlabel('Log(Rank)')\n",
    "plt.ylabel('Log(Frequency)')\n",
    "plt.legend()\n",
    "plt.show()"
   ]
  },
  {
   "cell_type": "code",
   "execution_count": 177,
   "metadata": {},
   "outputs": [
    {
     "data": {
      "image/png": "[encoded data removed]",
      "text/plain": [
       "<Figure size 576x432 with 1 Axes>"
      ]
     },
     "metadata": {},
     "output_type": "display_data"
    }
   ],
   "source": [
    "sns.set(font_scale=1.25)\n",
    "plt.figure(figsize=(8,6))\n",
    "plt.loglog(range(len(unigram_counter_test)), sorted(unigram_counter_test.values(), reverse=True), label='Unigram')\n",
    "plt.loglog(range(len(bigram_counter_test)), sorted(bigram_counter_test.values(), reverse=True), label='Bigram')\n",
    "plt.loglog(range(len(trigram_counter_test)), sorted(trigram_counter_test.values(), reverse=True), label='Trigram')\n",
    "plt.title('Rank-Frequency Distributions for Test Data')\n",
    "plt.xlabel('Log(Rank)')\n",
    "plt.ylabel('Log(Frequency)')\n",
    "plt.legend()\n",
    "plt.show()"
   ]
  },
  {
   "cell_type": "code",
   "execution_count": 179,
   "metadata": {},
   "outputs": [
    {
     "data": {
      "text/html": [
       "<div>\n",
       "<style scoped>\n",
       "    .dataframe tbody tr th:only-of-type {\n",
       "        vertical-align: middle;\n",
       "    }\n",
       "\n",
       "    .dataframe tbody tr th {\n",
       "        vertical-align: top;\n",
       "    }\n",
       "\n",
       "    .dataframe thead th {\n",
       "        text-align: right;\n",
       "    }\n",
       "</style>\n",
       "<table border=\"1\" class=\"dataframe\">\n",
       "  <thead>\n",
       "    <tr style=\"text-align: right;\">\n",
       "      <th></th>\n",
       "      <th>UNIGRAM TRAINING</th>\n",
       "      <th>UNIGRAM TEST</th>\n",
       "    </tr>\n",
       "  </thead>\n",
       "  <tbody>\n",
       "    <tr>\n",
       "      <th>UNIGRAM TRAINING</th>\n",
       "      <td>10504</td>\n",
       "      <td>3224</td>\n",
       "    </tr>\n",
       "    <tr>\n",
       "      <th>UNIGRAM TEST</th>\n",
       "      <td>3224</td>\n",
       "      <td>4744</td>\n",
       "    </tr>\n",
       "  </tbody>\n",
       "</table>\n",
       "</div>"
      ],
      "text/plain": [
       "                  UNIGRAM TRAINING  UNIGRAM TEST\n",
       "UNIGRAM TRAINING             10504          3224\n",
       "UNIGRAM TEST                  3224          4744"
      ]
     },
     "execution_count": 179,
     "metadata": {},
     "output_type": "execute_result"
    }
   ],
   "source": [
    "# How much do vocabularies overlap?\n",
    "\n",
    "unigram_vocab = [set(unigram_vocab_train), set(unigram_vocab_test)]\n",
    "unigram_vocab_array = np.empty([len(unigram_vocab),len(unigram_vocab)])\n",
    "\n",
    "for i in range(len(unigram_vocab)):\n",
    "    for j in range(len(unigram_vocab)):\n",
    "        unigram_vocab_array[i][j] = len(unigram_vocab[i].intersection(unigram_vocab[j]))\n",
    "\n",
    "unigram_vocab_df = pd.DataFrame(unigram_vocab_array.astype(int), columns=['UNIGRAM TRAINING', 'UNIGRAM TEST'])\n",
    "unigram_vocab_df.rename(index={0: 'UNIGRAM TRAINING', 1: 'UNIGRAM TEST'}, inplace=True)\n",
    "unigram_vocab_df"
   ]
  },
  {
   "cell_type": "code",
   "execution_count": 126,
   "metadata": {},
   "outputs": [],
   "source": [
    "# Format ngrams for NLTK classifier\n",
    "\n",
    "# Unigrams\n",
    "unigram_training_set = [(dict(Counter(unigram)), price) for (unigram, price) in train['unigrams_labelled']]\n",
    "unigram_test_set = [(dict(Counter(unigram)), price) for (unigram, price) in test['unigrams_labelled']]\n",
    "\n",
    "# Bigrams\n",
    "bigram_training_set = [(dict(Counter(unigram)), price) for (unigram, price) in train['bigrams_labelled']]\n",
    "bigram_test_set = [(dict(Counter(unigram)), price) for (unigram, price) in test['bigrams_labelled']]\n",
    "\n",
    "# Trigrams\n",
    "trigram_training_set = [(dict(Counter(unigram)), price) for (unigram, price) in train['trigrams_labelled']]\n",
    "trigram_test_set = [(dict(Counter(unigram)), price) for (unigram, price) in test['trigrams_labelled']]"
   ]
  },
  {
   "cell_type": "code",
   "execution_count": 127,
   "metadata": {},
   "outputs": [
    {
     "data": {
      "text/plain": [
       "({'cozy': 1, '3': 1, 'minutes': 1, 'to': 1, 'piccadilly': 1, 'line': 1}, 1)"
      ]
     },
     "execution_count": 127,
     "metadata": {},
     "output_type": "execute_result"
    }
   ],
   "source": [
    "unigram_training_set[0]"
   ]
  },
  {
   "cell_type": "code",
   "execution_count": 137,
   "metadata": {},
   "outputs": [],
   "source": [
    "# find OOV items\n",
    "\n",
    "# Unigram\n",
    "unigram_OOV = list(set(unigram_vocab_test) - set(unigram_vocab_train).intersection(set(unigram_vocab_test)))\n",
    "\n",
    "# Bigram\n",
    "bigram_OOV = list(set(bigram_vocab_test) - set(bigram_vocab_train).intersection(set(bigram_vocab_test)))\n",
    "\n",
    "# Trigram\n",
    "trigram_OOV = list(set(trigram_vocab_test) - set(trigram_vocab_train).intersection(set(trigram_vocab_test)))"
   ]
  },
  {
   "cell_type": "code",
   "execution_count": 138,
   "metadata": {},
   "outputs": [
    {
     "name": "stdout",
     "output_type": "stream",
     "text": [
      "1522 9537 21353\n"
     ]
    }
   ],
   "source": [
    "print(len(unigram_OOV),len(bigram_OOV),len(trigram_OOV))"
   ]
  },
  {
   "cell_type": "code",
   "execution_count": 188,
   "metadata": {},
   "outputs": [
    {
     "name": "stdout",
     "output_type": "stream",
     "text": [
      "0.015303249678249678 0.11386510978186898 0.3133465404651845\n"
     ]
    }
   ],
   "source": [
    "print(len(unigram_OOV)/len(unigram_vocab_test),len(bigram_OOV)/len(bigram_vocab_test),len(trigram_OOV)/len(trigram_vocab_test))\n",
    "\n"
   ]
  },
  {
   "cell_type": "code",
   "execution_count": 171,
   "metadata": {},
   "outputs": [
    {
     "data": {
      "text/plain": [
       "({'cozy': 1, '3': 1, 'minutes': 1, 'to': 1, 'piccadilly': 1, 'line': 1}, 1)"
      ]
     },
     "execution_count": 171,
     "metadata": {},
     "output_type": "execute_result"
    }
   ],
   "source": [
    "unigram_training_set[0]"
   ]
  },
  {
   "cell_type": "markdown",
   "metadata": {},
   "source": [
    "# NLTK Classifiers"
   ]
  },
  {
   "cell_type": "markdown",
   "metadata": {},
   "source": [
    "### Qunatile bins - Remove abbrevations"
   ]
  },
  {
   "cell_type": "code",
   "execution_count": 140,
   "metadata": {},
   "outputs": [
    {
     "name": "stdout",
     "output_type": "stream",
     "text": [
      "0.5500987324033378\n",
      "Most Informative Features\n",
      "                     two = 2                   4 : 1      =    220.8 : 1.0\n",
      "                 mayfair = 1                   4 : 1      =    123.2 : 1.0\n",
      "                  female = 1                   1 : 4      =     83.7 : 1.0\n",
      "               2bathroom = 1                   4 : 2      =     44.4 : 1.0\n",
      "                   share = 1                   1 : 4      =     42.2 : 1.0\n",
      "                 managed = 1                   4 : 2      =     40.6 : 1.0\n",
      "                 harrods = 1                   4 : 1      =     39.5 : 1.0\n",
      "                  sloane = 1                   4 : 1      =     38.3 : 1.0\n",
      "                     six = 1                   4 : 2      =     38.0 : 1.0\n",
      "                   veeve = 1                   4 : 3      =     36.9 : 1.0\n",
      "                  single = 1                   1 : 4      =     36.7 : 1.0\n",
      "           knightsbridge = 1                   4 : 2      =     34.3 : 1.0\n",
      "                   still = 1                   3 : 2      =     33.0 : 1.0\n",
      "                   cheap = 1                   1 : 4      =     31.6 : 1.0\n",
      "                  marble = 1                   4 : 1      =     30.9 : 1.0\n",
      "                    five = 1                   4 : 2      =     30.6 : 1.0\n",
      "               fitzrovia = 1                   4 : 1      =     28.0 : 1.0\n",
      "                    room = 1                   1 : 4      =     28.0 : 1.0\n",
      "              bloomsbury = 1                   3 : 1      =     27.5 : 1.0\n",
      "                     ken = 1                   4 : 1      =     26.8 : 1.0\n",
      "                 females = 1                   1 : 4      =     26.2 : 1.0\n",
      "                  hostel = 1                   1 : 4      =     26.2 : 1.0\n",
      "                    soho = 1                   4 : 1      =     26.1 : 1.0\n",
      "                    tidy = 1                   1 : 4      =     24.7 : 1.0\n",
      "                    four = 1                   4 : 1      =     24.0 : 1.0\n",
      "                  sleeps = 1                   4 : 1      =     22.0 : 1.0\n",
      "                   sleek = 1                   4 : 1      =     22.0 : 1.0\n",
      "                   three = 1                   4 : 1      =     21.5 : 1.0\n",
      "                   grand = 1                   4 : 1      =     20.8 : 1.0\n",
      "                  toilet = 1                   1 : 4      =     20.3 : 1.0\n",
      "                    hale = 1                   2 : 4      =     19.5 : 1.0\n",
      "               belgravia = 1                   4 : 2      =     19.3 : 1.0\n",
      "                    hyde = 1                   4 : 1      =     19.1 : 1.0\n",
      "               executive = 1                   3 : 1      =     18.9 : 1.0\n",
      "               ★amazing★ = 1                   2 : 4      =     18.8 : 1.0\n",
      "                designer = 1                   4 : 1      =     18.2 : 1.0\n",
      "                    mews = 1                   4 : 1      =     17.8 : 1.0\n",
      "                   apart = 1                   4 : 1      =     17.8 : 1.0\n",
      "               trafalgar = 1                   4 : 1      =     17.8 : 1.0\n",
      "                  double = 1                   1 : 4      =     17.5 : 1.0\n",
      "               streatham = 1                   1 : 4      =     17.5 : 1.0\n",
      "               flatshare = 1                   1 : 4      =     17.3 : 1.0\n",
      "                crawford = 1                   4 : 3      =     17.2 : 1.0\n",
      "                   2five = 1                   4 : 2      =     17.2 : 1.0\n",
      "                  museum = 1                   4 : 1      =     17.2 : 1.0\n",
      "              marylebone = 1                   4 : 1      =     17.0 : 1.0\n",
      "                      r1 = 1                   1 : 4      =     16.6 : 1.0\n",
      "               dormitory = 1                   1 : 4      =     16.6 : 1.0\n",
      "                   2bath = 1                   4 : 3      =     16.6 : 1.0\n",
      "                   pauls = 1                   4 : 2      =     16.6 : 1.0\n",
      "                    size = 1                   1 : 4      =     16.5 : 1.0\n",
      "                    solo = 1                   1 : 3      =     16.2 : 1.0\n",
      "               leicester = 1                   4 : 2      =     16.2 : 1.0\n",
      "                     bus = 1                   2 : 4      =     16.1 : 1.0\n",
      "             clerkenwell = 1                   3 : 1      =     16.0 : 1.0\n",
      "                flexible = 1                   4 : 2      =     15.9 : 1.0\n",
      "                 classic = 1                   4 : 1      =     15.7 : 1.0\n",
      "                     two = 1                   4 : 1      =     15.6 : 1.0\n",
      "               britannia = 1                   1 : 3      =     15.5 : 1.0\n",
      "                    exec = 1                   3 : 4      =     15.4 : 1.0\n",
      "                superior = 1                   4 : 1      =     15.4 : 1.0\n",
      "               3bathroom = 1                   4 : 3      =     15.3 : 1.0\n",
      "              farringdon = 1                   2 : 1      =     15.2 : 1.0\n",
      "                   sized = 1                   1 : 4      =     15.1 : 1.0\n",
      "              doubleroom = 1                   1 : 4      =     15.1 : 1.0\n",
      "                kingsize = 1                   1 : 4      =     15.0 : 1.0\n",
      "                    bdrm = 1                   4 : 1      =     14.8 : 1.0\n",
      "                cprivate = 1                   1 : 2      =     14.7 : 1.0\n",
      "              apartments = 1                   4 : 1      =     14.7 : 1.0\n",
      "                       ♡ = 2                   4 : 3      =     14.6 : 1.0\n",
      "                 studios = 1                   3 : 1      =     14.5 : 1.0\n",
      "                 british = 1                   4 : 1      =     14.2 : 1.0\n",
      "                    luxe = 1                   4 : 1      =     14.2 : 1.0\n",
      "                  duplex = 1                   4 : 1      =     14.1 : 1.0\n",
      "                   attic = 1                   1 : 3      =     14.0 : 1.0\n",
      "              gloucester = 1                   4 : 2      =     14.0 : 1.0\n",
      "                 ensuite = 1                   2 : 4      =     14.0 : 1.0\n",
      "                 parsons = 1                   3 : 1      =     13.9 : 1.0\n",
      "                 elegant = 1                   4 : 1      =     13.7 : 1.0\n",
      "                  covent = 1                   4 : 2      =     13.7 : 1.0\n",
      "              selfridges = 1                   4 : 3      =     13.3 : 1.0\n",
      "                  entire = 1                   3 : 1      =     13.3 : 1.0\n",
      "              buckingham = 1                   4 : 1      =     13.2 : 1.0\n",
      "                families = 1                   4 : 1      =     13.2 : 1.0\n",
      "               exquisite = 1                   4 : 1      =     13.0 : 1.0\n",
      "               traveller = 1                   1 : 4      =     12.9 : 1.0\n",
      "                   small = 1                   1 : 4      =     12.8 : 1.0\n",
      "                      tv = 1                   1 : 4      =     12.8 : 1.0\n",
      "                sleeping = 1                   4 : 3      =     12.7 : 1.0\n",
      "               desirable = 1                   4 : 2      =     12.7 : 1.0\n",
      "                      ac = 1                   4 : 2      =     12.7 : 1.0\n",
      "                      br = 1                   4 : 1      =     12.5 : 1.0\n",
      "             spectacular = 1                   4 : 1      =     12.5 : 1.0\n",
      "             fashionable = 1                   4 : 1      =     12.4 : 1.0\n",
      "                designed = 1                   4 : 1      =     12.2 : 1.0\n",
      "                 chelsea = 1                   4 : 1      =     12.2 : 1.0\n",
      "              travellers = 1                   1 : 4      =     12.2 : 1.0\n",
      "                 holborn = 1                   4 : 1      =     12.1 : 1.0\n",
      "               panoramic = 1                   3 : 1      =     12.1 : 1.0\n",
      "                     iii = 1                   4 : 2      =     11.9 : 1.0\n"
     ]
    }
   ],
   "source": [
    "nltk_unigram_classifier = nltk.NaiveBayesClassifier.train(unigram_training_set)\n",
    "print(nltk.classify.accuracy(nltk_unigram_classifier, unigram_test_set))\n",
    "nltk_unigram_classifier.show_most_informative_features(100)"
   ]
  },
  {
   "cell_type": "code",
   "execution_count": 141,
   "metadata": {},
   "outputs": [
    {
     "name": "stdout",
     "output_type": "stream",
     "text": [
      "0.54825148098605\n",
      "Most Informative Features\n",
      "    ('bright', 'double') = 1                   1 : 4      =    196.6 : 1.0\n",
      "     ('two', 'bathroom') = 1                   4 : 1      =    171.2 : 1.0\n",
      "      ('cosy', 'double') = 1                   1 : 4      =    141.9 : 1.0\n",
      "      ('bright', 'room') = 1                   1 : 4      =    112.5 : 1.0\n",
      "('bedroom', 'apartment') = 1                   4 : 1      =     89.1 : 1.0\n",
      "   ('private', 'double') = 1                   1 : 4      =     84.8 : 1.0\n",
      "        ('double', 'in') = 1                   1 : 4      =     84.5 : 1.0\n",
      "         ('sleeps', '4') = 1                   3 : 1      =     83.2 : 1.0\n",
      "           ('20', 'off') = 1                   4 : 1      =     79.0 : 1.0\n",
      "       ('large', 'room') = 1                   1 : 4      =     75.5 : 1.0\n",
      "       ('luxury', 'two') = 1                   4 : 1      =     68.5 : 1.0\n",
      "     ('stunning', 'two') = 1                   4 : 1      =     68.4 : 1.0\n",
      "        ('cosy', 'room') = 1                   1 : 4      =     67.0 : 1.0\n",
      "      ('stylish', 'two') = 1                   4 : 1      =     64.2 : 1.0\n",
      "      ('cosy', 'single') = 1                   1 : 4      =     63.8 : 1.0\n",
      "     ('five', 'bedroom') = 1                   4 : 2      =     63.3 : 1.0\n",
      "('comfortable', 'double') = 1                   1 : 3      =     61.5 : 1.0\n",
      "   ('spacious', 'three') = 1                   4 : 2      =     60.7 : 1.0\n",
      "    ('bed', '2bathroom') = 1                   4 : 2      =     57.5 : 1.0\n",
      "    ('spacious', 'room') = 1                   1 : 4      =     56.7 : 1.0\n",
      "    ('bathroom', 'flat') = 1                   4 : 1      =     55.1 : 1.0\n",
      "        ('nice', 'room') = 1                   1 : 4      =     55.0 : 1.0\n",
      "    ('bed', 'apartment') = 1                   3 : 1      =     53.7 : 1.0\n",
      "     ('bedroom', 'home') = 1                   4 : 1      =     51.5 : 1.0\n",
      " ('south', 'kensington') = 1                   4 : 1      =     51.3 : 1.0\n",
      "('serviced', 'apartment') = 1                   4 : 2      =     51.0 : 1.0\n",
      "        ('cozy', 'room') = 1                   1 : 4      =     50.2 : 1.0\n",
      "     ('sunny', 'double') = 1                   1 : 4      =     49.8 : 1.0\n",
      "    ('modern', 'double') = 1                   2 : 4      =     49.6 : 1.0\n",
      "           ('room', '1') = 1                   1 : 4      =     48.3 : 1.0\n",
      "       ('in', 'mayfair') = 1                   4 : 1      =     45.5 : 1.0\n",
      "       ('luxury', 'one') = 1                   3 : 1      =     45.5 : 1.0\n",
      "      ('shared', 'room') = 1                   1 : 4      =     45.4 : 1.0\n",
      "            ('to', '20') = 1                   4 : 3      =     45.1 : 1.0\n",
      "       ('sunny', 'room') = 1                   1 : 4      =     44.6 : 1.0\n",
      "   ('three', 'bathroom') = 1                   4 : 3      =     43.2 : 1.0\n",
      "  ('spacious', 'double') = 1                   1 : 4      =     42.5 : 1.0\n",
      "      ('single', 'room') = 1                   1 : 4      =     41.6 : 1.0\n",
      "       ('modern', 'one') = 1                   3 : 1      =     40.9 : 1.0\n",
      "      ('lovely', 'room') = 1                   1 : 4      =     40.4 : 1.0\n",
      "      ('cozy', 'double') = 1                   1 : 4      =     40.1 : 1.0\n",
      "       ('room', 'close') = 1                   1 : 4      =     39.9 : 1.0\n",
      "      ('double', 'room') = 1                   1 : 4      =     39.3 : 1.0\n",
      "         ('five', 'bed') = 1                   4 : 3      =     38.8 : 1.0\n",
      "        ('in', 'covent') = 1                   4 : 2      =     38.4 : 1.0\n",
      "       ('mews', 'house') = 1                   4 : 1      =     38.1 : 1.0\n",
      "   ('single', 'bedroom') = 1                   1 : 3      =     37.5 : 1.0\n",
      "     ('charming', 'one') = 1                   3 : 1      =     37.4 : 1.0\n",
      "         ('four', 'bed') = 1                   4 : 1      =     37.2 : 1.0\n",
      "     ('spacious', 'two') = 1                   4 : 1      =     37.1 : 1.0\n",
      "     ('shared', 'house') = 1                   1 : 4      =     36.5 : 1.0\n",
      "     ('clean', 'double') = 1                   1 : 4      =     36.5 : 1.0\n",
      "       ('comfy', 'room') = 1                   1 : 4      =     36.5 : 1.0\n",
      "     ('charming', 'two') = 1                   3 : 1      =     36.2 : 1.0\n",
      "  ('beautiful', 'three') = 1                   4 : 1      =     35.8 : 1.0\n",
      "      ('shared', 'flat') = 1                   1 : 4      =     35.8 : 1.0\n",
      "         ('by', 'veeve') = 1                   4 : 3      =     35.8 : 1.0\n",
      "    ('lovely', 'single') = 1                   1 : 3      =     35.6 : 1.0\n",
      "     ('stunning', 'one') = 1                   3 : 1      =     35.6 : 1.0\n",
      "('bathroom', 'apartment') = 1                   4 : 2      =     35.2 : 1.0\n",
      "          ('room', 'in') = 1                   1 : 4      =     34.7 : 1.0\n",
      "         ('a', 'shared') = 1                   1 : 4      =     34.3 : 1.0\n",
      "      ('airy', 'double') = 1                   1 : 4      =     31.4 : 1.0\n",
      "      ('central', 'two') = 1                   4 : 1      =     31.0 : 1.0\n",
      "         ('cosy', 'two') = 1                   3 : 1      =     31.0 : 1.0\n",
      "       ('bright', 'two') = 1                   3 : 1      =     30.6 : 1.0\n",
      "        ('room', 'near') = 1                   1 : 4      =     30.3 : 1.0\n",
      "        ('in', 'family') = 1                   1 : 4      =     29.9 : 1.0\n",
      "        ('large', 'two') = 1                   4 : 1      =     29.8 : 1.0\n",
      "    ('lovely', 'double') = 1                   1 : 4      =     29.6 : 1.0\n",
      "        ('garden', 'by') = 1                   4 : 3      =     29.6 : 1.0\n",
      "    ('sloane', 'square') = 1                   4 : 2      =     29.5 : 1.0\n",
      "        ('three', 'bed') = 1                   4 : 1      =     29.2 : 1.0\n",
      "     ('cosy', 'private') = 1                   1 : 4      =     29.1 : 1.0\n",
      "          ('with', 'en') = 1                   2 : 4      =     29.1 : 1.0\n",
      "           ('room', '2') = 1                   1 : 4      =     29.0 : 1.0\n",
      "           ('room', '5') = 1                   1 : 4      =     28.4 : 1.0\n",
      "     ('luxury', 'three') = 1                   4 : 2      =     28.2 : 1.0\n",
      "       ('big', 'double') = 1                   1 : 3      =     28.2 : 1.0\n",
      "   ('ensuite', 'double') = 1                   2 : 4      =     28.2 : 1.0\n",
      "     ('apartment', 'by') = 1                   3 : 1      =     28.1 : 1.0\n",
      "     ('own', 'bathroom') = 1                   2 : 4      =     28.1 : 1.0\n",
      "  ('bedroom', 'private') = 1                   2 : 4      =     27.7 : 1.0\n",
      "     ('room', 'private') = 1                   2 : 4      =     27.7 : 1.0\n",
      "            ('bed', '2') = 1                   4 : 2      =     27.6 : 1.0\n",
      "         ('bed', 'home') = 1                   4 : 1      =     27.0 : 1.0\n",
      "      ('two', 'bedroom') = 1                   4 : 1      =     27.0 : 1.0\n",
      "      ('house', 'share') = 1                   1 : 3      =     27.0 : 1.0\n",
      "    ('luxurious', 'two') = 1                   4 : 2      =     27.0 : 1.0\n",
      "       ('room', 'great') = 1                   1 : 4      =     26.9 : 1.0\n",
      "  ('private', 'bedroom') = 1                   1 : 4      =     26.8 : 1.0\n",
      "        ('bed', 'house') = 1                   4 : 1      =     26.4 : 1.0\n",
      "         ('2', 'people') = 1                   1 : 3      =     26.2 : 1.0\n",
      "       ('lovely', 'two') = 1                   4 : 1      =     26.2 : 1.0\n",
      "       ('of', 'chelsea') = 1                   4 : 1      =     26.2 : 1.0\n",
      "    ('fantastic', 'two') = 1                   3 : 1      =     25.7 : 1.0\n",
      "         ('sleeps', '5') = 1                   4 : 1      =     25.6 : 1.0\n",
      "             ('1', 'br') = 1                   4 : 1      =     25.6 : 1.0\n",
      "      ('female', 'only') = 1                   1 : 3      =     25.5 : 1.0\n",
      "         ('in', 'large') = 1                   1 : 4      =     25.5 : 1.0\n"
     ]
    }
   ],
   "source": [
    "nltk_bigram_classifier = nltk.NaiveBayesClassifier.train(bigram_training_set)\n",
    "print(nltk.classify.accuracy(nltk_bigram_classifier, bigram_test_set))\n",
    "nltk_bigram_classifier.show_most_informative_features(100)"
   ]
  },
  {
   "cell_type": "code",
   "execution_count": 142,
   "metadata": {},
   "outputs": [
    {
     "name": "stdout",
     "output_type": "stream",
     "text": [
      "0.2625644945537932\n",
      "Most Informative Features\n",
      "('bedroom', 'apartment', 'in') = 1                   4 : 1      =    179.2 : 1.0\n",
      "('one', 'bedroom', 'apartment') = 1                   3 : 1      =    159.0 : 1.0\n",
      "('one', 'bed', 'apartment') = 1                   3 : 1      =    101.8 : 1.0\n",
      "  ('room', 'in', 'east') = 1                   1 : 4      =     85.2 : 1.0\n",
      "('three', 'bedroom', 'apartment') = 1                   4 : 1      =     82.2 : 1.0\n",
      "('bed', 'apartment', 'in') = 1                   3 : 1      =     73.3 : 1.0\n",
      "('two', 'bedroom', 'apartment') = 1                   4 : 1      =     69.7 : 1.0\n",
      "  ('cosy', 'room', 'in') = 1                   1 : 4      =     68.8 : 1.0\n",
      "('spacious', 'room', 'in') = 1                   1 : 4      =     65.3 : 1.0\n",
      "('lovely', 'room', 'in') = 1                   1 : 4      =     63.1 : 1.0\n",
      "('private', 'double', 'room') = 1                   1 : 4      =     57.8 : 1.0\n",
      "('luxury', 'two', 'bedroom') = 1                   4 : 1      =     56.3 : 1.0\n",
      "('luxury', 'two', 'bed') = 1                   4 : 1      =     56.3 : 1.0\n",
      "('two', 'bed', 'apartment') = 1                   4 : 1      =     56.1 : 1.0\n",
      "('spacious', 'double', 'room') = 1                   1 : 4      =     55.2 : 1.0\n",
      "('double', 'room', 'in') = 1                   1 : 4      =     54.8 : 1.0\n",
      "('two', 'bedroom', 'in') = 1                   4 : 1      =     53.0 : 1.0\n",
      "('single', 'room', 'in') = 1                   1 : 3      =     51.8 : 1.0\n",
      "('double', 'room', 'near') = 1                   1 : 4      =     51.7 : 1.0\n",
      " ('three', 'bed', 'two') = 1                   4 : 2      =     50.3 : 1.0\n",
      "('cosy', 'double', 'room') = 1                   1 : 3      =     49.5 : 1.0\n",
      "('single', 'room', 'with') = 1                   1 : 3      =     49.2 : 1.0\n",
      "('modern', 'one', 'bed') = 1                   3 : 1      =     49.2 : 1.0\n",
      "('room', 'in', 'london') = 1                   1 : 4      =     49.1 : 1.0\n",
      "('three', 'bed', 'apartment') = 1                   4 : 1      =     48.5 : 1.0\n",
      "   ('room', 'with', 'a') = 1                   1 : 4      =     48.3 : 1.0\n",
      "('room', 'in', 'hackney') = 1                   1 : 4      =     46.8 : 1.0\n",
      "('room', 'in', 'lovely') = 1                   1 : 4      =     46.8 : 1.0\n",
      " ('room', 'close', 'to') = 1                   1 : 4      =     46.4 : 1.0\n",
      "      ('up', 'to', '20') = 1                   4 : 3      =     45.1 : 1.0\n",
      "     ('to', '20', 'off') = 1                   4 : 3      =     44.9 : 1.0\n",
      "('two', 'bed', '2bathroom') = 1                   4 : 2      =     43.2 : 1.0\n",
      "('lovely', 'double', 'room') = 1                   1 : 4      =     42.9 : 1.0\n",
      "('double', 'bedroom', 'near') = 1                   1 : 4      =     41.7 : 1.0\n",
      "('room', 'with', 'private') = 1                   2 : 4      =     41.2 : 1.0\n",
      "('spacious', 'two', 'bed') = 1                   3 : 1      =     41.0 : 1.0\n",
      "('cozy', 'double', 'room') = 1                   1 : 4      =     40.9 : 1.0\n",
      "('beautiful', 'two', 'bed') = 1                   4 : 1      =     40.7 : 1.0\n",
      "('room', 'with', 'ensuite') = 1                   2 : 4      =     40.4 : 1.0\n",
      "('two', 'bathroom', 'apartment') = 1                   4 : 2      =     39.9 : 1.0\n",
      " ('bed', 'flat', 'near') = 1                   3 : 1      =     39.9 : 1.0\n",
      "('lovely', 'two', 'bedroom') = 1                   4 : 1      =     39.5 : 1.0\n",
      " ('room', 'in', 'south') = 1                   1 : 3      =     38.5 : 1.0\n",
      "('stylish', 'two', 'bed') = 1                   4 : 1      =     37.7 : 1.0\n",
      "('double', 'bedroom', 'in') = 1                   1 : 4      =     37.4 : 1.0\n",
      "('room', 'in', 'victorian') = 1                   1 : 4      =     37.3 : 1.0\n",
      "('in', 'covent', 'garden') = 1                   4 : 2      =     37.2 : 1.0\n",
      "('double', 'room', 'close') = 1                   1 : 4      =     36.1 : 1.0\n",
      "('sunny', 'double', 'room') = 1                   1 : 4      =     35.8 : 1.0\n",
      "('in', 'south', 'kensington') = 1                   4 : 1      =     35.2 : 1.0\n",
      "('flat', 'in', 'trendy') = 1                   3 : 1      =     34.9 : 1.0\n",
      "('cosy', 'double', 'bedroom') = 1                   1 : 4      =     34.7 : 1.0\n",
      "('room', 'private', 'bathroom') = 1                   2 : 4      =     33.9 : 1.0\n",
      "   ('in', 'a', 'shared') = 1                   1 : 4      =     33.6 : 1.0\n",
      "  ('one', 'bed', 'flat') = 1                   3 : 1      =     33.6 : 1.0\n",
      "   ('bed', 'home', 'in') = 1                   4 : 2      =     33.4 : 1.0\n",
      "('spacious', 'three', 'bed') = 1                   4 : 2      =     33.4 : 1.0\n",
      "('double', 'bed', 'room') = 1                   1 : 4      =     32.8 : 1.0\n",
      "('four', 'bed', 'family') = 1                   4 : 2      =     32.8 : 1.0\n",
      "('nice', 'double', 'room') = 1                   1 : 3      =     32.7 : 1.0\n",
      "('ensuite', 'double', 'bedroom') = 1                   2 : 4      =     32.5 : 1.0\n",
      "('with', 'private', 'bathroom') = 1                   2 : 4      =     32.4 : 1.0\n",
      "('spacious', 'two', 'bedroom') = 1                   4 : 1      =     32.4 : 1.0\n",
      "('large', 'double', 'room') = 1                   1 : 4      =     32.3 : 1.0\n",
      "    ('for', '2', 'near') = 1                   1 : 2      =     32.0 : 1.0\n",
      "('family', 'home', 'with') = 1                   4 : 1      =     31.6 : 1.0\n",
      "   ('room', 'in', 'the') = 1                   1 : 4      =     31.6 : 1.0\n",
      "('flat', 'in', 'islington') = 1                   3 : 1      =     31.2 : 1.0\n",
      "('bedroom', 'with', 'private') = 1                   2 : 4      =     31.1 : 1.0\n",
      "('double', 'ensuite', 'room') = 1                   2 : 4      =     30.5 : 1.0\n",
      "('double', 'room', 'available') = 1                   1 : 4      =     29.9 : 1.0\n",
      "('stunning', 'two', 'bed') = 1                   4 : 1      =     29.2 : 1.0\n",
      "('apartment', 'with', 'balcony') = 1                   4 : 1      =     29.2 : 1.0\n",
      "('room', 'with', 'balcony') = 1                   1 : 4      =     29.1 : 1.0\n",
      " ('king', 'size', 'bed') = 1                   1 : 4      =     29.1 : 1.0\n",
      "('modern', 'one', 'bedroom') = 1                   3 : 1      =     29.0 : 1.0\n",
      "('room', 'in', 'spacious') = 1                   1 : 4      =     28.4 : 1.0\n",
      "('lovely', 'single', 'room') = 1                   1 : 3      =     28.4 : 1.0\n",
      "('four', 'bedroom', 'house') = 1                   4 : 2      =     28.2 : 1.0\n",
      "('big', 'double', 'room') = 1                   1 : 3      =     28.2 : 1.0\n",
      "('cosy', 'two', 'bedroom') = 1                   3 : 1      =     28.1 : 1.0\n",
      "('with', 'double', 'bed') = 1                   1 : 3      =     27.7 : 1.0\n",
      "  ('one', 'bed', 'with') = 1                   3 : 1      =     27.5 : 1.0\n",
      "('room', 'in', 'friendly') = 1                   1 : 3      =     27.4 : 1.0\n",
      "('single', 'bedroom', 'in') = 1                   1 : 3      =     27.4 : 1.0\n",
      "('cosy', 'single', 'room') = 1                   1 : 3      =     27.4 : 1.0\n",
      "('lovely', 'one', 'bedroom') = 1                   3 : 1      =     27.3 : 1.0\n",
      " ('with', 'en', 'suite') = 1                   2 : 4      =     27.0 : 1.0\n",
      "   ('bed', 'flat', 'in') = 1                   3 : 1      =     26.7 : 1.0\n",
      "('luxury', 'one', 'bedroom') = 1                   3 : 1      =     26.3 : 1.0\n",
      "('and', 'spacious', 'double') = 1                   1 : 3      =     26.2 : 1.0\n",
      "  ('nice', 'room', 'in') = 1                   1 : 4      =     26.2 : 1.0\n",
      "('lovely', 'bedroom', 'in') = 1                   1 : 4      =     26.2 : 1.0\n",
      " ('sunny', 'room', 'in') = 1                   1 : 4      =     26.2 : 1.0\n",
      "('studio', 'apartment', 'in') = 1                   3 : 1      =     26.2 : 1.0\n",
      "('spacious', 'double', 'bedroom') = 1                   1 : 4      =     26.1 : 1.0\n",
      "  ('cozy', 'room', 'in') = 1                   1 : 4      =     25.9 : 1.0\n",
      "('bedroom', 'flat', 'with') = 1                   3 : 1      =     25.8 : 1.0\n",
      "('spacious', 'family', 'home') = 1                   4 : 2      =     25.7 : 1.0\n",
      "('room', 'with', 'garden') = 1                   1 : 4      =     25.5 : 1.0\n"
     ]
    }
   ],
   "source": [
    "nltk_trigram_classifier = nltk.NaiveBayesClassifier.train(trigram_training_set)\n",
    "print(nltk.classify.accuracy(nltk_unigram_classifier, trigram_test_set))\n",
    "nltk_trigram_classifier.show_most_informative_features(100)"
   ]
  },
  {
   "cell_type": "markdown",
   "metadata": {},
   "source": [
    "# Benchmark model based on location\n",
    "\n",
    "This model will predict the price of the listing to be the average of the area where the listing is located"
   ]
  },
  {
   "cell_type": "code",
   "execution_count": 144,
   "metadata": {},
   "outputs": [
    {
     "name": "stderr",
     "output_type": "stream",
     "text": [
      "/anaconda3/lib/python3.6/site-packages/ipykernel_launcher.py:7: SettingWithCopyWarning: \n",
      "A value is trying to be set on a copy of a slice from a DataFrame.\n",
      "Try using .loc[row_indexer,col_indexer] = value instead\n",
      "\n",
      "See the caveats in the documentation: http://pandas.pydata.org/pandas-docs/stable/indexing.html#indexing-view-versus-copy\n",
      "  import sys\n",
      "/anaconda3/lib/python3.6/site-packages/ipykernel_launcher.py:8: SettingWithCopyWarning: \n",
      "A value is trying to be set on a copy of a slice from a DataFrame.\n",
      "Try using .loc[row_indexer,col_indexer] = value instead\n",
      "\n",
      "See the caveats in the documentation: http://pandas.pydata.org/pandas-docs/stable/indexing.html#indexing-view-versus-copy\n",
      "  \n",
      "/anaconda3/lib/python3.6/site-packages/ipykernel_launcher.py:9: SettingWithCopyWarning: \n",
      "A value is trying to be set on a copy of a slice from a DataFrame.\n",
      "Try using .loc[row_indexer,col_indexer] = value instead\n",
      "\n",
      "See the caveats in the documentation: http://pandas.pydata.org/pandas-docs/stable/indexing.html#indexing-view-versus-copy\n",
      "  if __name__ == '__main__':\n"
     ]
    }
   ],
   "source": [
    "# drop lisitngs with empty postcodes 1982 are null\n",
    "# len(listings_df2[listings_df2['zipcode'].isnull()==True])\n",
    "\n",
    "listings_df3 = listings_df2[listings_df2['zipcode'].isnull()==False]\n",
    "\n",
    "# # Format postcode column to just districts\n",
    "listings_df3['zipcode'] = listings_df3['zipcode'].apply(lambda x: (x.split(' ')[0]))\n",
    "listings_df3['zipcode'] = listings_df3['zipcode'].apply(lambda x: x[:-3] if len(x)>4 else x)\n",
    "listings_df3['zipcode'] = listings_df3['zipcode'].apply(lambda x: x.lower())"
   ]
  },
  {
   "cell_type": "code",
   "execution_count": 145,
   "metadata": {},
   "outputs": [],
   "source": [
    "# split data into train and test\n",
    "\n",
    "msk = np.random.rand(len(listings_df3)) < 0.8\n",
    "\n",
    "train_BM = listings_df3[msk]\n",
    "\n",
    "test_BM = listings_df3[~msk]"
   ]
  },
  {
   "cell_type": "code",
   "execution_count": 146,
   "metadata": {},
   "outputs": [],
   "source": [
    "mean_price = train_BM.groupby('neighbourhood_cleansed').mean()"
   ]
  },
  {
   "cell_type": "code",
   "execution_count": 147,
   "metadata": {},
   "outputs": [
    {
     "data": {
      "text/html": [
       "<div>\n",
       "<style scoped>\n",
       "    .dataframe tbody tr th:only-of-type {\n",
       "        vertical-align: middle;\n",
       "    }\n",
       "\n",
       "    .dataframe tbody tr th {\n",
       "        vertical-align: top;\n",
       "    }\n",
       "\n",
       "    .dataframe thead th {\n",
       "        text-align: right;\n",
       "    }\n",
       "</style>\n",
       "<table border=\"1\" class=\"dataframe\">\n",
       "  <thead>\n",
       "    <tr style=\"text-align: right;\">\n",
       "      <th></th>\n",
       "      <th>price</th>\n",
       "      <th>bins</th>\n",
       "    </tr>\n",
       "    <tr>\n",
       "      <th>neighbourhood_cleansed</th>\n",
       "      <th></th>\n",
       "      <th></th>\n",
       "    </tr>\n",
       "  </thead>\n",
       "  <tbody>\n",
       "    <tr>\n",
       "      <th>Barking and Dagenham</th>\n",
       "      <td>64.465347</td>\n",
       "      <td>1.841584</td>\n",
       "    </tr>\n",
       "    <tr>\n",
       "      <th>Barnet</th>\n",
       "      <td>81.215651</td>\n",
       "      <td>2.046406</td>\n",
       "    </tr>\n",
       "    <tr>\n",
       "      <th>Bexley</th>\n",
       "      <td>54.121053</td>\n",
       "      <td>1.642105</td>\n",
       "    </tr>\n",
       "    <tr>\n",
       "      <th>Brent</th>\n",
       "      <td>84.353276</td>\n",
       "      <td>2.171510</td>\n",
       "    </tr>\n",
       "    <tr>\n",
       "      <th>Bromley</th>\n",
       "      <td>59.200426</td>\n",
       "      <td>1.810235</td>\n",
       "    </tr>\n",
       "  </tbody>\n",
       "</table>\n",
       "</div>"
      ],
      "text/plain": [
       "                            price      bins\n",
       "neighbourhood_cleansed                     \n",
       "Barking and Dagenham    64.465347  1.841584\n",
       "Barnet                  81.215651  2.046406\n",
       "Bexley                  54.121053  1.642105\n",
       "Brent                   84.353276  2.171510\n",
       "Bromley                 59.200426  1.810235"
      ]
     },
     "execution_count": 147,
     "metadata": {},
     "output_type": "execute_result"
    }
   ],
   "source": [
    "mean_price.head()"
   ]
  },
  {
   "cell_type": "code",
   "execution_count": 148,
   "metadata": {},
   "outputs": [],
   "source": [
    "# assign bin to mean price\n",
    "# say we use 4 bins of quantile\n",
    "# 1 = x< 45, 2 = 45<=x<80, 3 = 80<=x<130, 4 = x>=130\n",
    "\n",
    "bin_ = []\n",
    "for price in mean_price['price']:\n",
    "    if price < 45:\n",
    "        bin_.append(1)\n",
    "    elif price >= 45 and price <80:\n",
    "        bin_.append(2)\n",
    "    elif price >=80 and price < 130:\n",
    "        bin_.append(3)\n",
    "    elif price >=130:\n",
    "        bin_.append(4)\n",
    "        "
   ]
  },
  {
   "cell_type": "code",
   "execution_count": 149,
   "metadata": {},
   "outputs": [],
   "source": [
    "mean_price['bin'] = bin_"
   ]
  },
  {
   "cell_type": "code",
   "execution_count": 150,
   "metadata": {},
   "outputs": [],
   "source": [
    "# Now predict bin for test data, and compare to actual bin\n",
    "# if district in test not in train, append average price's bin\n",
    "# 34 listings in test not in train\n",
    "\n",
    "bin_prediction = []\n",
    "for listing in test_BM['neighbourhood_cleansed']:\n",
    "    if listing in list(mean_price.index):\n",
    "        bin_p = mean_price[mean_price.index == listing]['bin']\n",
    "        bin_prediction.append(bin_p[0])\n",
    "    else:\n",
    "        bin_prediction.append(3)\n"
   ]
  },
  {
   "cell_type": "code",
   "execution_count": 151,
   "metadata": {},
   "outputs": [
    {
     "data": {
      "text/plain": [
       "15297"
      ]
     },
     "execution_count": 151,
     "metadata": {},
     "output_type": "execute_result"
    }
   ],
   "source": [
    "len(bin_prediction)"
   ]
  },
  {
   "cell_type": "code",
   "execution_count": 152,
   "metadata": {},
   "outputs": [
    {
     "data": {
      "text/plain": [
       "15297"
      ]
     },
     "execution_count": 152,
     "metadata": {},
     "output_type": "execute_result"
    }
   ],
   "source": [
    "len(test_BM)"
   ]
  },
  {
   "cell_type": "code",
   "execution_count": 153,
   "metadata": {},
   "outputs": [
    {
     "name": "stderr",
     "output_type": "stream",
     "text": [
      "/anaconda3/lib/python3.6/site-packages/ipykernel_launcher.py:1: SettingWithCopyWarning: \n",
      "A value is trying to be set on a copy of a slice from a DataFrame.\n",
      "Try using .loc[row_indexer,col_indexer] = value instead\n",
      "\n",
      "See the caveats in the documentation: http://pandas.pydata.org/pandas-docs/stable/indexing.html#indexing-view-versus-copy\n",
      "  \"\"\"Entry point for launching an IPython kernel.\n"
     ]
    }
   ],
   "source": [
    "test_BM['bin_prediction'] = bin_prediction"
   ]
  },
  {
   "cell_type": "code",
   "execution_count": 154,
   "metadata": {},
   "outputs": [
    {
     "data": {
      "text/html": [
       "<div>\n",
       "<style scoped>\n",
       "    .dataframe tbody tr th:only-of-type {\n",
       "        vertical-align: middle;\n",
       "    }\n",
       "\n",
       "    .dataframe tbody tr th {\n",
       "        vertical-align: top;\n",
       "    }\n",
       "\n",
       "    .dataframe thead th {\n",
       "        text-align: right;\n",
       "    }\n",
       "</style>\n",
       "<table border=\"1\" class=\"dataframe\">\n",
       "  <thead>\n",
       "    <tr style=\"text-align: right;\">\n",
       "      <th></th>\n",
       "      <th>name</th>\n",
       "      <th>price</th>\n",
       "      <th>neighbourhood_cleansed</th>\n",
       "      <th>zipcode</th>\n",
       "      <th>token_process</th>\n",
       "      <th>unigrams</th>\n",
       "      <th>bigrams</th>\n",
       "      <th>trigrams</th>\n",
       "      <th>bins</th>\n",
       "      <th>unigrams_labelled</th>\n",
       "      <th>bigrams_labelled</th>\n",
       "      <th>trigrams_labelled</th>\n",
       "      <th>bin_prediction</th>\n",
       "    </tr>\n",
       "  </thead>\n",
       "  <tbody>\n",
       "    <tr>\n",
       "      <th>5</th>\n",
       "      <td>All-comforts 2-bed flat near Wimbledon tennis</td>\n",
       "      <td>65.0</td>\n",
       "      <td>Wandsworth</td>\n",
       "      <td>sw19</td>\n",
       "      <td>all comforts two bed flat near wimbledon tennis</td>\n",
       "      <td>[all, comforts, two, bed, flat, near, wimbledo...</td>\n",
       "      <td>[(all, comforts), (comforts, two), (two, bed),...</td>\n",
       "      <td>[(all, comforts, two), (comforts, two, bed), (...</td>\n",
       "      <td>2</td>\n",
       "      <td>([all, comforts, two, bed, flat, near, wimbled...</td>\n",
       "      <td>([(all, comforts), (comforts, two), (two, bed)...</td>\n",
       "      <td>([(all, comforts, two), (comforts, two, bed), ...</td>\n",
       "      <td>3</td>\n",
       "    </tr>\n",
       "    <tr>\n",
       "      <th>7</th>\n",
       "      <td>FREE WIFI!! Angel Bright Ap Private Terrace by...</td>\n",
       "      <td>147.0</td>\n",
       "      <td>Islington</td>\n",
       "      <td>n1</td>\n",
       "      <td>free wifi!! angel bright ap private terrace by...</td>\n",
       "      <td>[free, wifi, angel, bright, ap, private, terra...</td>\n",
       "      <td>[(free, wifi), (wifi, angel), (angel, bright),...</td>\n",
       "      <td>[(free, wifi, angel), (wifi, angel, bright), (...</td>\n",
       "      <td>4</td>\n",
       "      <td>([free, wifi, angel, bright, ap, private, terr...</td>\n",
       "      <td>([(free, wifi), (wifi, angel), (angel, bright)...</td>\n",
       "      <td>([(free, wifi, angel), (wifi, angel, bright), ...</td>\n",
       "      <td>3</td>\n",
       "    </tr>\n",
       "    <tr>\n",
       "      <th>14</th>\n",
       "      <td>You are GUARANTEED to love this</td>\n",
       "      <td>72.0</td>\n",
       "      <td>Haringey</td>\n",
       "      <td>n2</td>\n",
       "      <td>you are guaranteed to love this</td>\n",
       "      <td>[you, are, guaranteed, to, love, this]</td>\n",
       "      <td>[(you, are), (are, guaranteed), (guaranteed, t...</td>\n",
       "      <td>[(you, are, guaranteed), (are, guaranteed, to)...</td>\n",
       "      <td>2</td>\n",
       "      <td>([you, are, guaranteed, to, love, this], 2)</td>\n",
       "      <td>([(you, are), (are, guaranteed), (guaranteed, ...</td>\n",
       "      <td>([(you, are, guaranteed), (are, guaranteed, to...</td>\n",
       "      <td>2</td>\n",
       "    </tr>\n",
       "    <tr>\n",
       "      <th>15</th>\n",
       "      <td>Gorgeous Victorian Flat Overlooking London Fields</td>\n",
       "      <td>80.0</td>\n",
       "      <td>Hackney</td>\n",
       "      <td>e8</td>\n",
       "      <td>gorgeous victorian flat overlooking london fields</td>\n",
       "      <td>[gorgeous, victorian, flat, overlooking, londo...</td>\n",
       "      <td>[(gorgeous, victorian), (victorian, flat), (fl...</td>\n",
       "      <td>[(gorgeous, victorian, flat), (victorian, flat...</td>\n",
       "      <td>3</td>\n",
       "      <td>([gorgeous, victorian, flat, overlooking, lond...</td>\n",
       "      <td>([(gorgeous, victorian), (victorian, flat), (f...</td>\n",
       "      <td>([(gorgeous, victorian, flat), (victorian, fla...</td>\n",
       "      <td>3</td>\n",
       "    </tr>\n",
       "    <tr>\n",
       "      <th>17</th>\n",
       "      <td>Double room/ lounge</td>\n",
       "      <td>65.0</td>\n",
       "      <td>Croydon</td>\n",
       "      <td>se19</td>\n",
       "      <td>double room/ lounge</td>\n",
       "      <td>[double, room, lounge]</td>\n",
       "      <td>[(double, room), (room, lounge)]</td>\n",
       "      <td>[(double, room, lounge)]</td>\n",
       "      <td>2</td>\n",
       "      <td>([double, room, lounge], 2)</td>\n",
       "      <td>([(double, room), (room, lounge)], 2)</td>\n",
       "      <td>([(double, room, lounge)], 2)</td>\n",
       "      <td>2</td>\n",
       "    </tr>\n",
       "  </tbody>\n",
       "</table>\n",
       "</div>"
      ],
      "text/plain": [
       "                                                 name  price  \\\n",
       "5       All-comforts 2-bed flat near Wimbledon tennis   65.0   \n",
       "7   FREE WIFI!! Angel Bright Ap Private Terrace by...  147.0   \n",
       "14                    You are GUARANTEED to love this   72.0   \n",
       "15  Gorgeous Victorian Flat Overlooking London Fields   80.0   \n",
       "17                                Double room/ lounge   65.0   \n",
       "\n",
       "   neighbourhood_cleansed zipcode  \\\n",
       "5              Wandsworth    sw19   \n",
       "7               Islington      n1   \n",
       "14               Haringey      n2   \n",
       "15                Hackney      e8   \n",
       "17                Croydon    se19   \n",
       "\n",
       "                                        token_process  \\\n",
       "5     all comforts two bed flat near wimbledon tennis   \n",
       "7   free wifi!! angel bright ap private terrace by...   \n",
       "14                    you are guaranteed to love this   \n",
       "15  gorgeous victorian flat overlooking london fields   \n",
       "17                                double room/ lounge   \n",
       "\n",
       "                                             unigrams  \\\n",
       "5   [all, comforts, two, bed, flat, near, wimbledo...   \n",
       "7   [free, wifi, angel, bright, ap, private, terra...   \n",
       "14             [you, are, guaranteed, to, love, this]   \n",
       "15  [gorgeous, victorian, flat, overlooking, londo...   \n",
       "17                             [double, room, lounge]   \n",
       "\n",
       "                                              bigrams  \\\n",
       "5   [(all, comforts), (comforts, two), (two, bed),...   \n",
       "7   [(free, wifi), (wifi, angel), (angel, bright),...   \n",
       "14  [(you, are), (are, guaranteed), (guaranteed, t...   \n",
       "15  [(gorgeous, victorian), (victorian, flat), (fl...   \n",
       "17                   [(double, room), (room, lounge)]   \n",
       "\n",
       "                                             trigrams  bins  \\\n",
       "5   [(all, comforts, two), (comforts, two, bed), (...     2   \n",
       "7   [(free, wifi, angel), (wifi, angel, bright), (...     4   \n",
       "14  [(you, are, guaranteed), (are, guaranteed, to)...     2   \n",
       "15  [(gorgeous, victorian, flat), (victorian, flat...     3   \n",
       "17                           [(double, room, lounge)]     2   \n",
       "\n",
       "                                    unigrams_labelled  \\\n",
       "5   ([all, comforts, two, bed, flat, near, wimbled...   \n",
       "7   ([free, wifi, angel, bright, ap, private, terr...   \n",
       "14        ([you, are, guaranteed, to, love, this], 2)   \n",
       "15  ([gorgeous, victorian, flat, overlooking, lond...   \n",
       "17                        ([double, room, lounge], 2)   \n",
       "\n",
       "                                     bigrams_labelled  \\\n",
       "5   ([(all, comforts), (comforts, two), (two, bed)...   \n",
       "7   ([(free, wifi), (wifi, angel), (angel, bright)...   \n",
       "14  ([(you, are), (are, guaranteed), (guaranteed, ...   \n",
       "15  ([(gorgeous, victorian), (victorian, flat), (f...   \n",
       "17              ([(double, room), (room, lounge)], 2)   \n",
       "\n",
       "                                    trigrams_labelled  bin_prediction  \n",
       "5   ([(all, comforts, two), (comforts, two, bed), ...               3  \n",
       "7   ([(free, wifi, angel), (wifi, angel, bright), ...               3  \n",
       "14  ([(you, are, guaranteed), (are, guaranteed, to...               2  \n",
       "15  ([(gorgeous, victorian, flat), (victorian, fla...               3  \n",
       "17                      ([(double, room, lounge)], 2)               2  "
      ]
     },
     "execution_count": 154,
     "metadata": {},
     "output_type": "execute_result"
    }
   ],
   "source": [
    "test_BM.head()"
   ]
  },
  {
   "cell_type": "code",
   "execution_count": 155,
   "metadata": {},
   "outputs": [],
   "source": [
    "# Benchmark accuarcy\n",
    "\n",
    "BM_accuarcy = len(test_BM[test_BM['bins']==test_BM['bin_prediction']])/len(test_BM)"
   ]
  },
  {
   "cell_type": "code",
   "execution_count": 156,
   "metadata": {},
   "outputs": [
    {
     "name": "stdout",
     "output_type": "stream",
     "text": [
      "0.32169706478394455\n"
     ]
    }
   ],
   "source": [
    "print(BM_accuarcy)"
   ]
  },
  {
   "cell_type": "markdown",
   "metadata": {},
   "source": [
    "# Lasso Linear Regression"
   ]
  },
  {
   "cell_type": "markdown",
   "metadata": {},
   "source": [
    "## Unigram Only"
   ]
  },
  {
   "cell_type": "code",
   "execution_count": 276,
   "metadata": {},
   "outputs": [],
   "source": [
    "unigram_vocab_lasso = set(unigram_vocab_train)\n",
    "bigram_vocab_lasso = set(bigram_vocab_train)\n",
    "trigram_vocab_lasso = set(trigram_vocab_train)"
   ]
  },
  {
   "cell_type": "code",
   "execution_count": 278,
   "metadata": {},
   "outputs": [
    {
     "name": "stdout",
     "output_type": "stream",
     "text": [
      "10783 61513 117150\n"
     ]
    }
   ],
   "source": [
    "print(len(unigram_vocab_lasso),len(bigram_vocab_lasso),len(trigram_vocab_lasso))"
   ]
  },
  {
   "cell_type": "code",
   "execution_count": 60,
   "metadata": {},
   "outputs": [
    {
     "data": {
      "text/html": [
       "<div>\n",
       "<style scoped>\n",
       "    .dataframe tbody tr th:only-of-type {\n",
       "        vertical-align: middle;\n",
       "    }\n",
       "\n",
       "    .dataframe tbody tr th {\n",
       "        vertical-align: top;\n",
       "    }\n",
       "\n",
       "    .dataframe thead th {\n",
       "        text-align: right;\n",
       "    }\n",
       "</style>\n",
       "<table border=\"1\" class=\"dataframe\">\n",
       "  <thead>\n",
       "    <tr style=\"text-align: right;\">\n",
       "      <th></th>\n",
       "      <th></th>\n",
       "      <th>0</th>\n",
       "      <th>001</th>\n",
       "      <th>003</th>\n",
       "      <th>006</th>\n",
       "      <th>0077</th>\n",
       "      <th>008</th>\n",
       "      <th>01</th>\n",
       "      <th>01022</th>\n",
       "      <th>0110</th>\n",
       "      <th>...</th>\n",
       "      <th>아파트</th>\n",
       "      <th>엄청</th>\n",
       "      <th>욕실</th>\n",
       "      <th>편리한</th>\n",
       "      <th>하나롯지</th>\n",
       "      <th>하우스</th>\n",
       "      <th>화장실</th>\n",
       "      <th>️</th>\n",
       "      <th>️️️️️</th>\n",
       "      <th>ﾛﾝﾄﾞﾝ市内西部､ｾﾝﾄﾗﾙ線ｼｪﾊﾟｰｽﾞ･ﾌﾞｯｼｭ駅より徒歩2分のﾌﾗﾝｽ人と暮らす小さな家</th>\n",
       "    </tr>\n",
       "  </thead>\n",
       "  <tbody>\n",
       "    <tr>\n",
       "      <th>0</th>\n",
       "      <td>0</td>\n",
       "      <td>0</td>\n",
       "      <td>0</td>\n",
       "      <td>0</td>\n",
       "      <td>0</td>\n",
       "      <td>0</td>\n",
       "      <td>0</td>\n",
       "      <td>0</td>\n",
       "      <td>0</td>\n",
       "      <td>0</td>\n",
       "      <td>...</td>\n",
       "      <td>0</td>\n",
       "      <td>0</td>\n",
       "      <td>0</td>\n",
       "      <td>0</td>\n",
       "      <td>0</td>\n",
       "      <td>0</td>\n",
       "      <td>0</td>\n",
       "      <td>0</td>\n",
       "      <td>0</td>\n",
       "      <td>0</td>\n",
       "    </tr>\n",
       "    <tr>\n",
       "      <th>1</th>\n",
       "      <td>0</td>\n",
       "      <td>0</td>\n",
       "      <td>0</td>\n",
       "      <td>0</td>\n",
       "      <td>0</td>\n",
       "      <td>0</td>\n",
       "      <td>0</td>\n",
       "      <td>0</td>\n",
       "      <td>0</td>\n",
       "      <td>0</td>\n",
       "      <td>...</td>\n",
       "      <td>0</td>\n",
       "      <td>0</td>\n",
       "      <td>0</td>\n",
       "      <td>0</td>\n",
       "      <td>0</td>\n",
       "      <td>0</td>\n",
       "      <td>0</td>\n",
       "      <td>0</td>\n",
       "      <td>0</td>\n",
       "      <td>0</td>\n",
       "    </tr>\n",
       "    <tr>\n",
       "      <th>2</th>\n",
       "      <td>0</td>\n",
       "      <td>0</td>\n",
       "      <td>0</td>\n",
       "      <td>0</td>\n",
       "      <td>0</td>\n",
       "      <td>0</td>\n",
       "      <td>0</td>\n",
       "      <td>0</td>\n",
       "      <td>0</td>\n",
       "      <td>0</td>\n",
       "      <td>...</td>\n",
       "      <td>0</td>\n",
       "      <td>0</td>\n",
       "      <td>0</td>\n",
       "      <td>0</td>\n",
       "      <td>0</td>\n",
       "      <td>0</td>\n",
       "      <td>0</td>\n",
       "      <td>0</td>\n",
       "      <td>0</td>\n",
       "      <td>0</td>\n",
       "    </tr>\n",
       "    <tr>\n",
       "      <th>3</th>\n",
       "      <td>0</td>\n",
       "      <td>0</td>\n",
       "      <td>0</td>\n",
       "      <td>0</td>\n",
       "      <td>0</td>\n",
       "      <td>0</td>\n",
       "      <td>0</td>\n",
       "      <td>0</td>\n",
       "      <td>0</td>\n",
       "      <td>0</td>\n",
       "      <td>...</td>\n",
       "      <td>0</td>\n",
       "      <td>0</td>\n",
       "      <td>0</td>\n",
       "      <td>0</td>\n",
       "      <td>0</td>\n",
       "      <td>0</td>\n",
       "      <td>0</td>\n",
       "      <td>0</td>\n",
       "      <td>0</td>\n",
       "      <td>0</td>\n",
       "    </tr>\n",
       "    <tr>\n",
       "      <th>4</th>\n",
       "      <td>0</td>\n",
       "      <td>0</td>\n",
       "      <td>0</td>\n",
       "      <td>0</td>\n",
       "      <td>0</td>\n",
       "      <td>0</td>\n",
       "      <td>0</td>\n",
       "      <td>0</td>\n",
       "      <td>0</td>\n",
       "      <td>0</td>\n",
       "      <td>...</td>\n",
       "      <td>0</td>\n",
       "      <td>0</td>\n",
       "      <td>0</td>\n",
       "      <td>0</td>\n",
       "      <td>0</td>\n",
       "      <td>0</td>\n",
       "      <td>0</td>\n",
       "      <td>0</td>\n",
       "      <td>0</td>\n",
       "      <td>0</td>\n",
       "    </tr>\n",
       "  </tbody>\n",
       "</table>\n",
       "<p>5 rows × 12024 columns</p>\n",
       "</div>"
      ],
      "text/plain": [
       "      0  001  003  006  0077  008  01  01022  0110  \\\n",
       "0  0  0    0    0    0     0    0   0      0     0   \n",
       "1  0  0    0    0    0     0    0   0      0     0   \n",
       "2  0  0    0    0    0     0    0   0      0     0   \n",
       "3  0  0    0    0    0     0    0   0      0     0   \n",
       "4  0  0    0    0    0     0    0   0      0     0   \n",
       "\n",
       "                          ...                          아파트  엄청  욕실  편리한  하나롯지  \\\n",
       "0                         ...                            0   0   0    0     0   \n",
       "1                         ...                            0   0   0    0     0   \n",
       "2                         ...                            0   0   0    0     0   \n",
       "3                         ...                            0   0   0    0     0   \n",
       "4                         ...                            0   0   0    0     0   \n",
       "\n",
       "   하우스  화장실  ️  ️️️️️  ﾛﾝﾄﾞﾝ市内西部､ｾﾝﾄﾗﾙ線ｼｪﾊﾟｰｽﾞ･ﾌﾞｯｼｭ駅より徒歩2分のﾌﾗﾝｽ人と暮らす小さな家  \n",
       "0    0    0  0      0                                                  0   \n",
       "1    0    0  0      0                                                  0   \n",
       "2    0    0  0      0                                                  0   \n",
       "3    0    0  0      0                                                  0   \n",
       "4    0    0  0      0                                                  0   \n",
       "\n",
       "[5 rows x 12024 columns]"
      ]
     },
     "execution_count": 60,
     "metadata": {},
     "output_type": "execute_result"
    }
   ],
   "source": [
    "# Create unigram one-hot-encoded df\n",
    "from sklearn.preprocessing import MultiLabelBinarizer\n",
    "\n",
    "mlb = MultiLabelBinarizer()\n",
    "\n",
    "lasso_unigram = pd.DataFrame(mlb.fit_transform(listings_df2['unigrams']),columns=mlb.classes_, index=listings_df2.index)\n",
    "lasso_unigram.head()"
   ]
  },
  {
   "cell_type": "code",
   "execution_count": 61,
   "metadata": {},
   "outputs": [],
   "source": [
    "lasso_unigram['log_price'] = [np.log(price) for price in listings_df2['price']]"
   ]
  },
  {
   "cell_type": "code",
   "execution_count": 119,
   "metadata": {},
   "outputs": [
    {
     "data": {
      "text/plain": [
       "78358"
      ]
     },
     "execution_count": 119,
     "metadata": {},
     "output_type": "execute_result"
    }
   ],
   "source": [
    "len(lasso_unigram)"
   ]
  },
  {
   "cell_type": "code",
   "execution_count": 99,
   "metadata": {},
   "outputs": [],
   "source": [
    "# pickle the lasso_df\n",
    "import pickle \n",
    "\n",
    "filename = 'lasso_unigram_df'\n",
    "outfile = open(filename,'wb')\n",
    "pickle.dump(lasso_unigram.iloc[:100,:],outfile,protocol=4)\n",
    "outfile.close()"
   ]
  },
  {
   "cell_type": "code",
   "execution_count": 120,
   "metadata": {},
   "outputs": [],
   "source": [
    "# Split into train and test data\n",
    "from sklearn.model_selection import train_test_split\n",
    "\n",
    "x = lasso_unigram.drop('log_price',1)\n",
    "y = lasso_unigram[['log_price']]\n",
    "\n",
    "# test_size: what proportion of original data is used for test set\n",
    "X_train_unigram_df, X_test_unigram_df, Y_train_unigram_df, Y_test_unigram_df = train_test_split( x, y, test_size=0.2, random_state=0)\n"
   ]
  },
  {
   "cell_type": "code",
   "execution_count": 121,
   "metadata": {},
   "outputs": [
    {
     "data": {
      "text/plain": [
       "12024"
      ]
     },
     "execution_count": 121,
     "metadata": {},
     "output_type": "execute_result"
    }
   ],
   "source": [
    "len(X_train_unigram_df.columns)"
   ]
  },
  {
   "cell_type": "code",
   "execution_count": 122,
   "metadata": {},
   "outputs": [
    {
     "data": {
      "text/plain": [
       "count    78358.000000\n",
       "mean         4.390000\n",
       "std          0.766271\n",
       "min          1.791759\n",
       "25%          3.806662\n",
       "50%          4.382027\n",
       "75%          4.867534\n",
       "max          9.852194\n",
       "Name: log_price, dtype: float64"
      ]
     },
     "execution_count": 122,
     "metadata": {},
     "output_type": "execute_result"
    }
   ],
   "source": [
    "lasso_unigram['log_price'].describe()"
   ]
  },
  {
   "cell_type": "code",
   "execution_count": 123,
   "metadata": {},
   "outputs": [
    {
     "name": "stderr",
     "output_type": "stream",
     "text": [
      "/anaconda3/lib/python3.6/site-packages/sklearn/linear_model/coordinate_descent.py:1109: DataConversionWarning: A column-vector y was passed when a 1d array was expected. Please change the shape of y to (n_samples, ), for example using ravel().\n",
      "  y = column_or_1d(y, warn=True)\n",
      "/anaconda3/lib/python3.6/site-packages/sklearn/model_selection/_split.py:2053: FutureWarning: You should specify a value for 'cv' instead of relying on the default value. The default value will change from 3 to 5 in version 0.22.\n",
      "  warnings.warn(CV_WARNING, FutureWarning)\n"
     ]
    }
   ],
   "source": [
    "from sklearn import linear_model\n",
    "\n",
    "clf = linear_model.LassoCV(n_alphas = 10)\n",
    "model_results = clf.fit(X_train_unigram_df,Y_train_unigram_df)"
   ]
  },
  {
   "cell_type": "code",
   "execution_count": 124,
   "metadata": {},
   "outputs": [],
   "source": [
    "import math\n",
    "import sklearn\n",
    "y_predict = model_results.predict(X_test_unigram_df)\n",
    "accuracy = clf.score(X_test_unigram_df,Y_test_unigram_df)\n",
    "RMSE = math.sqrt(sklearn.metrics.mean_squared_error(Y_test_unigram_df, y_predict))\n",
    "MAE = (sklearn.metrics.mean_absolute_error(Y_test_unigram_df, y_predict))"
   ]
  },
  {
   "cell_type": "code",
   "execution_count": 125,
   "metadata": {},
   "outputs": [
    {
     "data": {
      "text/plain": [
       "0.5084495893838203"
      ]
     },
     "execution_count": 125,
     "metadata": {},
     "output_type": "execute_result"
    }
   ],
   "source": [
    "accuracy = clf.score(X_test_unigram_df,Y_test_unigram_df)\n",
    "accuracy"
   ]
  },
  {
   "cell_type": "code",
   "execution_count": 126,
   "metadata": {},
   "outputs": [
    {
     "name": "stdout",
     "output_type": "stream",
     "text": [
      "0.39370031330697486 0.5322513998882134\n"
     ]
    }
   ],
   "source": [
    "# all variables LassoCV\n",
    "print(MAE,RMSE)"
   ]
  },
  {
   "cell_type": "code",
   "execution_count": 127,
   "metadata": {},
   "outputs": [],
   "source": [
    "# Get the coefficients of the model\n",
    "unigram_coef =clf.coef_"
   ]
  },
  {
   "cell_type": "code",
   "execution_count": 128,
   "metadata": {},
   "outputs": [
    {
     "ename": "NameError",
     "evalue": "name 'a' is not defined",
     "output_type": "error",
     "traceback": [
      "\u001b[0;31m---------------------------------------------------------------------------\u001b[0m",
      "\u001b[0;31mNameError\u001b[0m                                 Traceback (most recent call last)",
      "\u001b[0;32m<ipython-input-128-64f10d69fa93>\u001b[0m in \u001b[0;36m<module>\u001b[0;34m()\u001b[0m\n\u001b[0;32m----> 1\u001b[0;31m \u001b[0mmax\u001b[0m\u001b[0;34m(\u001b[0m\u001b[0mnp\u001b[0m\u001b[0;34m.\u001b[0m\u001b[0margsort\u001b[0m\u001b[0;34m(\u001b[0m\u001b[0ma\u001b[0m\u001b[0;34m)\u001b[0m\u001b[0;34m)\u001b[0m\u001b[0;34m\u001b[0m\u001b[0;34m\u001b[0m\u001b[0m\n\u001b[0m",
      "\u001b[0;31mNameError\u001b[0m: name 'a' is not defined"
     ]
    }
   ],
   "source": [
    "max(np.argsort(a))"
   ]
  },
  {
   "cell_type": "code",
   "execution_count": 247,
   "metadata": {},
   "outputs": [
    {
     "data": {
      "text/plain": [
       "12337"
      ]
     },
     "execution_count": 247,
     "metadata": {},
     "output_type": "execute_result"
    }
   ],
   "source": [
    "len(lasso_unigram.columns)"
   ]
  },
  {
   "cell_type": "code",
   "execution_count": 129,
   "metadata": {},
   "outputs": [],
   "source": [
    "# least informative 20\n",
    "\n",
    "least_idx_unigram = np.argsort(unigram_coef)[:100]\n",
    "most_idx_unigram = np.argsort(unigram_coef)[-100:]"
   ]
  },
  {
   "cell_type": "code",
   "execution_count": 130,
   "metadata": {},
   "outputs": [],
   "source": [
    "# get the least informative parameters\n",
    "\n",
    "least_parameter_unigram = []\n",
    "for idx in least_idx_unigram:\n",
    "    least_parameter_unigram.append(list(X_train_unigram_df.columns)[idx])"
   ]
  },
  {
   "cell_type": "code",
   "execution_count": 131,
   "metadata": {},
   "outputs": [],
   "source": [
    "# get the most informative parameters\n",
    "\n",
    "most_parameter_unigram = []\n",
    "for idx in most_idx_unigram:\n",
    "    most_parameter_unigram.append(list(X_train_unigram_df.columns)[idx])"
   ]
  },
  {
   "cell_type": "code",
   "execution_count": 132,
   "metadata": {},
   "outputs": [
    {
     "data": {
      "text/plain": [
       "['dorm',\n",
       " 'dormitory',\n",
       " 'britannia',\n",
       " 'room',\n",
       " 'share',\n",
       " 'single',\n",
       " 'doubleroom',\n",
       " 'greater',\n",
       " 'small',\n",
       " 'croydon',\n",
       " 'friendly',\n",
       " 'chambre',\n",
       " 'bedroom',\n",
       " 'cheap',\n",
       " 'line',\n",
       " 'streatham',\n",
       " 'only',\n",
       " 'heathrow',\n",
       " 'dprivate',\n",
       " 'shared',\n",
       " 'mile',\n",
       " 'walthamstow',\n",
       " 'bed',\n",
       " 'netflix',\n",
       " 'away',\n",
       " 'orpington',\n",
       " 'female',\n",
       " 'double',\n",
       " 'bprivate',\n",
       " 'welcoming',\n",
       " 'accommodation',\n",
       " 'crystal',\n",
       " 'affordable',\n",
       " 'good',\n",
       " 'feel',\n",
       " 'kingston',\n",
       " 'guest',\n",
       " 'budget',\n",
       " 'cprivate',\n",
       " 'tv',\n",
       " '20min',\n",
       " 'bedsit',\n",
       " 'student',\n",
       " 'stratford',\n",
       " 'cosy',\n",
       " 'homely',\n",
       " 'transport',\n",
       " 'comfy',\n",
       " 'tooting',\n",
       " 'peaceful',\n",
       " 'mins',\n",
       " 'clean',\n",
       " 'norwood',\n",
       " 'peckham',\n",
       " 'quiet',\n",
       " 'rooms',\n",
       " 'comfortable',\n",
       " 'sweet',\n",
       " 'value',\n",
       " 'studio',\n",
       " 'welcome',\n",
       " 'enfield',\n",
       " 'fast',\n",
       " 'space',\n",
       " 'east',\n",
       " 'cute',\n",
       " 'master',\n",
       " 'hostel',\n",
       " 'short',\n",
       " 'greenwich',\n",
       " 'min',\n",
       " 'hackney',\n",
       " 'easy',\n",
       " 'north',\n",
       " 'for',\n",
       " 'size',\n",
       " 'nice',\n",
       " 'sharing',\n",
       " 'to',\n",
       " 'aprivate',\n",
       " 'cozy',\n",
       " 'private',\n",
       " 'sunny',\n",
       " 'beds',\n",
       " 'from',\n",
       " 'a',\n",
       " 'zone',\n",
       " 'creative',\n",
       " 'term',\n",
       " 'links',\n",
       " 'clapton',\n",
       " 'high',\n",
       " 'brick',\n",
       " 'dalston',\n",
       " 'forest',\n",
       " 'available',\n",
       " 'near',\n",
       " 'contained',\n",
       " 'camberwell',\n",
       " 'warm']"
      ]
     },
     "execution_count": 132,
     "metadata": {},
     "output_type": "execute_result"
    }
   ],
   "source": [
    "least_parameter_unigram"
   ]
  },
  {
   "cell_type": "code",
   "execution_count": 133,
   "metadata": {},
   "outputs": [
    {
     "data": {
      "text/plain": [
       "['3bed',\n",
       " 'contemporary',\n",
       " 'vauxhall',\n",
       " 'moments',\n",
       " 'waterloo',\n",
       " 'ac',\n",
       " 'ben',\n",
       " 'oxford',\n",
       " 'w1',\n",
       " 'off',\n",
       " 'designer',\n",
       " '8',\n",
       " 'paddington',\n",
       " 'pool',\n",
       " 'home',\n",
       " 'st',\n",
       " 'regents',\n",
       " 'house',\n",
       " 'classic',\n",
       " 'pimlico',\n",
       " 'clerkenwell',\n",
       " 'chiswick',\n",
       " 'executive',\n",
       " '2bathroom',\n",
       " 'lift',\n",
       " 'air',\n",
       " 'apartment',\n",
       " 'stunning',\n",
       " 'residence',\n",
       " 'eye',\n",
       " 'elegant',\n",
       " 'court',\n",
       " 'families',\n",
       " 'duplex',\n",
       " 'westminster',\n",
       " 'concept',\n",
       " 'rugby',\n",
       " 'serviced',\n",
       " 'flexible',\n",
       " 'luxe',\n",
       " 'one',\n",
       " '2bed',\n",
       " 'up',\n",
       " 'grand',\n",
       " 'notting',\n",
       " 'standard',\n",
       " 'br',\n",
       " 'crawford',\n",
       " 'holland',\n",
       " 'family',\n",
       " 'ken',\n",
       " 'luxury',\n",
       " 'tennis',\n",
       " 'chelsea',\n",
       " '2b',\n",
       " 'street',\n",
       " 'goodge',\n",
       " 'kensington',\n",
       " 'designed',\n",
       " 'fitzrovia',\n",
       " 'hyde',\n",
       " 'gardens',\n",
       " 'museum',\n",
       " 'selfridges',\n",
       " 'luxurious',\n",
       " 'piccadilly',\n",
       " 'deluxe',\n",
       " 'marylebone',\n",
       " 'merino',\n",
       " 'apartments',\n",
       " 'primrose',\n",
       " 'harrods',\n",
       " 'square',\n",
       " 'arch',\n",
       " 'townhouse',\n",
       " 'mews',\n",
       " 'soho',\n",
       " 'penthouse',\n",
       " 'iii',\n",
       " 'eccleston',\n",
       " 'hotel',\n",
       " 'buckingham',\n",
       " 'two',\n",
       " 'olympics',\n",
       " 'iv',\n",
       " 'ii',\n",
       " 'covent',\n",
       " 'veeve',\n",
       " 'sonder',\n",
       " 'belgravia',\n",
       " 'suites',\n",
       " 'managed',\n",
       " 'superior',\n",
       " 'three',\n",
       " 'mayfair',\n",
       " 'knightsbridge',\n",
       " 'four',\n",
       " 'six',\n",
       " 'five',\n",
       " 'onefinestay']"
      ]
     },
     "execution_count": 133,
     "metadata": {},
     "output_type": "execute_result"
    }
   ],
   "source": [
    "most_parameter_unigram"
   ]
  },
  {
   "cell_type": "code",
   "execution_count": 134,
   "metadata": {},
   "outputs": [],
   "source": [
    "# Get the coefficients of the parameters\n",
    "\n",
    "least_unigram_coefficients = []\n",
    "for idx in least_idx_unigram:\n",
    "    least_unigram_coefficients.append(unigram_coef[idx])\n",
    "    \n",
    "most_unigram_coefficients = []\n",
    "for idx in most_idx_unigram:\n",
    "    most_unigram_coefficients.append(unigram_coef[idx])"
   ]
  },
  {
   "cell_type": "code",
   "execution_count": 135,
   "metadata": {},
   "outputs": [
    {
     "data": {
      "text/plain": [
       "[-1.0821678043977427,\n",
       " -0.5743256291309604,\n",
       " -0.5457225897918253,\n",
       " -0.49896078641905417,\n",
       " -0.44141077872958645,\n",
       " -0.35404485494048904,\n",
       " -0.3415673307440252,\n",
       " -0.30918551346398226,\n",
       " -0.28087407011444726,\n",
       " -0.2807809999178684,\n",
       " -0.27435915371636854,\n",
       " -0.26946247973586324,\n",
       " -0.26038215994421,\n",
       " -0.24675665623011014,\n",
       " -0.23556435935109088,\n",
       " -0.2341285000126487,\n",
       " -0.2306740742186151,\n",
       " -0.22926833884303066,\n",
       " -0.22175258574799492,\n",
       " -0.2137546010002473,\n",
       " -0.21022998669135612,\n",
       " -0.20634314147718164,\n",
       " -0.20056633904575222,\n",
       " -0.19936770746185764,\n",
       " -0.19704391810740202,\n",
       " -0.191972688437214,\n",
       " -0.17097352875617303,\n",
       " -0.16902640935164295,\n",
       " -0.16872979180171582,\n",
       " -0.16688445330754778,\n",
       " -0.16640570749835012,\n",
       " -0.16276144975429246,\n",
       " -0.15990606313643713,\n",
       " -0.1573350170791633,\n",
       " -0.15494289717132623,\n",
       " -0.15437228656699714,\n",
       " -0.15359699515295278,\n",
       " -0.14734243492545515,\n",
       " -0.14599241533823012,\n",
       " -0.14405809944079812,\n",
       " -0.14233600742172725,\n",
       " -0.14057918620308948,\n",
       " -0.1400370251153538,\n",
       " -0.13941122226491987,\n",
       " -0.1360896494754912,\n",
       " -0.13598950635283205,\n",
       " -0.133671265062361,\n",
       " -0.13024080423190768,\n",
       " -0.12799824726938158,\n",
       " -0.12760344232795515,\n",
       " -0.12752464318031775,\n",
       " -0.1261421357330375,\n",
       " -0.12606179905574305,\n",
       " -0.12563727203558622,\n",
       " -0.12030446512470852,\n",
       " -0.11841384358029504,\n",
       " -0.11628022875833899,\n",
       " -0.11596826918004963,\n",
       " -0.11521420935225048,\n",
       " -0.11259693963419899,\n",
       " -0.11250629385679696,\n",
       " -0.11229579554477369,\n",
       " -0.11164849071337629,\n",
       " -0.10961332062670456,\n",
       " -0.1079462808487783,\n",
       " -0.1074820068704266,\n",
       " -0.10654738588226853,\n",
       " -0.10491309206001002,\n",
       " -0.10106613902827914,\n",
       " -0.09967037904764543,\n",
       " -0.09863829865246274,\n",
       " -0.09778261726166308,\n",
       " -0.097744544536977,\n",
       " -0.09713480064393902,\n",
       " -0.09680112954942809,\n",
       " -0.09653471648650966,\n",
       " -0.09589832258691972,\n",
       " -0.09566781524942525,\n",
       " -0.09486255539409036,\n",
       " -0.09480512512783427,\n",
       " -0.09261544187938167,\n",
       " -0.0925584688186615,\n",
       " -0.0917293862996675,\n",
       " -0.08625848124982428,\n",
       " -0.08625023654702395,\n",
       " -0.08409279891203716,\n",
       " -0.08159946945495594,\n",
       " -0.08151540317694263,\n",
       " -0.07937795806682159,\n",
       " -0.07927379474827667,\n",
       " -0.07769391458020798,\n",
       " -0.0775781312415318,\n",
       " -0.07753352053836433,\n",
       " -0.07682228538239116,\n",
       " -0.0746894929026114,\n",
       " -0.07266488242111163,\n",
       " -0.07147546899771491,\n",
       " -0.06394258919915324,\n",
       " -0.06079322344431195,\n",
       " -0.06007278062940003]"
      ]
     },
     "execution_count": 135,
     "metadata": {},
     "output_type": "execute_result"
    }
   ],
   "source": [
    "least_unigram_coefficients"
   ]
  },
  {
   "cell_type": "code",
   "execution_count": 136,
   "metadata": {},
   "outputs": [
    {
     "data": {
      "text/plain": [
       "[0.14265974046624214,\n",
       " 0.14910223007839551,\n",
       " 0.1501434171825396,\n",
       " 0.1504689515482859,\n",
       " 0.15256466185028986,\n",
       " 0.15428533173639353,\n",
       " 0.15597742907497186,\n",
       " 0.15904628913378377,\n",
       " 0.16482529836314624,\n",
       " 0.16525860598234807,\n",
       " 0.16780889677228888,\n",
       " 0.1687252190503678,\n",
       " 0.17270691587029322,\n",
       " 0.17469384239871516,\n",
       " 0.1765879839974262,\n",
       " 0.17752149118525468,\n",
       " 0.17984684134291842,\n",
       " 0.18201978559196968,\n",
       " 0.18299497757144884,\n",
       " 0.18626235101701663,\n",
       " 0.1883061038937244,\n",
       " 0.1932222691232932,\n",
       " 0.19462298489591376,\n",
       " 0.19568975855123713,\n",
       " 0.20211196899202047,\n",
       " 0.20446532994308886,\n",
       " 0.20490420286406352,\n",
       " 0.2055241617648027,\n",
       " 0.20566584756705825,\n",
       " 0.20611998054687788,\n",
       " 0.2074347853278241,\n",
       " 0.2105845278510037,\n",
       " 0.21206857436081328,\n",
       " 0.21269460396917594,\n",
       " 0.22173157945493704,\n",
       " 0.22367080794849242,\n",
       " 0.22783429899952973,\n",
       " 0.22832378994986047,\n",
       " 0.22961178756536552,\n",
       " 0.23082037202186337,\n",
       " 0.23217816661781673,\n",
       " 0.2375090690484248,\n",
       " 0.25199186616286995,\n",
       " 0.25394625172599067,\n",
       " 0.257338714908838,\n",
       " 0.25998953907148364,\n",
       " 0.2656132691316106,\n",
       " 0.2772672285876773,\n",
       " 0.2777471587657828,\n",
       " 0.2789159609098349,\n",
       " 0.27911120793068145,\n",
       " 0.2824360648507566,\n",
       " 0.29025246147364686,\n",
       " 0.29817382426625555,\n",
       " 0.30102011884982705,\n",
       " 0.3140292287707482,\n",
       " 0.31768355848558666,\n",
       " 0.32093875505994773,\n",
       " 0.3249233092113253,\n",
       " 0.3271412453923716,\n",
       " 0.3313728765476912,\n",
       " 0.33155407910494666,\n",
       " 0.3319278626862223,\n",
       " 0.3328645779328095,\n",
       " 0.34385113173188214,\n",
       " 0.34462877719742296,\n",
       " 0.35365114744837145,\n",
       " 0.3741098867009953,\n",
       " 0.3800646228103419,\n",
       " 0.3901358821774013,\n",
       " 0.39093615124750536,\n",
       " 0.39173881377293296,\n",
       " 0.39932046513651803,\n",
       " 0.40414059786481926,\n",
       " 0.4058845972816959,\n",
       " 0.4261749401631326,\n",
       " 0.427884876712418,\n",
       " 0.4313849098737475,\n",
       " 0.45218396926121346,\n",
       " 0.4597489046120602,\n",
       " 0.4686371291114262,\n",
       " 0.47300788442894603,\n",
       " 0.47580723244624684,\n",
       " 0.4948597613739855,\n",
       " 0.5009180799399444,\n",
       " 0.5047288598284515,\n",
       " 0.5152660357908796,\n",
       " 0.5249571402222306,\n",
       " 0.53261261892771,\n",
       " 0.5331178176221565,\n",
       " 0.5724304489427705,\n",
       " 0.5846425655237671,\n",
       " 0.6682126788950284,\n",
       " 0.673745800072626,\n",
       " 0.7360306443604938,\n",
       " 0.7623321881856135,\n",
       " 0.8524285001931472,\n",
       " 0.8779935783800284,\n",
       " 1.0011891585661872,\n",
       " 1.7666083671998005]"
      ]
     },
     "execution_count": 136,
     "metadata": {},
     "output_type": "execute_result"
    }
   ],
   "source": [
    "most_unigram_coefficients"
   ]
  },
  {
   "cell_type": "code",
   "execution_count": 137,
   "metadata": {},
   "outputs": [],
   "source": [
    "least_unigram_df = pd.DataFrame(index = least_parameter_unigram,columns = ['Coefficient'],data = least_unigram_coefficients)"
   ]
  },
  {
   "cell_type": "code",
   "execution_count": null,
   "metadata": {},
   "outputs": [],
   "source": [
    "least_unigram_df"
   ]
  },
  {
   "cell_type": "code",
   "execution_count": 139,
   "metadata": {},
   "outputs": [],
   "source": [
    "most_unigram_df = pd.DataFrame(index = most_parameter_unigram,columns = ['Coefficient'],data = most_unigram_coefficients)"
   ]
  },
  {
   "cell_type": "code",
   "execution_count": 157,
   "metadata": {},
   "outputs": [],
   "source": [
    "most_unigram_df = most_unigram_df.sort_values('Coefficient',ascending = False)\n",
    "most_unigram_df.to_csv('Increase_Price')\n",
    "most_unigram_df"
   ]
  },
  {
   "cell_type": "markdown",
   "metadata": {},
   "source": [
    "## Repeat above with location dummies"
   ]
  },
  {
   "cell_type": "code",
   "execution_count": 63,
   "metadata": {},
   "outputs": [
    {
     "data": {
      "text/html": [
       "<div>\n",
       "<style scoped>\n",
       "    .dataframe tbody tr th:only-of-type {\n",
       "        vertical-align: middle;\n",
       "    }\n",
       "\n",
       "    .dataframe tbody tr th {\n",
       "        vertical-align: top;\n",
       "    }\n",
       "\n",
       "    .dataframe thead th {\n",
       "        text-align: right;\n",
       "    }\n",
       "</style>\n",
       "<table border=\"1\" class=\"dataframe\">\n",
       "  <thead>\n",
       "    <tr style=\"text-align: right;\">\n",
       "      <th></th>\n",
       "      <th>Barking and Dagenham</th>\n",
       "      <th>Barnet</th>\n",
       "      <th>Bexley</th>\n",
       "      <th>Brent</th>\n",
       "      <th>Bromley</th>\n",
       "      <th>Camden</th>\n",
       "      <th>City of London</th>\n",
       "      <th>Croydon</th>\n",
       "      <th>Ealing</th>\n",
       "      <th>Enfield</th>\n",
       "      <th>...</th>\n",
       "      <th>Merton</th>\n",
       "      <th>Newham</th>\n",
       "      <th>Redbridge</th>\n",
       "      <th>Richmond upon Thames</th>\n",
       "      <th>Southwark</th>\n",
       "      <th>Sutton</th>\n",
       "      <th>Tower Hamlets</th>\n",
       "      <th>Waltham Forest</th>\n",
       "      <th>Wandsworth</th>\n",
       "      <th>Westminster</th>\n",
       "    </tr>\n",
       "  </thead>\n",
       "  <tbody>\n",
       "    <tr>\n",
       "      <th>0</th>\n",
       "      <td>0</td>\n",
       "      <td>0</td>\n",
       "      <td>0</td>\n",
       "      <td>0</td>\n",
       "      <td>0</td>\n",
       "      <td>0</td>\n",
       "      <td>0</td>\n",
       "      <td>0</td>\n",
       "      <td>0</td>\n",
       "      <td>0</td>\n",
       "      <td>...</td>\n",
       "      <td>0</td>\n",
       "      <td>0</td>\n",
       "      <td>0</td>\n",
       "      <td>0</td>\n",
       "      <td>0</td>\n",
       "      <td>0</td>\n",
       "      <td>0</td>\n",
       "      <td>0</td>\n",
       "      <td>0</td>\n",
       "      <td>0</td>\n",
       "    </tr>\n",
       "    <tr>\n",
       "      <th>1</th>\n",
       "      <td>0</td>\n",
       "      <td>0</td>\n",
       "      <td>0</td>\n",
       "      <td>0</td>\n",
       "      <td>0</td>\n",
       "      <td>0</td>\n",
       "      <td>0</td>\n",
       "      <td>0</td>\n",
       "      <td>0</td>\n",
       "      <td>0</td>\n",
       "      <td>...</td>\n",
       "      <td>0</td>\n",
       "      <td>0</td>\n",
       "      <td>0</td>\n",
       "      <td>0</td>\n",
       "      <td>0</td>\n",
       "      <td>0</td>\n",
       "      <td>0</td>\n",
       "      <td>0</td>\n",
       "      <td>0</td>\n",
       "      <td>0</td>\n",
       "    </tr>\n",
       "    <tr>\n",
       "      <th>2</th>\n",
       "      <td>0</td>\n",
       "      <td>0</td>\n",
       "      <td>0</td>\n",
       "      <td>0</td>\n",
       "      <td>0</td>\n",
       "      <td>0</td>\n",
       "      <td>0</td>\n",
       "      <td>0</td>\n",
       "      <td>0</td>\n",
       "      <td>0</td>\n",
       "      <td>...</td>\n",
       "      <td>0</td>\n",
       "      <td>0</td>\n",
       "      <td>0</td>\n",
       "      <td>0</td>\n",
       "      <td>0</td>\n",
       "      <td>0</td>\n",
       "      <td>0</td>\n",
       "      <td>0</td>\n",
       "      <td>0</td>\n",
       "      <td>0</td>\n",
       "    </tr>\n",
       "    <tr>\n",
       "      <th>3</th>\n",
       "      <td>0</td>\n",
       "      <td>0</td>\n",
       "      <td>0</td>\n",
       "      <td>0</td>\n",
       "      <td>0</td>\n",
       "      <td>0</td>\n",
       "      <td>0</td>\n",
       "      <td>0</td>\n",
       "      <td>0</td>\n",
       "      <td>0</td>\n",
       "      <td>...</td>\n",
       "      <td>0</td>\n",
       "      <td>0</td>\n",
       "      <td>0</td>\n",
       "      <td>0</td>\n",
       "      <td>0</td>\n",
       "      <td>0</td>\n",
       "      <td>0</td>\n",
       "      <td>0</td>\n",
       "      <td>0</td>\n",
       "      <td>1</td>\n",
       "    </tr>\n",
       "    <tr>\n",
       "      <th>4</th>\n",
       "      <td>0</td>\n",
       "      <td>0</td>\n",
       "      <td>0</td>\n",
       "      <td>0</td>\n",
       "      <td>0</td>\n",
       "      <td>0</td>\n",
       "      <td>0</td>\n",
       "      <td>0</td>\n",
       "      <td>0</td>\n",
       "      <td>0</td>\n",
       "      <td>...</td>\n",
       "      <td>0</td>\n",
       "      <td>0</td>\n",
       "      <td>0</td>\n",
       "      <td>0</td>\n",
       "      <td>0</td>\n",
       "      <td>0</td>\n",
       "      <td>0</td>\n",
       "      <td>0</td>\n",
       "      <td>1</td>\n",
       "      <td>0</td>\n",
       "    </tr>\n",
       "  </tbody>\n",
       "</table>\n",
       "<p>5 rows × 33 columns</p>\n",
       "</div>"
      ],
      "text/plain": [
       "   Barking and Dagenham  Barnet  Bexley  Brent  Bromley  Camden  \\\n",
       "0                     0       0       0      0        0       0   \n",
       "1                     0       0       0      0        0       0   \n",
       "2                     0       0       0      0        0       0   \n",
       "3                     0       0       0      0        0       0   \n",
       "4                     0       0       0      0        0       0   \n",
       "\n",
       "   City of London  Croydon  Ealing  Enfield     ...       Merton  Newham  \\\n",
       "0               0        0       0        0     ...            0       0   \n",
       "1               0        0       0        0     ...            0       0   \n",
       "2               0        0       0        0     ...            0       0   \n",
       "3               0        0       0        0     ...            0       0   \n",
       "4               0        0       0        0     ...            0       0   \n",
       "\n",
       "   Redbridge  Richmond upon Thames  Southwark  Sutton  Tower Hamlets  \\\n",
       "0          0                     0          0       0              0   \n",
       "1          0                     0          0       0              0   \n",
       "2          0                     0          0       0              0   \n",
       "3          0                     0          0       0              0   \n",
       "4          0                     0          0       0              0   \n",
       "\n",
       "   Waltham Forest  Wandsworth  Westminster  \n",
       "0               0           0            0  \n",
       "1               0           0            0  \n",
       "2               0           0            0  \n",
       "3               0           0            1  \n",
       "4               0           1            0  \n",
       "\n",
       "[5 rows x 33 columns]"
      ]
     },
     "execution_count": 63,
     "metadata": {},
     "output_type": "execute_result"
    }
   ],
   "source": [
    "# Create one-hot-encoded neighbourhoods\n",
    "\n",
    "location_df = pd.get_dummies(listings_df2['neighbourhood_cleansed'])\n",
    "location_df.head()"
   ]
  },
  {
   "cell_type": "code",
   "execution_count": 64,
   "metadata": {},
   "outputs": [],
   "source": [
    "# merge one-hot-encoded df\n",
    "\n",
    "merged = lasso_unigram.join(location_df)"
   ]
  },
  {
   "cell_type": "code",
   "execution_count": 66,
   "metadata": {},
   "outputs": [],
   "source": [
    "# Split into train and test data\n",
    "from sklearn.model_selection import train_test_split\n",
    "\n",
    "x = merged.drop('log_price',1)\n",
    "y = merged[['log_price']]\n",
    "\n",
    "# test_size: what proportion of original data is used for test set\n",
    "X_train_unigram_df, X_test_unigram_df, Y_train_unigram_df, Y_test_unigram_df = train_test_split( x, y, test_size=0.2, random_state=0)\n"
   ]
  },
  {
   "cell_type": "code",
   "execution_count": 67,
   "metadata": {},
   "outputs": [
    {
     "name": "stdout",
     "output_type": "stream",
     "text": [
      "1\n"
     ]
    }
   ],
   "source": [
    "print(len(y.columns))"
   ]
  },
  {
   "cell_type": "code",
   "execution_count": 68,
   "metadata": {},
   "outputs": [
    {
     "name": "stderr",
     "output_type": "stream",
     "text": [
      "/anaconda3/lib/python3.6/site-packages/sklearn/linear_model/coordinate_descent.py:1109: DataConversionWarning: A column-vector y was passed when a 1d array was expected. Please change the shape of y to (n_samples, ), for example using ravel().\n",
      "  y = column_or_1d(y, warn=True)\n",
      "/anaconda3/lib/python3.6/site-packages/sklearn/model_selection/_split.py:2053: FutureWarning: You should specify a value for 'cv' instead of relying on the default value. The default value will change from 3 to 5 in version 0.22.\n",
      "  warnings.warn(CV_WARNING, FutureWarning)\n"
     ]
    }
   ],
   "source": [
    "from sklearn import linear_model\n",
    "\n",
    "clf = linear_model.LassoCV(n_alphas = 10)\n",
    "model_results_location = clf.fit(X_train_unigram_df,Y_train_unigram_df)"
   ]
  },
  {
   "cell_type": "code",
   "execution_count": 69,
   "metadata": {},
   "outputs": [],
   "source": [
    "import math\n",
    "import sklearn\n",
    "y_predict = model_results_location.predict(X_test_unigram_df)\n",
    "accuracy = clf.score(X_test_unigram_df,Y_test_unigram_df)\n",
    "RMSE = math.sqrt(sklearn.metrics.mean_squared_error(Y_test_unigram_df, y_predict))\n",
    "MAE = (sklearn.metrics.mean_absolute_error(Y_test_unigram_df, y_predict))"
   ]
  },
  {
   "cell_type": "code",
   "execution_count": 94,
   "metadata": {},
   "outputs": [
    {
     "data": {
      "text/plain": [
       "0.5541485026353427"
      ]
     },
     "execution_count": 94,
     "metadata": {},
     "output_type": "execute_result"
    }
   ],
   "source": [
    "accuracy_location = clf.score(X_test_unigram_df,Y_test_unigram_df)\n",
    "accuracy_location"
   ]
  },
  {
   "cell_type": "code",
   "execution_count": 70,
   "metadata": {},
   "outputs": [
    {
     "name": "stdout",
     "output_type": "stream",
     "text": [
      "0.3732677975866552 0.5069065412601715\n"
     ]
    }
   ],
   "source": [
    "# for all variables\n",
    "print(MAE,RMSE)"
   ]
  },
  {
   "cell_type": "code",
   "execution_count": 72,
   "metadata": {},
   "outputs": [],
   "source": [
    "# Get the coefficients of the model\n",
    "unigram_location_coef =clf.coef_"
   ]
  },
  {
   "cell_type": "code",
   "execution_count": 109,
   "metadata": {},
   "outputs": [],
   "source": [
    "# Count how many coefficients are 0 and not\n",
    "\n",
    "non_zero = 0 \n",
    "zero = 0 \n",
    "for coef in unigram_location_coef: \n",
    "    if coef == 0:\n",
    "        zero +=1\n",
    "    else: \n",
    "        non_zero += 1"
   ]
  },
  {
   "cell_type": "code",
   "execution_count": 110,
   "metadata": {},
   "outputs": [
    {
     "name": "stdout",
     "output_type": "stream",
     "text": [
      "415 11642\n"
     ]
    }
   ],
   "source": [
    "print(non_zero,zero)"
   ]
  },
  {
   "cell_type": "code",
   "execution_count": 183,
   "metadata": {},
   "outputs": [
    {
     "data": {
      "text/plain": [
       "<matplotlib.axes._subplots.AxesSubplot at 0x216b54c7b8>"
      ]
     },
     "execution_count": 183,
     "metadata": {},
     "output_type": "execute_result"
    },
    {
     "data": {
      "image/png": "[encoded data removed]",
      "text/plain": [
       "<Figure size 432x288 with 1 Axes>"
      ]
     },
     "metadata": {},
     "output_type": "display_data"
    }
   ],
   "source": [
    "location_unigram_df['Count'].hist()"
   ]
  },
  {
   "cell_type": "code",
   "execution_count": 189,
   "metadata": {},
   "outputs": [
    {
     "data": {
      "text/plain": [
       "78358"
      ]
     },
     "execution_count": 189,
     "metadata": {},
     "output_type": "execute_result"
    }
   ],
   "source": [
    "len(listings_df2)"
   ]
  },
  {
   "cell_type": "code",
   "execution_count": 172,
   "metadata": {},
   "outputs": [
    {
     "data": {
      "text/html": [
       "<div>\n",
       "<style scoped>\n",
       "    .dataframe tbody tr th:only-of-type {\n",
       "        vertical-align: middle;\n",
       "    }\n",
       "\n",
       "    .dataframe tbody tr th {\n",
       "        vertical-align: top;\n",
       "    }\n",
       "\n",
       "    .dataframe thead th {\n",
       "        text-align: right;\n",
       "    }\n",
       "</style>\n",
       "<table border=\"1\" class=\"dataframe\">\n",
       "  <thead>\n",
       "    <tr style=\"text-align: right;\">\n",
       "      <th></th>\n",
       "      <th>Coefficient</th>\n",
       "      <th>Count</th>\n",
       "    </tr>\n",
       "  </thead>\n",
       "  <tbody>\n",
       "    <tr>\n",
       "      <th>Kensington and Chelsea</th>\n",
       "      <td>0.621563</td>\n",
       "      <td>5590</td>\n",
       "    </tr>\n",
       "    <tr>\n",
       "      <th>City of London</th>\n",
       "      <td>0.574488</td>\n",
       "      <td>426</td>\n",
       "    </tr>\n",
       "    <tr>\n",
       "      <th>Westminster</th>\n",
       "      <td>0.567320</td>\n",
       "      <td>8506</td>\n",
       "    </tr>\n",
       "    <tr>\n",
       "      <th>Camden</th>\n",
       "      <td>0.406970</td>\n",
       "      <td>5535</td>\n",
       "    </tr>\n",
       "    <tr>\n",
       "      <th>Hammersmith and Fulham</th>\n",
       "      <td>0.256824</td>\n",
       "      <td>3956</td>\n",
       "    </tr>\n",
       "    <tr>\n",
       "      <th>Islington</th>\n",
       "      <td>0.253530</td>\n",
       "      <td>4806</td>\n",
       "    </tr>\n",
       "    <tr>\n",
       "      <th>Richmond upon Thames</th>\n",
       "      <td>0.238310</td>\n",
       "      <td>1146</td>\n",
       "    </tr>\n",
       "    <tr>\n",
       "      <th>Wandsworth</th>\n",
       "      <td>0.188608</td>\n",
       "      <td>3974</td>\n",
       "    </tr>\n",
       "    <tr>\n",
       "      <th>Southwark</th>\n",
       "      <td>0.171410</td>\n",
       "      <td>4647</td>\n",
       "    </tr>\n",
       "    <tr>\n",
       "      <th>Lambeth</th>\n",
       "      <td>0.127622</td>\n",
       "      <td>4624</td>\n",
       "    </tr>\n",
       "    <tr>\n",
       "      <th>Tower Hamlets</th>\n",
       "      <td>0.113855</td>\n",
       "      <td>7641</td>\n",
       "    </tr>\n",
       "    <tr>\n",
       "      <th>Hackney</th>\n",
       "      <td>0.110988</td>\n",
       "      <td>5896</td>\n",
       "    </tr>\n",
       "    <tr>\n",
       "      <th>Brent</th>\n",
       "      <td>0.068576</td>\n",
       "      <td>2291</td>\n",
       "    </tr>\n",
       "    <tr>\n",
       "      <th>Merton</th>\n",
       "      <td>0.023253</td>\n",
       "      <td>1264</td>\n",
       "    </tr>\n",
       "    <tr>\n",
       "      <th>Hounslow</th>\n",
       "      <td>0.004543</td>\n",
       "      <td>964</td>\n",
       "    </tr>\n",
       "    <tr>\n",
       "      <th>Ealing</th>\n",
       "      <td>0.000000</td>\n",
       "      <td>1582</td>\n",
       "    </tr>\n",
       "    <tr>\n",
       "      <th>Barnet</th>\n",
       "      <td>0.000000</td>\n",
       "      <td>1437</td>\n",
       "    </tr>\n",
       "    <tr>\n",
       "      <th>Haringey</th>\n",
       "      <td>-0.017259</td>\n",
       "      <td>2048</td>\n",
       "    </tr>\n",
       "    <tr>\n",
       "      <th>Kingston upon Thames</th>\n",
       "      <td>-0.035960</td>\n",
       "      <td>470</td>\n",
       "    </tr>\n",
       "    <tr>\n",
       "      <th>Greenwich</th>\n",
       "      <td>-0.049979</td>\n",
       "      <td>1550</td>\n",
       "    </tr>\n",
       "    <tr>\n",
       "      <th>Newham</th>\n",
       "      <td>-0.053668</td>\n",
       "      <td>1853</td>\n",
       "    </tr>\n",
       "    <tr>\n",
       "      <th>Harrow</th>\n",
       "      <td>-0.079411</td>\n",
       "      <td>443</td>\n",
       "    </tr>\n",
       "    <tr>\n",
       "      <th>Havering</th>\n",
       "      <td>-0.080176</td>\n",
       "      <td>221</td>\n",
       "    </tr>\n",
       "    <tr>\n",
       "      <th>Sutton</th>\n",
       "      <td>-0.090153</td>\n",
       "      <td>243</td>\n",
       "    </tr>\n",
       "    <tr>\n",
       "      <th>Redbridge</th>\n",
       "      <td>-0.102362</td>\n",
       "      <td>628</td>\n",
       "    </tr>\n",
       "    <tr>\n",
       "      <th>Enfield</th>\n",
       "      <td>-0.103190</td>\n",
       "      <td>560</td>\n",
       "    </tr>\n",
       "    <tr>\n",
       "      <th>Barking and Dagenham</th>\n",
       "      <td>-0.104508</td>\n",
       "      <td>268</td>\n",
       "    </tr>\n",
       "    <tr>\n",
       "      <th>Waltham Forest</th>\n",
       "      <td>-0.111557</td>\n",
       "      <td>1272</td>\n",
       "    </tr>\n",
       "    <tr>\n",
       "      <th>Hillingdon</th>\n",
       "      <td>-0.112658</td>\n",
       "      <td>554</td>\n",
       "    </tr>\n",
       "    <tr>\n",
       "      <th>Lewisham</th>\n",
       "      <td>-0.122031</td>\n",
       "      <td>2128</td>\n",
       "    </tr>\n",
       "    <tr>\n",
       "      <th>Bromley</th>\n",
       "      <td>-0.148341</td>\n",
       "      <td>596</td>\n",
       "    </tr>\n",
       "    <tr>\n",
       "      <th>Croydon</th>\n",
       "      <td>-0.205538</td>\n",
       "      <td>1016</td>\n",
       "    </tr>\n",
       "    <tr>\n",
       "      <th>Bexley</th>\n",
       "      <td>-0.244748</td>\n",
       "      <td>223</td>\n",
       "    </tr>\n",
       "  </tbody>\n",
       "</table>\n",
       "</div>"
      ],
      "text/plain": [
       "                        Coefficient  Count\n",
       "Kensington and Chelsea     0.621563   5590\n",
       "City of London             0.574488    426\n",
       "Westminster                0.567320   8506\n",
       "Camden                     0.406970   5535\n",
       "Hammersmith and Fulham     0.256824   3956\n",
       "Islington                  0.253530   4806\n",
       "Richmond upon Thames       0.238310   1146\n",
       "Wandsworth                 0.188608   3974\n",
       "Southwark                  0.171410   4647\n",
       "Lambeth                    0.127622   4624\n",
       "Tower Hamlets              0.113855   7641\n",
       "Hackney                    0.110988   5896\n",
       "Brent                      0.068576   2291\n",
       "Merton                     0.023253   1264\n",
       "Hounslow                   0.004543    964\n",
       "Ealing                     0.000000   1582\n",
       "Barnet                     0.000000   1437\n",
       "Haringey                  -0.017259   2048\n",
       "Kingston upon Thames      -0.035960    470\n",
       "Greenwich                 -0.049979   1550\n",
       "Newham                    -0.053668   1853\n",
       "Harrow                    -0.079411    443\n",
       "Havering                  -0.080176    221\n",
       "Sutton                    -0.090153    243\n",
       "Redbridge                 -0.102362    628\n",
       "Enfield                   -0.103190    560\n",
       "Barking and Dagenham      -0.104508    268\n",
       "Waltham Forest            -0.111557   1272\n",
       "Hillingdon                -0.112658    554\n",
       "Lewisham                  -0.122031   2128\n",
       "Bromley                   -0.148341    596\n",
       "Croydon                   -0.205538   1016\n",
       "Bexley                    -0.244748    223"
      ]
     },
     "execution_count": 172,
     "metadata": {},
     "output_type": "execute_result"
    }
   ],
   "source": [
    "# Get location coefficents and number of listings\n",
    "\n",
    "location_list = list(X_test_unigram_df.columns)[-33:]\n",
    "location_coefficients = unigram_location_coef[-33:]\n",
    "location_unigram_df = pd.DataFrame(index = location_list,columns = ['Coefficient'],data = location_coefficients)\n",
    "location_count = listings_df2.groupby('neighbourhood_cleansed').count()['name']\n",
    "location_unigram_df = location_unigram_df.join(location_count)\n",
    "location_unigram_df = location_unigram_df.rename(columns = {'Coefficient': 'Coefficient','name':'Count'}) \n",
    "location_unigram_df = location_unigram_df.sort_values('Coefficient',ascending = False)\n",
    "location_unigram_df.to_csv('location_coefficients.csv')\n",
    "location_unigram_df"
   ]
  },
  {
   "cell_type": "code",
   "execution_count": 186,
   "metadata": {},
   "outputs": [
    {
     "data": {
      "text/plain": [
       "count      33.000000\n",
       "mean     2374.484848\n",
       "std      2317.759628\n",
       "min       221.000000\n",
       "25%       560.000000\n",
       "50%      1437.000000\n",
       "75%      3974.000000\n",
       "max      8506.000000\n",
       "Name: Count, dtype: float64"
      ]
     },
     "execution_count": 186,
     "metadata": {},
     "output_type": "execute_result"
    }
   ],
   "source": [
    "location_unigram_df['Count'].describe()"
   ]
  },
  {
   "cell_type": "code",
   "execution_count": 185,
   "metadata": {},
   "outputs": [
    {
     "data": {
      "text/plain": [
       "1437.0"
      ]
     },
     "execution_count": 185,
     "metadata": {},
     "output_type": "execute_result"
    }
   ],
   "source": [
    "location_unigram_df['Count'].median()"
   ]
  },
  {
   "cell_type": "code",
   "execution_count": 75,
   "metadata": {},
   "outputs": [],
   "source": [
    "# most informative 100\n",
    "\n",
    "least_idx_unigram_location = np.argsort(unigram_location_coef)[:100]\n",
    "most_idx_unigram_location = np.argsort(unigram_location_coef)[-100:]"
   ]
  },
  {
   "cell_type": "code",
   "execution_count": 76,
   "metadata": {},
   "outputs": [],
   "source": [
    "# get the least informative parameters\n",
    "\n",
    "least_parameter_location_unigram = []\n",
    "for idx in least_idx_unigram_location:\n",
    "    least_parameter_location_unigram.append(list(X_train_unigram_df.columns)[idx])"
   ]
  },
  {
   "cell_type": "code",
   "execution_count": 77,
   "metadata": {},
   "outputs": [],
   "source": [
    "# get the most informative parameters\n",
    "\n",
    "most_parameter_location_unigram = []\n",
    "for idx in most_idx_unigram_location:\n",
    "    most_parameter_location_unigram.append(list(X_train_unigram_df.columns)[idx])"
   ]
  },
  {
   "cell_type": "code",
   "execution_count": 79,
   "metadata": {},
   "outputs": [],
   "source": [
    "# Get the coefficients of the parameters\n",
    "\n",
    "least_unigram_coefficients_location = []\n",
    "for idx in least_idx_unigram_location:\n",
    "    least_unigram_coefficients_location.append(unigram_location_coef[idx])\n",
    "    \n",
    "most_unigram_coefficients_location = []\n",
    "for idx in most_idx_unigram_location:\n",
    "    most_unigram_coefficients_location.append(unigram_location_coef[idx])"
   ]
  },
  {
   "cell_type": "code",
   "execution_count": 80,
   "metadata": {},
   "outputs": [],
   "source": [
    "least_unigram_location_df = pd.DataFrame(index = least_parameter_location_unigram,columns = ['Coefficient'],data = least_unigram_coefficients_location)"
   ]
  },
  {
   "cell_type": "code",
   "execution_count": 162,
   "metadata": {},
   "outputs": [
    {
     "data": {
      "text/html": [
       "<div>\n",
       "<style scoped>\n",
       "    .dataframe tbody tr th:only-of-type {\n",
       "        vertical-align: middle;\n",
       "    }\n",
       "\n",
       "    .dataframe tbody tr th {\n",
       "        vertical-align: top;\n",
       "    }\n",
       "\n",
       "    .dataframe thead th {\n",
       "        text-align: right;\n",
       "    }\n",
       "</style>\n",
       "<table border=\"1\" class=\"dataframe\">\n",
       "  <thead>\n",
       "    <tr style=\"text-align: right;\">\n",
       "      <th></th>\n",
       "      <th>Coefficient</th>\n",
       "    </tr>\n",
       "  </thead>\n",
       "  <tbody>\n",
       "    <tr>\n",
       "      <th>dorm</th>\n",
       "      <td>-1.200811</td>\n",
       "    </tr>\n",
       "    <tr>\n",
       "      <th>dormitory</th>\n",
       "      <td>-0.630260</td>\n",
       "    </tr>\n",
       "    <tr>\n",
       "      <th>britannia</th>\n",
       "      <td>-0.559522</td>\n",
       "    </tr>\n",
       "    <tr>\n",
       "      <th>room</th>\n",
       "      <td>-0.479731</td>\n",
       "    </tr>\n",
       "    <tr>\n",
       "      <th>share</th>\n",
       "      <td>-0.422131</td>\n",
       "    </tr>\n",
       "    <tr>\n",
       "      <th>single</th>\n",
       "      <td>-0.327315</td>\n",
       "    </tr>\n",
       "    <tr>\n",
       "      <th>chambre</th>\n",
       "      <td>-0.302609</td>\n",
       "    </tr>\n",
       "    <tr>\n",
       "      <th>doubleroom</th>\n",
       "      <td>-0.297404</td>\n",
       "    </tr>\n",
       "    <tr>\n",
       "      <th>bedroom</th>\n",
       "      <td>-0.256911</td>\n",
       "    </tr>\n",
       "    <tr>\n",
       "      <th>small</th>\n",
       "      <td>-0.250082</td>\n",
       "    </tr>\n",
       "    <tr>\n",
       "      <th>Bexley</th>\n",
       "      <td>-0.244748</td>\n",
       "    </tr>\n",
       "    <tr>\n",
       "      <th>friendly</th>\n",
       "      <td>-0.235199</td>\n",
       "    </tr>\n",
       "    <tr>\n",
       "      <th>shared</th>\n",
       "      <td>-0.209593</td>\n",
       "    </tr>\n",
       "    <tr>\n",
       "      <th>Croydon</th>\n",
       "      <td>-0.205538</td>\n",
       "    </tr>\n",
       "    <tr>\n",
       "      <th>female</th>\n",
       "      <td>-0.205118</td>\n",
       "    </tr>\n",
       "    <tr>\n",
       "      <th>dprivate</th>\n",
       "      <td>-0.201797</td>\n",
       "    </tr>\n",
       "    <tr>\n",
       "      <th>cheap</th>\n",
       "      <td>-0.201460</td>\n",
       "    </tr>\n",
       "    <tr>\n",
       "      <th>greater</th>\n",
       "      <td>-0.195957</td>\n",
       "    </tr>\n",
       "    <tr>\n",
       "      <th>streatham</th>\n",
       "      <td>-0.192490</td>\n",
       "    </tr>\n",
       "    <tr>\n",
       "      <th>bed</th>\n",
       "      <td>-0.189698</td>\n",
       "    </tr>\n",
       "    <tr>\n",
       "      <th>only</th>\n",
       "      <td>-0.189032</td>\n",
       "    </tr>\n",
       "    <tr>\n",
       "      <th>portobello</th>\n",
       "      <td>-0.172412</td>\n",
       "    </tr>\n",
       "    <tr>\n",
       "      <th>mile</th>\n",
       "      <td>-0.169510</td>\n",
       "    </tr>\n",
       "    <tr>\n",
       "      <th>bprivate</th>\n",
       "      <td>-0.160175</td>\n",
       "    </tr>\n",
       "    <tr>\n",
       "      <th>girls</th>\n",
       "      <td>-0.156134</td>\n",
       "    </tr>\n",
       "    <tr>\n",
       "      <th>double</th>\n",
       "      <td>-0.154437</td>\n",
       "    </tr>\n",
       "    <tr>\n",
       "      <th>bedsit</th>\n",
       "      <td>-0.153452</td>\n",
       "    </tr>\n",
       "    <tr>\n",
       "      <th>Bromley</th>\n",
       "      <td>-0.148341</td>\n",
       "    </tr>\n",
       "    <tr>\n",
       "      <th>baker</th>\n",
       "      <td>-0.146111</td>\n",
       "    </tr>\n",
       "    <tr>\n",
       "      <th>studio</th>\n",
       "      <td>-0.142803</td>\n",
       "    </tr>\n",
       "    <tr>\n",
       "      <th>...</th>\n",
       "      <td>...</td>\n",
       "    </tr>\n",
       "    <tr>\n",
       "      <th>wood</th>\n",
       "      <td>-0.092672</td>\n",
       "    </tr>\n",
       "    <tr>\n",
       "      <th>Sutton</th>\n",
       "      <td>-0.090153</td>\n",
       "    </tr>\n",
       "    <tr>\n",
       "      <th>comfortable</th>\n",
       "      <td>-0.088627</td>\n",
       "    </tr>\n",
       "    <tr>\n",
       "      <th>private</th>\n",
       "      <td>-0.085116</td>\n",
       "    </tr>\n",
       "    <tr>\n",
       "      <th>short</th>\n",
       "      <td>-0.084418</td>\n",
       "    </tr>\n",
       "    <tr>\n",
       "      <th>notting</th>\n",
       "      <td>-0.084398</td>\n",
       "    </tr>\n",
       "    <tr>\n",
       "      <th>Havering</th>\n",
       "      <td>-0.080176</td>\n",
       "    </tr>\n",
       "    <tr>\n",
       "      <th>Harrow</th>\n",
       "      <td>-0.079411</td>\n",
       "    </tr>\n",
       "    <tr>\n",
       "      <th>mins</th>\n",
       "      <td>-0.078282</td>\n",
       "    </tr>\n",
       "    <tr>\n",
       "      <th>for</th>\n",
       "      <td>-0.076731</td>\n",
       "    </tr>\n",
       "    <tr>\n",
       "      <th>beds</th>\n",
       "      <td>-0.076430</td>\n",
       "    </tr>\n",
       "    <tr>\n",
       "      <th>a</th>\n",
       "      <td>-0.073825</td>\n",
       "    </tr>\n",
       "    <tr>\n",
       "      <th>r4</th>\n",
       "      <td>-0.073391</td>\n",
       "    </tr>\n",
       "    <tr>\n",
       "      <th>paddington</th>\n",
       "      <td>-0.073388</td>\n",
       "    </tr>\n",
       "    <tr>\n",
       "      <th>sunny</th>\n",
       "      <td>-0.072224</td>\n",
       "    </tr>\n",
       "    <tr>\n",
       "      <th>zone</th>\n",
       "      <td>-0.066485</td>\n",
       "    </tr>\n",
       "    <tr>\n",
       "      <th>rd</th>\n",
       "      <td>-0.066483</td>\n",
       "    </tr>\n",
       "    <tr>\n",
       "      <th>rooms</th>\n",
       "      <td>-0.066457</td>\n",
       "    </tr>\n",
       "    <tr>\n",
       "      <th>term</th>\n",
       "      <td>-0.065252</td>\n",
       "    </tr>\n",
       "    <tr>\n",
       "      <th>heathrow</th>\n",
       "      <td>-0.064094</td>\n",
       "    </tr>\n",
       "    <tr>\n",
       "      <th>camberwell</th>\n",
       "      <td>-0.064004</td>\n",
       "    </tr>\n",
       "    <tr>\n",
       "      <th>r2</th>\n",
       "      <td>-0.063421</td>\n",
       "    </tr>\n",
       "    <tr>\n",
       "      <th>russell</th>\n",
       "      <td>-0.059944</td>\n",
       "    </tr>\n",
       "    <tr>\n",
       "      <th>from</th>\n",
       "      <td>-0.059075</td>\n",
       "    </tr>\n",
       "    <tr>\n",
       "      <th>near</th>\n",
       "      <td>-0.057836</td>\n",
       "    </tr>\n",
       "    <tr>\n",
       "      <th>size</th>\n",
       "      <td>-0.057499</td>\n",
       "    </tr>\n",
       "    <tr>\n",
       "      <th>your</th>\n",
       "      <td>-0.057342</td>\n",
       "    </tr>\n",
       "    <tr>\n",
       "      <th>min</th>\n",
       "      <td>-0.057341</td>\n",
       "    </tr>\n",
       "    <tr>\n",
       "      <th>in</th>\n",
       "      <td>-0.057269</td>\n",
       "    </tr>\n",
       "    <tr>\n",
       "      <th>accommodation</th>\n",
       "      <td>-0.054540</td>\n",
       "    </tr>\n",
       "  </tbody>\n",
       "</table>\n",
       "<p>100 rows × 1 columns</p>\n",
       "</div>"
      ],
      "text/plain": [
       "               Coefficient\n",
       "dorm             -1.200811\n",
       "dormitory        -0.630260\n",
       "britannia        -0.559522\n",
       "room             -0.479731\n",
       "share            -0.422131\n",
       "single           -0.327315\n",
       "chambre          -0.302609\n",
       "doubleroom       -0.297404\n",
       "bedroom          -0.256911\n",
       "small            -0.250082\n",
       "Bexley           -0.244748\n",
       "friendly         -0.235199\n",
       "shared           -0.209593\n",
       "Croydon          -0.205538\n",
       "female           -0.205118\n",
       "dprivate         -0.201797\n",
       "cheap            -0.201460\n",
       "greater          -0.195957\n",
       "streatham        -0.192490\n",
       "bed              -0.189698\n",
       "only             -0.189032\n",
       "portobello       -0.172412\n",
       "mile             -0.169510\n",
       "bprivate         -0.160175\n",
       "girls            -0.156134\n",
       "double           -0.154437\n",
       "bedsit           -0.153452\n",
       "Bromley          -0.148341\n",
       "baker            -0.146111\n",
       "studio           -0.142803\n",
       "...                    ...\n",
       "wood             -0.092672\n",
       "Sutton           -0.090153\n",
       "comfortable      -0.088627\n",
       "private          -0.085116\n",
       "short            -0.084418\n",
       "notting          -0.084398\n",
       "Havering         -0.080176\n",
       "Harrow           -0.079411\n",
       "mins             -0.078282\n",
       "for              -0.076731\n",
       "beds             -0.076430\n",
       "a                -0.073825\n",
       "r4               -0.073391\n",
       "paddington       -0.073388\n",
       "sunny            -0.072224\n",
       "zone             -0.066485\n",
       "rd               -0.066483\n",
       "rooms            -0.066457\n",
       "term             -0.065252\n",
       "heathrow         -0.064094\n",
       "camberwell       -0.064004\n",
       "r2               -0.063421\n",
       "russell          -0.059944\n",
       "from             -0.059075\n",
       "near             -0.057836\n",
       "size             -0.057499\n",
       "your             -0.057342\n",
       "min              -0.057341\n",
       "in               -0.057269\n",
       "accommodation    -0.054540\n",
       "\n",
       "[100 rows x 1 columns]"
      ]
     },
     "execution_count": 162,
     "metadata": {},
     "output_type": "execute_result"
    }
   ],
   "source": [
    "least_unigram_location_df.to_csv('least_impactful.csv')\n",
    "least_unigram_location_df"
   ]
  },
  {
   "cell_type": "code",
   "execution_count": 83,
   "metadata": {},
   "outputs": [],
   "source": [
    "most_unigram_location_df = pd.DataFrame(index = most_parameter_location_unigram,columns = ['Coefficient'],data = most_unigram_coefficients_location)"
   ]
  },
  {
   "cell_type": "code",
   "execution_count": 161,
   "metadata": {},
   "outputs": [
    {
     "data": {
      "text/html": [
       "<div>\n",
       "<style scoped>\n",
       "    .dataframe tbody tr th:only-of-type {\n",
       "        vertical-align: middle;\n",
       "    }\n",
       "\n",
       "    .dataframe tbody tr th {\n",
       "        vertical-align: top;\n",
       "    }\n",
       "\n",
       "    .dataframe thead th {\n",
       "        text-align: right;\n",
       "    }\n",
       "</style>\n",
       "<table border=\"1\" class=\"dataframe\">\n",
       "  <thead>\n",
       "    <tr style=\"text-align: right;\">\n",
       "      <th></th>\n",
       "      <th>Coefficient</th>\n",
       "    </tr>\n",
       "  </thead>\n",
       "  <tbody>\n",
       "    <tr>\n",
       "      <th>onefinestay</th>\n",
       "      <td>1.578568</td>\n",
       "    </tr>\n",
       "    <tr>\n",
       "      <th>five</th>\n",
       "      <td>0.978494</td>\n",
       "    </tr>\n",
       "    <tr>\n",
       "      <th>six</th>\n",
       "      <td>0.878236</td>\n",
       "    </tr>\n",
       "    <tr>\n",
       "      <th>four</th>\n",
       "      <td>0.824256</td>\n",
       "    </tr>\n",
       "    <tr>\n",
       "      <th>three</th>\n",
       "      <td>0.641803</td>\n",
       "    </tr>\n",
       "    <tr>\n",
       "      <th>Kensington and Chelsea</th>\n",
       "      <td>0.621563</td>\n",
       "    </tr>\n",
       "    <tr>\n",
       "      <th>City of London</th>\n",
       "      <td>0.574488</td>\n",
       "    </tr>\n",
       "    <tr>\n",
       "      <th>Westminster</th>\n",
       "      <td>0.567320</td>\n",
       "    </tr>\n",
       "    <tr>\n",
       "      <th>olympics</th>\n",
       "      <td>0.544742</td>\n",
       "    </tr>\n",
       "    <tr>\n",
       "      <th>superior</th>\n",
       "      <td>0.532859</td>\n",
       "    </tr>\n",
       "    <tr>\n",
       "      <th>veeve</th>\n",
       "      <td>0.497504</td>\n",
       "    </tr>\n",
       "    <tr>\n",
       "      <th>two</th>\n",
       "      <td>0.454419</td>\n",
       "    </tr>\n",
       "    <tr>\n",
       "      <th>hotel</th>\n",
       "      <td>0.446084</td>\n",
       "    </tr>\n",
       "    <tr>\n",
       "      <th>suites</th>\n",
       "      <td>0.440699</td>\n",
       "    </tr>\n",
       "    <tr>\n",
       "      <th>sonder</th>\n",
       "      <td>0.424572</td>\n",
       "    </tr>\n",
       "    <tr>\n",
       "      <th>knightsbridge</th>\n",
       "      <td>0.422445</td>\n",
       "    </tr>\n",
       "    <tr>\n",
       "      <th>ii</th>\n",
       "      <td>0.415938</td>\n",
       "    </tr>\n",
       "    <tr>\n",
       "      <th>mayfair</th>\n",
       "      <td>0.412552</td>\n",
       "    </tr>\n",
       "    <tr>\n",
       "      <th>penthouse</th>\n",
       "      <td>0.409545</td>\n",
       "    </tr>\n",
       "    <tr>\n",
       "      <th>Camden</th>\n",
       "      <td>0.406970</td>\n",
       "    </tr>\n",
       "    <tr>\n",
       "      <th>iv</th>\n",
       "      <td>0.395947</td>\n",
       "    </tr>\n",
       "    <tr>\n",
       "      <th>townhouse</th>\n",
       "      <td>0.390007</td>\n",
       "    </tr>\n",
       "    <tr>\n",
       "      <th>managed</th>\n",
       "      <td>0.385635</td>\n",
       "    </tr>\n",
       "    <tr>\n",
       "      <th>apartments</th>\n",
       "      <td>0.384135</td>\n",
       "    </tr>\n",
       "    <tr>\n",
       "      <th>deluxe</th>\n",
       "      <td>0.362249</td>\n",
       "    </tr>\n",
       "    <tr>\n",
       "      <th>iii</th>\n",
       "      <td>0.361167</td>\n",
       "    </tr>\n",
       "    <tr>\n",
       "      <th>chiswick</th>\n",
       "      <td>0.333122</td>\n",
       "    </tr>\n",
       "    <tr>\n",
       "      <th>luxurious</th>\n",
       "      <td>0.317857</td>\n",
       "    </tr>\n",
       "    <tr>\n",
       "      <th>family</th>\n",
       "      <td>0.297385</td>\n",
       "    </tr>\n",
       "    <tr>\n",
       "      <th>eccleston</th>\n",
       "      <td>0.293849</td>\n",
       "    </tr>\n",
       "    <tr>\n",
       "      <th>...</th>\n",
       "      <td>...</td>\n",
       "    </tr>\n",
       "    <tr>\n",
       "      <th>8</th>\n",
       "      <td>0.167097</td>\n",
       "    </tr>\n",
       "    <tr>\n",
       "      <th>duplex</th>\n",
       "      <td>0.165840</td>\n",
       "    </tr>\n",
       "    <tr>\n",
       "      <th>villa</th>\n",
       "      <td>0.160801</td>\n",
       "    </tr>\n",
       "    <tr>\n",
       "      <th>2bathroom</th>\n",
       "      <td>0.160797</td>\n",
       "    </tr>\n",
       "    <tr>\n",
       "      <th>piccadilly</th>\n",
       "      <td>0.158519</td>\n",
       "    </tr>\n",
       "    <tr>\n",
       "      <th>elegant</th>\n",
       "      <td>0.155687</td>\n",
       "    </tr>\n",
       "    <tr>\n",
       "      <th>20</th>\n",
       "      <td>0.150994</td>\n",
       "    </tr>\n",
       "    <tr>\n",
       "      <th>residence</th>\n",
       "      <td>0.150729</td>\n",
       "    </tr>\n",
       "    <tr>\n",
       "      <th>classic</th>\n",
       "      <td>0.145352</td>\n",
       "    </tr>\n",
       "    <tr>\n",
       "      <th>southbank</th>\n",
       "      <td>0.144428</td>\n",
       "    </tr>\n",
       "    <tr>\n",
       "      <th>harrods</th>\n",
       "      <td>0.142029</td>\n",
       "    </tr>\n",
       "    <tr>\n",
       "      <th>lux</th>\n",
       "      <td>0.141970</td>\n",
       "    </tr>\n",
       "    <tr>\n",
       "      <th>contemporary</th>\n",
       "      <td>0.141051</td>\n",
       "    </tr>\n",
       "    <tr>\n",
       "      <th>shoreditch</th>\n",
       "      <td>0.140299</td>\n",
       "    </tr>\n",
       "    <tr>\n",
       "      <th>designer</th>\n",
       "      <td>0.139456</td>\n",
       "    </tr>\n",
       "    <tr>\n",
       "      <th>air</th>\n",
       "      <td>0.139129</td>\n",
       "    </tr>\n",
       "    <tr>\n",
       "      <th>6</th>\n",
       "      <td>0.134896</td>\n",
       "    </tr>\n",
       "    <tr>\n",
       "      <th>soho</th>\n",
       "      <td>0.129991</td>\n",
       "    </tr>\n",
       "    <tr>\n",
       "      <th>Lambeth</th>\n",
       "      <td>0.127622</td>\n",
       "    </tr>\n",
       "    <tr>\n",
       "      <th>arch</th>\n",
       "      <td>0.123914</td>\n",
       "    </tr>\n",
       "    <tr>\n",
       "      <th>bridge</th>\n",
       "      <td>0.122030</td>\n",
       "    </tr>\n",
       "    <tr>\n",
       "      <th>fitzrovia</th>\n",
       "      <td>0.120453</td>\n",
       "    </tr>\n",
       "    <tr>\n",
       "      <th>luxe</th>\n",
       "      <td>0.118597</td>\n",
       "    </tr>\n",
       "    <tr>\n",
       "      <th>off</th>\n",
       "      <td>0.118391</td>\n",
       "    </tr>\n",
       "    <tr>\n",
       "      <th>buckingham</th>\n",
       "      <td>0.117626</td>\n",
       "    </tr>\n",
       "    <tr>\n",
       "      <th>Tower Hamlets</th>\n",
       "      <td>0.113855</td>\n",
       "    </tr>\n",
       "    <tr>\n",
       "      <th>attractive</th>\n",
       "      <td>0.111622</td>\n",
       "    </tr>\n",
       "    <tr>\n",
       "      <th>Hackney</th>\n",
       "      <td>0.110988</td>\n",
       "    </tr>\n",
       "    <tr>\n",
       "      <th>clerkenwell</th>\n",
       "      <td>0.110165</td>\n",
       "    </tr>\n",
       "    <tr>\n",
       "      <th>3bed</th>\n",
       "      <td>0.109793</td>\n",
       "    </tr>\n",
       "  </tbody>\n",
       "</table>\n",
       "<p>100 rows × 1 columns</p>\n",
       "</div>"
      ],
      "text/plain": [
       "                        Coefficient\n",
       "onefinestay                1.578568\n",
       "five                       0.978494\n",
       "six                        0.878236\n",
       "four                       0.824256\n",
       "three                      0.641803\n",
       "Kensington and Chelsea     0.621563\n",
       "City of London             0.574488\n",
       "Westminster                0.567320\n",
       "olympics                   0.544742\n",
       "superior                   0.532859\n",
       "veeve                      0.497504\n",
       "two                        0.454419\n",
       "hotel                      0.446084\n",
       "suites                     0.440699\n",
       "sonder                     0.424572\n",
       "knightsbridge              0.422445\n",
       "ii                         0.415938\n",
       "mayfair                    0.412552\n",
       "penthouse                  0.409545\n",
       "Camden                     0.406970\n",
       "iv                         0.395947\n",
       "townhouse                  0.390007\n",
       "managed                    0.385635\n",
       "apartments                 0.384135\n",
       "deluxe                     0.362249\n",
       "iii                        0.361167\n",
       "chiswick                   0.333122\n",
       "luxurious                  0.317857\n",
       "family                     0.297385\n",
       "eccleston                  0.293849\n",
       "...                             ...\n",
       "8                          0.167097\n",
       "duplex                     0.165840\n",
       "villa                      0.160801\n",
       "2bathroom                  0.160797\n",
       "piccadilly                 0.158519\n",
       "elegant                    0.155687\n",
       "20                         0.150994\n",
       "residence                  0.150729\n",
       "classic                    0.145352\n",
       "southbank                  0.144428\n",
       "harrods                    0.142029\n",
       "lux                        0.141970\n",
       "contemporary               0.141051\n",
       "shoreditch                 0.140299\n",
       "designer                   0.139456\n",
       "air                        0.139129\n",
       "6                          0.134896\n",
       "soho                       0.129991\n",
       "Lambeth                    0.127622\n",
       "arch                       0.123914\n",
       "bridge                     0.122030\n",
       "fitzrovia                  0.120453\n",
       "luxe                       0.118597\n",
       "off                        0.118391\n",
       "buckingham                 0.117626\n",
       "Tower Hamlets              0.113855\n",
       "attractive                 0.111622\n",
       "Hackney                    0.110988\n",
       "clerkenwell                0.110165\n",
       "3bed                       0.109793\n",
       "\n",
       "[100 rows x 1 columns]"
      ]
     },
     "execution_count": 161,
     "metadata": {},
     "output_type": "execute_result"
    }
   ],
   "source": [
    "most_unigram_location_df = most_unigram_location_df.sort_values('Coefficient',ascending= False)\n",
    "most_unigram_location_df.to_csv('most_impactful.csv')\n",
    "most_unigram_location_df"
   ]
  },
  {
   "cell_type": "markdown",
   "metadata": {},
   "source": [
    "## Unigram, Bigram, and Trigram"
   ]
  },
  {
   "cell_type": "code",
   "execution_count": 91,
   "metadata": {},
   "outputs": [
    {
     "data": {
      "text/html": [
       "<div>\n",
       "<style scoped>\n",
       "    .dataframe tbody tr th:only-of-type {\n",
       "        vertical-align: middle;\n",
       "    }\n",
       "\n",
       "    .dataframe tbody tr th {\n",
       "        vertical-align: top;\n",
       "    }\n",
       "\n",
       "    .dataframe thead th {\n",
       "        text-align: right;\n",
       "    }\n",
       "</style>\n",
       "<table border=\"1\" class=\"dataframe\">\n",
       "  <thead>\n",
       "    <tr style=\"text-align: right;\">\n",
       "      <th></th>\n",
       "      <th>(, )</th>\n",
       "      <th>(, 02)</th>\n",
       "      <th>(, 1)</th>\n",
       "      <th>(, 10)</th>\n",
       "      <th>(, 1000sq)</th>\n",
       "      <th>(, 100mb)</th>\n",
       "      <th>(, 104)</th>\n",
       "      <th>(, 11min)</th>\n",
       "      <th>(, 12)</th>\n",
       "      <th>(, 14)</th>\n",
       "      <th>...</th>\n",
       "      <th>(럭셔리, 아파트)</th>\n",
       "      <th>(로맨틱, 2인용)</th>\n",
       "      <th>(배스룸키친, 쉐어)</th>\n",
       "      <th>(빅토리안, 하우스)</th>\n",
       "      <th>(엄청, 넓은)</th>\n",
       "      <th>(욕실, 화장실)</th>\n",
       "      <th>(편리한, 럭셔리)</th>\n",
       "      <th>(하우스, 엄청)</th>\n",
       "      <th>(화장실, 깨끗하고)</th>\n",
       "      <th>(️️️️️, one)</th>\n",
       "    </tr>\n",
       "  </thead>\n",
       "  <tbody>\n",
       "    <tr>\n",
       "      <th>0</th>\n",
       "      <td>0</td>\n",
       "      <td>0</td>\n",
       "      <td>0</td>\n",
       "      <td>0</td>\n",
       "      <td>0</td>\n",
       "      <td>0</td>\n",
       "      <td>0</td>\n",
       "      <td>0</td>\n",
       "      <td>0</td>\n",
       "      <td>0</td>\n",
       "      <td>...</td>\n",
       "      <td>0</td>\n",
       "      <td>0</td>\n",
       "      <td>0</td>\n",
       "      <td>0</td>\n",
       "      <td>0</td>\n",
       "      <td>0</td>\n",
       "      <td>0</td>\n",
       "      <td>0</td>\n",
       "      <td>0</td>\n",
       "      <td>0</td>\n",
       "    </tr>\n",
       "    <tr>\n",
       "      <th>1</th>\n",
       "      <td>0</td>\n",
       "      <td>0</td>\n",
       "      <td>0</td>\n",
       "      <td>0</td>\n",
       "      <td>0</td>\n",
       "      <td>0</td>\n",
       "      <td>0</td>\n",
       "      <td>0</td>\n",
       "      <td>0</td>\n",
       "      <td>0</td>\n",
       "      <td>...</td>\n",
       "      <td>0</td>\n",
       "      <td>0</td>\n",
       "      <td>0</td>\n",
       "      <td>0</td>\n",
       "      <td>0</td>\n",
       "      <td>0</td>\n",
       "      <td>0</td>\n",
       "      <td>0</td>\n",
       "      <td>0</td>\n",
       "      <td>0</td>\n",
       "    </tr>\n",
       "    <tr>\n",
       "      <th>2</th>\n",
       "      <td>0</td>\n",
       "      <td>0</td>\n",
       "      <td>0</td>\n",
       "      <td>0</td>\n",
       "      <td>0</td>\n",
       "      <td>0</td>\n",
       "      <td>0</td>\n",
       "      <td>0</td>\n",
       "      <td>0</td>\n",
       "      <td>0</td>\n",
       "      <td>...</td>\n",
       "      <td>0</td>\n",
       "      <td>0</td>\n",
       "      <td>0</td>\n",
       "      <td>0</td>\n",
       "      <td>0</td>\n",
       "      <td>0</td>\n",
       "      <td>0</td>\n",
       "      <td>0</td>\n",
       "      <td>0</td>\n",
       "      <td>0</td>\n",
       "    </tr>\n",
       "    <tr>\n",
       "      <th>3</th>\n",
       "      <td>0</td>\n",
       "      <td>0</td>\n",
       "      <td>0</td>\n",
       "      <td>0</td>\n",
       "      <td>0</td>\n",
       "      <td>0</td>\n",
       "      <td>0</td>\n",
       "      <td>0</td>\n",
       "      <td>0</td>\n",
       "      <td>0</td>\n",
       "      <td>...</td>\n",
       "      <td>0</td>\n",
       "      <td>0</td>\n",
       "      <td>0</td>\n",
       "      <td>0</td>\n",
       "      <td>0</td>\n",
       "      <td>0</td>\n",
       "      <td>0</td>\n",
       "      <td>0</td>\n",
       "      <td>0</td>\n",
       "      <td>0</td>\n",
       "    </tr>\n",
       "    <tr>\n",
       "      <th>4</th>\n",
       "      <td>0</td>\n",
       "      <td>0</td>\n",
       "      <td>0</td>\n",
       "      <td>0</td>\n",
       "      <td>0</td>\n",
       "      <td>0</td>\n",
       "      <td>0</td>\n",
       "      <td>0</td>\n",
       "      <td>0</td>\n",
       "      <td>0</td>\n",
       "      <td>...</td>\n",
       "      <td>0</td>\n",
       "      <td>0</td>\n",
       "      <td>0</td>\n",
       "      <td>0</td>\n",
       "      <td>0</td>\n",
       "      <td>0</td>\n",
       "      <td>0</td>\n",
       "      <td>0</td>\n",
       "      <td>0</td>\n",
       "      <td>0</td>\n",
       "    </tr>\n",
       "  </tbody>\n",
       "</table>\n",
       "<p>5 rows × 69162 columns</p>\n",
       "</div>"
      ],
      "text/plain": [
       "   (, )  (, 02)  (, 1)  (, 10)  (, 1000sq)  (, 100mb)  (, 104)  (, 11min)  \\\n",
       "0     0       0      0       0           0          0        0          0   \n",
       "1     0       0      0       0           0          0        0          0   \n",
       "2     0       0      0       0           0          0        0          0   \n",
       "3     0       0      0       0           0          0        0          0   \n",
       "4     0       0      0       0           0          0        0          0   \n",
       "\n",
       "   (, 12)  (, 14)      ...       (럭셔리, 아파트)  (로맨틱, 2인용)  (배스룸키친, 쉐어)  \\\n",
       "0       0       0      ...                0           0            0   \n",
       "1       0       0      ...                0           0            0   \n",
       "2       0       0      ...                0           0            0   \n",
       "3       0       0      ...                0           0            0   \n",
       "4       0       0      ...                0           0            0   \n",
       "\n",
       "   (빅토리안, 하우스)  (엄청, 넓은)  (욕실, 화장실)  (편리한, 럭셔리)  (하우스, 엄청)  (화장실, 깨끗하고)  \\\n",
       "0            0         0          0           0          0            0   \n",
       "1            0         0          0           0          0            0   \n",
       "2            0         0          0           0          0            0   \n",
       "3            0         0          0           0          0            0   \n",
       "4            0         0          0           0          0            0   \n",
       "\n",
       "   (️️️️️, one)  \n",
       "0             0  \n",
       "1             0  \n",
       "2             0  \n",
       "3             0  \n",
       "4             0  \n",
       "\n",
       "[5 rows x 69162 columns]"
      ]
     },
     "execution_count": 91,
     "metadata": {},
     "output_type": "execute_result"
    }
   ],
   "source": [
    "# Create one-hot-encoded df for all bigrams\n",
    "from sklearn.preprocessing import MultiLabelBinarizer\n",
    "\n",
    "mlb = MultiLabelBinarizer()\n",
    "\n",
    "lasso_bigram_df = pd.DataFrame(mlb.fit_transform(listings_df2['bigrams']),columns=mlb.classes_, index=listings_df2.index)\n",
    "lasso_bigram_df.head()"
   ]
  },
  {
   "cell_type": "code",
   "execution_count": 98,
   "metadata": {},
   "outputs": [],
   "source": [
    "# pickle the df\n",
    "filename = 'lasso_bigram_df'\n",
    "outfile = open(filename,'wb')\n",
    "pickle.dump(lasso_bigram_df.iloc[:100,:],outfile,protocol=4)\n",
    "outfile.close()"
   ]
  },
  {
   "cell_type": "code",
   "execution_count": null,
   "metadata": {},
   "outputs": [],
   "source": [
    "lasso_bigram_df['log_price'] = [np.log(price) for price in listings_df2['price']]"
   ]
  },
  {
   "cell_type": "code",
   "execution_count": 94,
   "metadata": {},
   "outputs": [
    {
     "data": {
      "text/html": [
       "<div>\n",
       "<style scoped>\n",
       "    .dataframe tbody tr th:only-of-type {\n",
       "        vertical-align: middle;\n",
       "    }\n",
       "\n",
       "    .dataframe tbody tr th {\n",
       "        vertical-align: top;\n",
       "    }\n",
       "\n",
       "    .dataframe thead th {\n",
       "        text-align: right;\n",
       "    }\n",
       "</style>\n",
       "<table border=\"1\" class=\"dataframe\">\n",
       "  <thead>\n",
       "    <tr style=\"text-align: right;\">\n",
       "      <th></th>\n",
       "      <th>(, , )</th>\n",
       "      <th>(, , 1)</th>\n",
       "      <th>(, , 6)</th>\n",
       "      <th>(, , 6th)</th>\n",
       "      <th>(, , at)</th>\n",
       "      <th>(, , bath★)</th>\n",
       "      <th>(, , bedroom)</th>\n",
       "      <th>(, , brick)</th>\n",
       "      <th>(, , can)</th>\n",
       "      <th>(, , central)</th>\n",
       "      <th>...</th>\n",
       "      <th>(넓은, 로맨틱, 2인용)</th>\n",
       "      <th>(다락방단독, 배스룸키친, 쉐어)</th>\n",
       "      <th>(로맨틱, 2인용, 다락방단독)</th>\n",
       "      <th>(빅토리안, 하우스, 엄청)</th>\n",
       "      <th>(엄청, 넓은, 로맨틱)</th>\n",
       "      <th>(욕실, 화장실, 깨끗하고)</th>\n",
       "      <th>(편리한, 럭셔리, 아파트)</th>\n",
       "      <th>(하우스, 엄청, 넓은)</th>\n",
       "      <th>(화장실, 깨끗하고, 교통)</th>\n",
       "      <th>(️️️️️, one, bed)</th>\n",
       "    </tr>\n",
       "  </thead>\n",
       "  <tbody>\n",
       "    <tr>\n",
       "      <th>0</th>\n",
       "      <td>0</td>\n",
       "      <td>0</td>\n",
       "      <td>0</td>\n",
       "      <td>0</td>\n",
       "      <td>0</td>\n",
       "      <td>0</td>\n",
       "      <td>0</td>\n",
       "      <td>0</td>\n",
       "      <td>0</td>\n",
       "      <td>0</td>\n",
       "      <td>...</td>\n",
       "      <td>0</td>\n",
       "      <td>0</td>\n",
       "      <td>0</td>\n",
       "      <td>0</td>\n",
       "      <td>0</td>\n",
       "      <td>0</td>\n",
       "      <td>0</td>\n",
       "      <td>0</td>\n",
       "      <td>0</td>\n",
       "      <td>0</td>\n",
       "    </tr>\n",
       "    <tr>\n",
       "      <th>1</th>\n",
       "      <td>0</td>\n",
       "      <td>0</td>\n",
       "      <td>0</td>\n",
       "      <td>0</td>\n",
       "      <td>0</td>\n",
       "      <td>0</td>\n",
       "      <td>0</td>\n",
       "      <td>0</td>\n",
       "      <td>0</td>\n",
       "      <td>0</td>\n",
       "      <td>...</td>\n",
       "      <td>0</td>\n",
       "      <td>0</td>\n",
       "      <td>0</td>\n",
       "      <td>0</td>\n",
       "      <td>0</td>\n",
       "      <td>0</td>\n",
       "      <td>0</td>\n",
       "      <td>0</td>\n",
       "      <td>0</td>\n",
       "      <td>0</td>\n",
       "    </tr>\n",
       "    <tr>\n",
       "      <th>2</th>\n",
       "      <td>0</td>\n",
       "      <td>0</td>\n",
       "      <td>0</td>\n",
       "      <td>0</td>\n",
       "      <td>0</td>\n",
       "      <td>0</td>\n",
       "      <td>0</td>\n",
       "      <td>0</td>\n",
       "      <td>0</td>\n",
       "      <td>0</td>\n",
       "      <td>...</td>\n",
       "      <td>0</td>\n",
       "      <td>0</td>\n",
       "      <td>0</td>\n",
       "      <td>0</td>\n",
       "      <td>0</td>\n",
       "      <td>0</td>\n",
       "      <td>0</td>\n",
       "      <td>0</td>\n",
       "      <td>0</td>\n",
       "      <td>0</td>\n",
       "    </tr>\n",
       "    <tr>\n",
       "      <th>3</th>\n",
       "      <td>0</td>\n",
       "      <td>0</td>\n",
       "      <td>0</td>\n",
       "      <td>0</td>\n",
       "      <td>0</td>\n",
       "      <td>0</td>\n",
       "      <td>0</td>\n",
       "      <td>0</td>\n",
       "      <td>0</td>\n",
       "      <td>0</td>\n",
       "      <td>...</td>\n",
       "      <td>0</td>\n",
       "      <td>0</td>\n",
       "      <td>0</td>\n",
       "      <td>0</td>\n",
       "      <td>0</td>\n",
       "      <td>0</td>\n",
       "      <td>0</td>\n",
       "      <td>0</td>\n",
       "      <td>0</td>\n",
       "      <td>0</td>\n",
       "    </tr>\n",
       "    <tr>\n",
       "      <th>4</th>\n",
       "      <td>0</td>\n",
       "      <td>0</td>\n",
       "      <td>0</td>\n",
       "      <td>0</td>\n",
       "      <td>0</td>\n",
       "      <td>0</td>\n",
       "      <td>0</td>\n",
       "      <td>0</td>\n",
       "      <td>0</td>\n",
       "      <td>0</td>\n",
       "      <td>...</td>\n",
       "      <td>0</td>\n",
       "      <td>0</td>\n",
       "      <td>0</td>\n",
       "      <td>0</td>\n",
       "      <td>0</td>\n",
       "      <td>0</td>\n",
       "      <td>0</td>\n",
       "      <td>0</td>\n",
       "      <td>0</td>\n",
       "      <td>0</td>\n",
       "    </tr>\n",
       "  </tbody>\n",
       "</table>\n",
       "<p>5 rows × 135635 columns</p>\n",
       "</div>"
      ],
      "text/plain": [
       "   (, , )  (, , 1)  (, , 6)  (, , 6th)  (, , at)  (, , bath★)  (, , bedroom)  \\\n",
       "0       0        0        0          0         0            0              0   \n",
       "1       0        0        0          0         0            0              0   \n",
       "2       0        0        0          0         0            0              0   \n",
       "3       0        0        0          0         0            0              0   \n",
       "4       0        0        0          0         0            0              0   \n",
       "\n",
       "   (, , brick)  (, , can)  (, , central)        ...          (넓은, 로맨틱, 2인용)  \\\n",
       "0            0          0              0        ...                       0   \n",
       "1            0          0              0        ...                       0   \n",
       "2            0          0              0        ...                       0   \n",
       "3            0          0              0        ...                       0   \n",
       "4            0          0              0        ...                       0   \n",
       "\n",
       "   (다락방단독, 배스룸키친, 쉐어)  (로맨틱, 2인용, 다락방단독)  (빅토리안, 하우스, 엄청)  (엄청, 넓은, 로맨틱)  \\\n",
       "0                   0                  0                0              0   \n",
       "1                   0                  0                0              0   \n",
       "2                   0                  0                0              0   \n",
       "3                   0                  0                0              0   \n",
       "4                   0                  0                0              0   \n",
       "\n",
       "   (욕실, 화장실, 깨끗하고)  (편리한, 럭셔리, 아파트)  (하우스, 엄청, 넓은)  (화장실, 깨끗하고, 교통)  \\\n",
       "0                0                0              0                0   \n",
       "1                0                0              0                0   \n",
       "2                0                0              0                0   \n",
       "3                0                0              0                0   \n",
       "4                0                0              0                0   \n",
       "\n",
       "   (️️️️️, one, bed)  \n",
       "0                  0  \n",
       "1                  0  \n",
       "2                  0  \n",
       "3                  0  \n",
       "4                  0  \n",
       "\n",
       "[5 rows x 135635 columns]"
      ]
     },
     "execution_count": 94,
     "metadata": {},
     "output_type": "execute_result"
    }
   ],
   "source": [
    "# Create one-hot-encoded df for all trigrams\n",
    "from sklearn.preprocessing import MultiLabelBinarizer\n",
    "\n",
    "mlb = MultiLabelBinarizer()\n",
    "\n",
    "lasso_trigram_df = pd.DataFrame(mlb.fit_transform(listings_df2['trigrams']),columns=mlb.classes_, index=listings_df2.index)\n",
    "lasso_trigram_df.head()"
   ]
  },
  {
   "cell_type": "code",
   "execution_count": 97,
   "metadata": {},
   "outputs": [],
   "source": [
    "# pickle the df\n",
    "filename = 'lasso_trigram_df'\n",
    "outfile = open(filename,'wb')\n",
    "pickle.dump(lasso_trigram_df.iloc[:100,:],outfile,protocol=4)\n",
    "outfile.close()"
   ]
  },
  {
   "cell_type": "code",
   "execution_count": null,
   "metadata": {},
   "outputs": [],
   "source": [
    "np.concatenate((lasso_unigram.values,lasso_bigram_df.values),axis=1)"
   ]
  },
  {
   "cell_type": "code",
   "execution_count": null,
   "metadata": {},
   "outputs": [],
   "source": [
    "lasso_ngrams_df = lasso_unigram.merge(lasso_bigram_df,left_index = True, right_index = True) "
   ]
  },
  {
   "cell_type": "code",
   "execution_count": null,
   "metadata": {},
   "outputs": [],
   "source": [
    "print(len(lasso_bigram_df.columsn),len(lasso_unigram.columns),len(lasso_ngrams_df))"
   ]
  }
 ],
 "metadata": {
  "kernelspec": {
   "display_name": "Python 3",
   "language": "python",
   "name": "python3"
  },
  "language_info": {
   "codemirror_mode": {
    "name": "ipython",
    "version": 3
   },
   "file_extension": ".py",
   "mimetype": "text/x-python",
   "name": "python",
   "nbconvert_exporter": "python",
   "pygments_lexer": "ipython3",
   "version": "3.6.8"
  }
 },
 "nbformat": 4,
 "nbformat_minor": 2
}
